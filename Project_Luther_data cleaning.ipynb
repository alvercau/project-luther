{
 "cells": [
  {
   "cell_type": "code",
   "execution_count": 1,
   "metadata": {},
   "outputs": [
    {
     "name": "stderr",
     "output_type": "stream",
     "text": [
      "/Applications/anaconda/lib/python3.6/site-packages/statsmodels/compat/pandas.py:56: FutureWarning: The pandas.core.datetools module is deprecated and will be removed in a future version. Please use the pandas.tseries module instead.\n",
      "  from pandas.core import datetools\n"
     ]
    }
   ],
   "source": [
    "from __future__ import print_function\n",
    "\n",
    "import numpy as np\n",
    "import pandas as pd"
   ]
  },
  {
   "cell_type": "code",
   "execution_count": 2,
   "metadata": {
    "collapsed": true
   },
   "outputs": [],
   "source": [
    "df = pd.read_csv('/Users/aleksandra/ds/metis/project_luther/project_luther/rotten_tomatoes2.csv')"
   ]
  },
  {
   "cell_type": "code",
   "execution_count": 3,
   "metadata": {},
   "outputs": [
    {
     "data": {
      "text/html": [
       "<div>\n",
       "<style>\n",
       "    .dataframe thead tr:only-child th {\n",
       "        text-align: right;\n",
       "    }\n",
       "\n",
       "    .dataframe thead th {\n",
       "        text-align: left;\n",
       "    }\n",
       "\n",
       "    .dataframe tbody tr th {\n",
       "        vertical-align: top;\n",
       "    }\n",
       "</style>\n",
       "<table border=\"1\" class=\"dataframe\">\n",
       "  <thead>\n",
       "    <tr style=\"text-align: right;\">\n",
       "      <th></th>\n",
       "      <th>url</th>\n",
       "      <th>score_c</th>\n",
       "      <th>rating_c</th>\n",
       "      <th>n_reviews_c</th>\n",
       "      <th>fresh_c</th>\n",
       "      <th>rotten_c</th>\n",
       "      <th>score_u</th>\n",
       "      <th>rating_u</th>\n",
       "      <th>n_reviews_u</th>\n",
       "      <th>director</th>\n",
       "      <th>box_office</th>\n",
       "      <th>runtime</th>\n",
       "      <th>in_theatre</th>\n",
       "      <th>on_disc</th>\n",
       "      <th>audience</th>\n",
       "      <th>studio</th>\n",
       "    </tr>\n",
       "  </thead>\n",
       "  <tbody>\n",
       "    <tr>\n",
       "      <th>0</th>\n",
       "      <td>https://www.rottentomatoes.com/m/resident_evil...</td>\n",
       "      <td>35</td>\n",
       "      <td>4.4/10</td>\n",
       "      <td>85</td>\n",
       "      <td>30</td>\n",
       "      <td>55</td>\n",
       "      <td>51%</td>\n",
       "      <td>5.9/10</td>\n",
       "      <td>58,527</td>\n",
       "      <td>Paul W.S. Anderson</td>\n",
       "      <td>$26,844,692</td>\n",
       "      <td>P106M</td>\n",
       "      <td>2017-01-26T16:00:00-08:00</td>\n",
       "      <td>2017-05-15T17:00:00-07:00</td>\n",
       "      <td>R (for sequences of violence throughout)</td>\n",
       "      <td>Sony Pictures</td>\n",
       "    </tr>\n",
       "    <tr>\n",
       "      <th>1</th>\n",
       "      <td>https://www.rottentomatoes.com/m/passengers_2016</td>\n",
       "      <td>31</td>\n",
       "      <td>4.9/10</td>\n",
       "      <td>229</td>\n",
       "      <td>70</td>\n",
       "      <td>159</td>\n",
       "      <td>63%</td>\n",
       "      <td>4.7/10</td>\n",
       "      <td>52,600</td>\n",
       "      <td>Morten Tyldum</td>\n",
       "      <td>$100,014,092</td>\n",
       "      <td>P116M</td>\n",
       "      <td>2016-12-20T16:00:00-08:00</td>\n",
       "      <td>2017-03-13T17:00:00-07:00</td>\n",
       "      <td>PG-13 (for sexuality, nudity and action/peril)</td>\n",
       "      <td>Columbia Pictures</td>\n",
       "    </tr>\n",
       "  </tbody>\n",
       "</table>\n",
       "</div>"
      ],
      "text/plain": [
       "                                                 url  score_c rating_c  \\\n",
       "0  https://www.rottentomatoes.com/m/resident_evil...       35   4.4/10   \n",
       "1   https://www.rottentomatoes.com/m/passengers_2016       31   4.9/10   \n",
       "\n",
       "   n_reviews_c  fresh_c  rotten_c score_u rating_u n_reviews_u  \\\n",
       "0           85       30        55     51%   5.9/10      58,527   \n",
       "1          229       70       159     63%   4.7/10      52,600   \n",
       "\n",
       "             director    box_office runtime                 in_theatre  \\\n",
       "0  Paul W.S. Anderson   $26,844,692   P106M  2017-01-26T16:00:00-08:00   \n",
       "1       Morten Tyldum  $100,014,092   P116M  2016-12-20T16:00:00-08:00   \n",
       "\n",
       "                     on_disc                                        audience  \\\n",
       "0  2017-05-15T17:00:00-07:00        R (for sequences of violence throughout)   \n",
       "1  2017-03-13T17:00:00-07:00  PG-13 (for sexuality, nudity and action/peril)   \n",
       "\n",
       "              studio  \n",
       "0      Sony Pictures  \n",
       "1  Columbia Pictures  "
      ]
     },
     "execution_count": 3,
     "metadata": {},
     "output_type": "execute_result"
    }
   ],
   "source": [
    "df.head(2)"
   ]
  },
  {
   "cell_type": "code",
   "execution_count": 4,
   "metadata": {},
   "outputs": [
    {
     "data": {
      "text/plain": [
       "1484"
      ]
     },
     "execution_count": 4,
     "metadata": {},
     "output_type": "execute_result"
    }
   ],
   "source": [
    "len(df)"
   ]
  },
  {
   "cell_type": "code",
   "execution_count": 5,
   "metadata": {},
   "outputs": [
    {
     "data": {
      "text/plain": [
       "url            object\n",
       "score_c         int64\n",
       "rating_c       object\n",
       "n_reviews_c     int64\n",
       "fresh_c         int64\n",
       "rotten_c        int64\n",
       "score_u        object\n",
       "rating_u       object\n",
       "n_reviews_u    object\n",
       "director       object\n",
       "box_office     object\n",
       "runtime        object\n",
       "in_theatre     object\n",
       "on_disc        object\n",
       "audience       object\n",
       "studio         object\n",
       "dtype: object"
      ]
     },
     "execution_count": 5,
     "metadata": {},
     "output_type": "execute_result"
    }
   ],
   "source": [
    "df.dtypes"
   ]
  },
  {
   "cell_type": "markdown",
   "metadata": {},
   "source": [
    "Several columns are in the wrong dtype. Clean the data!"
   ]
  },
  {
   "cell_type": "code",
   "execution_count": 6,
   "metadata": {
    "collapsed": true
   },
   "outputs": [],
   "source": [
    "df.rating_c = df.rating_c.str[:-3]"
   ]
  },
  {
   "cell_type": "code",
   "execution_count": 7,
   "metadata": {
    "collapsed": true
   },
   "outputs": [],
   "source": [
    "df.rating_c = pd.to_numeric(df.rating_c)/10"
   ]
  },
  {
   "cell_type": "code",
   "execution_count": 8,
   "metadata": {
    "collapsed": true
   },
   "outputs": [],
   "source": [
    "df.rating_u = df.rating_u.str[:-3]\n",
    "df.rating_u = pd.to_numeric(df.rating_u)/5"
   ]
  },
  {
   "cell_type": "code",
   "execution_count": 9,
   "metadata": {
    "collapsed": true
   },
   "outputs": [],
   "source": [
    "df.score_u = pd.to_numeric(df.score_u.str.strip('%'))"
   ]
  },
  {
   "cell_type": "code",
   "execution_count": 10,
   "metadata": {
    "collapsed": true
   },
   "outputs": [],
   "source": [
    "df.n_reviews_u = pd.to_numeric(df.n_reviews_u.str.replace(',', ''))"
   ]
  },
  {
   "cell_type": "code",
   "execution_count": 11,
   "metadata": {
    "collapsed": true
   },
   "outputs": [],
   "source": [
    "df.box_office = df.box_office.str.replace(',', '').replace('$', '')"
   ]
  },
  {
   "cell_type": "code",
   "execution_count": 12,
   "metadata": {
    "collapsed": true
   },
   "outputs": [],
   "source": [
    "df.box_office = pd.to_numeric(df.box_office.str.replace('$', ''))"
   ]
  },
  {
   "cell_type": "code",
   "execution_count": 13,
   "metadata": {
    "collapsed": true
   },
   "outputs": [],
   "source": [
    "df.runtime = df.runtime.str.replace('P','')"
   ]
  },
  {
   "cell_type": "code",
   "execution_count": 14,
   "metadata": {
    "collapsed": true
   },
   "outputs": [],
   "source": [
    "df.runtime = pd.to_numeric(df.runtime.str.replace('M', ''))"
   ]
  },
  {
   "cell_type": "code",
   "execution_count": 15,
   "metadata": {
    "collapsed": true
   },
   "outputs": [],
   "source": [
    "df.in_theatre = pd.to_datetime(df.in_theatre)"
   ]
  },
  {
   "cell_type": "code",
   "execution_count": 16,
   "metadata": {
    "collapsed": true
   },
   "outputs": [],
   "source": [
    "df.on_disc = pd.to_datetime(df.on_disc)"
   ]
  },
  {
   "cell_type": "code",
   "execution_count": 17,
   "metadata": {},
   "outputs": [
    {
     "data": {
      "text/html": [
       "<div>\n",
       "<style>\n",
       "    .dataframe thead tr:only-child th {\n",
       "        text-align: right;\n",
       "    }\n",
       "\n",
       "    .dataframe thead th {\n",
       "        text-align: left;\n",
       "    }\n",
       "\n",
       "    .dataframe tbody tr th {\n",
       "        vertical-align: top;\n",
       "    }\n",
       "</style>\n",
       "<table border=\"1\" class=\"dataframe\">\n",
       "  <thead>\n",
       "    <tr style=\"text-align: right;\">\n",
       "      <th></th>\n",
       "      <th>url</th>\n",
       "      <th>score_c</th>\n",
       "      <th>rating_c</th>\n",
       "      <th>n_reviews_c</th>\n",
       "      <th>fresh_c</th>\n",
       "      <th>rotten_c</th>\n",
       "      <th>score_u</th>\n",
       "      <th>rating_u</th>\n",
       "      <th>n_reviews_u</th>\n",
       "      <th>director</th>\n",
       "      <th>box_office</th>\n",
       "      <th>runtime</th>\n",
       "      <th>in_theatre</th>\n",
       "      <th>on_disc</th>\n",
       "      <th>audience</th>\n",
       "      <th>studio</th>\n",
       "    </tr>\n",
       "  </thead>\n",
       "  <tbody>\n",
       "    <tr>\n",
       "      <th>0</th>\n",
       "      <td>https://www.rottentomatoes.com/m/resident_evil...</td>\n",
       "      <td>35</td>\n",
       "      <td>0.44</td>\n",
       "      <td>85</td>\n",
       "      <td>30</td>\n",
       "      <td>55</td>\n",
       "      <td>51.0</td>\n",
       "      <td>1.18</td>\n",
       "      <td>58527</td>\n",
       "      <td>Paul W.S. Anderson</td>\n",
       "      <td>26844692.0</td>\n",
       "      <td>106.0</td>\n",
       "      <td>2017-01-27</td>\n",
       "      <td>2017-05-16</td>\n",
       "      <td>R (for sequences of violence throughout)</td>\n",
       "      <td>Sony Pictures</td>\n",
       "    </tr>\n",
       "    <tr>\n",
       "      <th>1</th>\n",
       "      <td>https://www.rottentomatoes.com/m/passengers_2016</td>\n",
       "      <td>31</td>\n",
       "      <td>0.49</td>\n",
       "      <td>229</td>\n",
       "      <td>70</td>\n",
       "      <td>159</td>\n",
       "      <td>63.0</td>\n",
       "      <td>0.94</td>\n",
       "      <td>52600</td>\n",
       "      <td>Morten Tyldum</td>\n",
       "      <td>100014092.0</td>\n",
       "      <td>116.0</td>\n",
       "      <td>2016-12-21</td>\n",
       "      <td>2017-03-14</td>\n",
       "      <td>PG-13 (for sexuality, nudity and action/peril)</td>\n",
       "      <td>Columbia Pictures</td>\n",
       "    </tr>\n",
       "    <tr>\n",
       "      <th>2</th>\n",
       "      <td>https://www.rottentomatoes.com/m/beauty_and_th...</td>\n",
       "      <td>32</td>\n",
       "      <td>0.46</td>\n",
       "      <td>19</td>\n",
       "      <td>6</td>\n",
       "      <td>13</td>\n",
       "      <td>53.0</td>\n",
       "      <td>0.60</td>\n",
       "      <td>3681</td>\n",
       "      <td>Christophe Gans</td>\n",
       "      <td>NaN</td>\n",
       "      <td>112.0</td>\n",
       "      <td>2014-01-03</td>\n",
       "      <td>2017-02-21</td>\n",
       "      <td>PG-13 (for some action violence, peril and fri...</td>\n",
       "      <td>NaN</td>\n",
       "    </tr>\n",
       "    <tr>\n",
       "      <th>3</th>\n",
       "      <td>https://www.rottentomatoes.com/m/fantastic_bea...</td>\n",
       "      <td>73</td>\n",
       "      <td>0.68</td>\n",
       "      <td>271</td>\n",
       "      <td>198</td>\n",
       "      <td>73</td>\n",
       "      <td>79.0</td>\n",
       "      <td>1.40</td>\n",
       "      <td>84702</td>\n",
       "      <td>David Yates (II)</td>\n",
       "      <td>234018657.0</td>\n",
       "      <td>132.0</td>\n",
       "      <td>2016-11-18</td>\n",
       "      <td>2017-03-28</td>\n",
       "      <td>PG-13 (for some fantasy action violence)</td>\n",
       "      <td>Warner Bros. Pictures</td>\n",
       "    </tr>\n",
       "    <tr>\n",
       "      <th>4</th>\n",
       "      <td>https://www.rottentomatoes.com/m/absolutely_an...</td>\n",
       "      <td>18</td>\n",
       "      <td>0.37</td>\n",
       "      <td>40</td>\n",
       "      <td>7</td>\n",
       "      <td>33</td>\n",
       "      <td>31.0</td>\n",
       "      <td>0.40</td>\n",
       "      <td>3080</td>\n",
       "      <td>Terry Jones</td>\n",
       "      <td>673096.0</td>\n",
       "      <td>85.0</td>\n",
       "      <td>2017-05-12</td>\n",
       "      <td>2017-06-27</td>\n",
       "      <td>NR (for language including sexual references, ...</td>\n",
       "      <td>Atlas Distribution</td>\n",
       "    </tr>\n",
       "  </tbody>\n",
       "</table>\n",
       "</div>"
      ],
      "text/plain": [
       "                                                 url  score_c  rating_c  \\\n",
       "0  https://www.rottentomatoes.com/m/resident_evil...       35      0.44   \n",
       "1   https://www.rottentomatoes.com/m/passengers_2016       31      0.49   \n",
       "2  https://www.rottentomatoes.com/m/beauty_and_th...       32      0.46   \n",
       "3  https://www.rottentomatoes.com/m/fantastic_bea...       73      0.68   \n",
       "4  https://www.rottentomatoes.com/m/absolutely_an...       18      0.37   \n",
       "\n",
       "   n_reviews_c  fresh_c  rotten_c  score_u  rating_u  n_reviews_u  \\\n",
       "0           85       30        55     51.0      1.18        58527   \n",
       "1          229       70       159     63.0      0.94        52600   \n",
       "2           19        6        13     53.0      0.60         3681   \n",
       "3          271      198        73     79.0      1.40        84702   \n",
       "4           40        7        33     31.0      0.40         3080   \n",
       "\n",
       "             director   box_office  runtime in_theatre    on_disc  \\\n",
       "0  Paul W.S. Anderson   26844692.0    106.0 2017-01-27 2017-05-16   \n",
       "1       Morten Tyldum  100014092.0    116.0 2016-12-21 2017-03-14   \n",
       "2     Christophe Gans          NaN    112.0 2014-01-03 2017-02-21   \n",
       "3    David Yates (II)  234018657.0    132.0 2016-11-18 2017-03-28   \n",
       "4         Terry Jones     673096.0     85.0 2017-05-12 2017-06-27   \n",
       "\n",
       "                                            audience                 studio  \n",
       "0           R (for sequences of violence throughout)          Sony Pictures  \n",
       "1     PG-13 (for sexuality, nudity and action/peril)      Columbia Pictures  \n",
       "2  PG-13 (for some action violence, peril and fri...                    NaN  \n",
       "3           PG-13 (for some fantasy action violence)  Warner Bros. Pictures  \n",
       "4  NR (for language including sexual references, ...     Atlas Distribution  "
      ]
     },
     "execution_count": 17,
     "metadata": {},
     "output_type": "execute_result"
    }
   ],
   "source": [
    "df.head()"
   ]
  },
  {
   "cell_type": "code",
   "execution_count": 18,
   "metadata": {},
   "outputs": [
    {
     "data": {
      "text/plain": [
       "url                    object\n",
       "score_c                 int64\n",
       "rating_c              float64\n",
       "n_reviews_c             int64\n",
       "fresh_c                 int64\n",
       "rotten_c                int64\n",
       "score_u               float64\n",
       "rating_u              float64\n",
       "n_reviews_u             int64\n",
       "director               object\n",
       "box_office            float64\n",
       "runtime               float64\n",
       "in_theatre     datetime64[ns]\n",
       "on_disc        datetime64[ns]\n",
       "audience               object\n",
       "studio                 object\n",
       "dtype: object"
      ]
     },
     "execution_count": 18,
     "metadata": {},
     "output_type": "execute_result"
    }
   ],
   "source": [
    "df.dtypes"
   ]
  },
  {
   "cell_type": "code",
   "execution_count": 19,
   "metadata": {
    "collapsed": true
   },
   "outputs": [],
   "source": [
    "df['audience_rating'] = df.audience.str.split()"
   ]
  },
  {
   "cell_type": "code",
   "execution_count": 20,
   "metadata": {
    "collapsed": true
   },
   "outputs": [],
   "source": [
    "df.audience_rating = [e[0] for e in df.audience_rating]"
   ]
  },
  {
   "cell_type": "code",
   "execution_count": 21,
   "metadata": {},
   "outputs": [
    {
     "data": {
      "text/html": [
       "<div>\n",
       "<style>\n",
       "    .dataframe thead tr:only-child th {\n",
       "        text-align: right;\n",
       "    }\n",
       "\n",
       "    .dataframe thead th {\n",
       "        text-align: left;\n",
       "    }\n",
       "\n",
       "    .dataframe tbody tr th {\n",
       "        vertical-align: top;\n",
       "    }\n",
       "</style>\n",
       "<table border=\"1\" class=\"dataframe\">\n",
       "  <thead>\n",
       "    <tr style=\"text-align: right;\">\n",
       "      <th></th>\n",
       "      <th>url</th>\n",
       "      <th>score_c</th>\n",
       "      <th>rating_c</th>\n",
       "      <th>n_reviews_c</th>\n",
       "      <th>fresh_c</th>\n",
       "      <th>rotten_c</th>\n",
       "      <th>score_u</th>\n",
       "      <th>rating_u</th>\n",
       "      <th>n_reviews_u</th>\n",
       "      <th>director</th>\n",
       "      <th>box_office</th>\n",
       "      <th>runtime</th>\n",
       "      <th>in_theatre</th>\n",
       "      <th>on_disc</th>\n",
       "      <th>audience</th>\n",
       "      <th>studio</th>\n",
       "      <th>audience_rating</th>\n",
       "    </tr>\n",
       "  </thead>\n",
       "  <tbody>\n",
       "    <tr>\n",
       "      <th>0</th>\n",
       "      <td>https://www.rottentomatoes.com/m/resident_evil...</td>\n",
       "      <td>35</td>\n",
       "      <td>0.44</td>\n",
       "      <td>85</td>\n",
       "      <td>30</td>\n",
       "      <td>55</td>\n",
       "      <td>51.0</td>\n",
       "      <td>1.18</td>\n",
       "      <td>58527</td>\n",
       "      <td>Paul W.S. Anderson</td>\n",
       "      <td>26844692.0</td>\n",
       "      <td>106.0</td>\n",
       "      <td>2017-01-27</td>\n",
       "      <td>2017-05-16</td>\n",
       "      <td>R (for sequences of violence throughout)</td>\n",
       "      <td>Sony Pictures</td>\n",
       "      <td>R</td>\n",
       "    </tr>\n",
       "    <tr>\n",
       "      <th>1</th>\n",
       "      <td>https://www.rottentomatoes.com/m/passengers_2016</td>\n",
       "      <td>31</td>\n",
       "      <td>0.49</td>\n",
       "      <td>229</td>\n",
       "      <td>70</td>\n",
       "      <td>159</td>\n",
       "      <td>63.0</td>\n",
       "      <td>0.94</td>\n",
       "      <td>52600</td>\n",
       "      <td>Morten Tyldum</td>\n",
       "      <td>100014092.0</td>\n",
       "      <td>116.0</td>\n",
       "      <td>2016-12-21</td>\n",
       "      <td>2017-03-14</td>\n",
       "      <td>PG-13 (for sexuality, nudity and action/peril)</td>\n",
       "      <td>Columbia Pictures</td>\n",
       "      <td>PG-13</td>\n",
       "    </tr>\n",
       "  </tbody>\n",
       "</table>\n",
       "</div>"
      ],
      "text/plain": [
       "                                                 url  score_c  rating_c  \\\n",
       "0  https://www.rottentomatoes.com/m/resident_evil...       35      0.44   \n",
       "1   https://www.rottentomatoes.com/m/passengers_2016       31      0.49   \n",
       "\n",
       "   n_reviews_c  fresh_c  rotten_c  score_u  rating_u  n_reviews_u  \\\n",
       "0           85       30        55     51.0      1.18        58527   \n",
       "1          229       70       159     63.0      0.94        52600   \n",
       "\n",
       "             director   box_office  runtime in_theatre    on_disc  \\\n",
       "0  Paul W.S. Anderson   26844692.0    106.0 2017-01-27 2017-05-16   \n",
       "1       Morten Tyldum  100014092.0    116.0 2016-12-21 2017-03-14   \n",
       "\n",
       "                                         audience             studio  \\\n",
       "0        R (for sequences of violence throughout)      Sony Pictures   \n",
       "1  PG-13 (for sexuality, nudity and action/peril)  Columbia Pictures   \n",
       "\n",
       "  audience_rating  \n",
       "0               R  \n",
       "1           PG-13  "
      ]
     },
     "execution_count": 21,
     "metadata": {},
     "output_type": "execute_result"
    }
   ],
   "source": [
    "df.head(2)"
   ]
  },
  {
   "cell_type": "code",
   "execution_count": 22,
   "metadata": {},
   "outputs": [
    {
     "data": {
      "text/plain": [
       "(1484, 17)"
      ]
     },
     "execution_count": 22,
     "metadata": {},
     "output_type": "execute_result"
    }
   ],
   "source": [
    "df.shape"
   ]
  },
  {
   "cell_type": "markdown",
   "metadata": {},
   "source": [
    "Merge this df with the df obtained with Selenium, containing urls and titles. Merge on url."
   ]
  },
  {
   "cell_type": "code",
   "execution_count": 23,
   "metadata": {
    "collapsed": true
   },
   "outputs": [],
   "source": [
    "df_sel = pd.read_pickle('/Users/aleksandra/ds/metis/project_luther/all_data.pkl')"
   ]
  },
  {
   "cell_type": "code",
   "execution_count": 24,
   "metadata": {},
   "outputs": [
    {
     "data": {
      "text/html": [
       "<div>\n",
       "<style>\n",
       "    .dataframe thead tr:only-child th {\n",
       "        text-align: right;\n",
       "    }\n",
       "\n",
       "    .dataframe thead th {\n",
       "        text-align: left;\n",
       "    }\n",
       "\n",
       "    .dataframe tbody tr th {\n",
       "        vertical-align: top;\n",
       "    }\n",
       "</style>\n",
       "<table border=\"1\" class=\"dataframe\">\n",
       "  <thead>\n",
       "    <tr style=\"text-align: right;\">\n",
       "      <th></th>\n",
       "      <th>title</th>\n",
       "      <th>url</th>\n",
       "    </tr>\n",
       "  </thead>\n",
       "  <tbody>\n",
       "    <tr>\n",
       "      <th>0</th>\n",
       "      <td>Resident Evil: The Final Chapter</td>\n",
       "      <td>https://www.rottentomatoes.com/m/resident_evil...</td>\n",
       "    </tr>\n",
       "    <tr>\n",
       "      <th>1</th>\n",
       "      <td>Passengers</td>\n",
       "      <td>https://www.rottentomatoes.com/m/passengers_2016</td>\n",
       "    </tr>\n",
       "    <tr>\n",
       "      <th>2</th>\n",
       "      <td>Beauty And The Beast (La Belle Et La Bête)</td>\n",
       "      <td>https://www.rottentomatoes.com/m/beauty_and_th...</td>\n",
       "    </tr>\n",
       "    <tr>\n",
       "      <th>3</th>\n",
       "      <td>Fantastic Beasts And Where To Find Them</td>\n",
       "      <td>https://www.rottentomatoes.com/m/fantastic_bea...</td>\n",
       "    </tr>\n",
       "    <tr>\n",
       "      <th>4</th>\n",
       "      <td>Absolutely Anything</td>\n",
       "      <td>https://www.rottentomatoes.com/m/absolutely_an...</td>\n",
       "    </tr>\n",
       "  </tbody>\n",
       "</table>\n",
       "</div>"
      ],
      "text/plain": [
       "                                        title  \\\n",
       "0            Resident Evil: The Final Chapter   \n",
       "1                                  Passengers   \n",
       "2  Beauty And The Beast (La Belle Et La Bête)   \n",
       "3     Fantastic Beasts And Where To Find Them   \n",
       "4                         Absolutely Anything   \n",
       "\n",
       "                                                 url  \n",
       "0  https://www.rottentomatoes.com/m/resident_evil...  \n",
       "1   https://www.rottentomatoes.com/m/passengers_2016  \n",
       "2  https://www.rottentomatoes.com/m/beauty_and_th...  \n",
       "3  https://www.rottentomatoes.com/m/fantastic_bea...  \n",
       "4  https://www.rottentomatoes.com/m/absolutely_an...  "
      ]
     },
     "execution_count": 24,
     "metadata": {},
     "output_type": "execute_result"
    }
   ],
   "source": [
    "df_sel.head()"
   ]
  },
  {
   "cell_type": "code",
   "execution_count": 25,
   "metadata": {},
   "outputs": [
    {
     "data": {
      "text/plain": [
       "1489"
      ]
     },
     "execution_count": 25,
     "metadata": {},
     "output_type": "execute_result"
    }
   ],
   "source": [
    "len(df_sel)"
   ]
  },
  {
   "cell_type": "code",
   "execution_count": 26,
   "metadata": {},
   "outputs": [
    {
     "data": {
      "text/plain": [
       "1484"
      ]
     },
     "execution_count": 26,
     "metadata": {},
     "output_type": "execute_result"
    }
   ],
   "source": [
    "len(df)"
   ]
  },
  {
   "cell_type": "code",
   "execution_count": 27,
   "metadata": {
    "collapsed": true
   },
   "outputs": [],
   "source": [
    "df_all_data = df_sel.merge(df, how = 'left', left_on = 'url', right_on='url')"
   ]
  },
  {
   "cell_type": "code",
   "execution_count": 28,
   "metadata": {},
   "outputs": [
    {
     "data": {
      "text/html": [
       "<div>\n",
       "<style>\n",
       "    .dataframe thead tr:only-child th {\n",
       "        text-align: right;\n",
       "    }\n",
       "\n",
       "    .dataframe thead th {\n",
       "        text-align: left;\n",
       "    }\n",
       "\n",
       "    .dataframe tbody tr th {\n",
       "        vertical-align: top;\n",
       "    }\n",
       "</style>\n",
       "<table border=\"1\" class=\"dataframe\">\n",
       "  <thead>\n",
       "    <tr style=\"text-align: right;\">\n",
       "      <th></th>\n",
       "      <th>title</th>\n",
       "      <th>url</th>\n",
       "      <th>score_c</th>\n",
       "      <th>rating_c</th>\n",
       "      <th>n_reviews_c</th>\n",
       "      <th>fresh_c</th>\n",
       "      <th>rotten_c</th>\n",
       "      <th>score_u</th>\n",
       "      <th>rating_u</th>\n",
       "      <th>n_reviews_u</th>\n",
       "      <th>director</th>\n",
       "      <th>box_office</th>\n",
       "      <th>runtime</th>\n",
       "      <th>in_theatre</th>\n",
       "      <th>on_disc</th>\n",
       "      <th>audience</th>\n",
       "      <th>studio</th>\n",
       "      <th>audience_rating</th>\n",
       "    </tr>\n",
       "  </thead>\n",
       "  <tbody>\n",
       "    <tr>\n",
       "      <th>0</th>\n",
       "      <td>Resident Evil: The Final Chapter</td>\n",
       "      <td>https://www.rottentomatoes.com/m/resident_evil...</td>\n",
       "      <td>35.0</td>\n",
       "      <td>0.44</td>\n",
       "      <td>85.0</td>\n",
       "      <td>30.0</td>\n",
       "      <td>55.0</td>\n",
       "      <td>51.0</td>\n",
       "      <td>1.18</td>\n",
       "      <td>58527.0</td>\n",
       "      <td>Paul W.S. Anderson</td>\n",
       "      <td>26844692.0</td>\n",
       "      <td>106.0</td>\n",
       "      <td>2017-01-27</td>\n",
       "      <td>2017-05-16</td>\n",
       "      <td>R (for sequences of violence throughout)</td>\n",
       "      <td>Sony Pictures</td>\n",
       "      <td>R</td>\n",
       "    </tr>\n",
       "    <tr>\n",
       "      <th>1</th>\n",
       "      <td>Passengers</td>\n",
       "      <td>https://www.rottentomatoes.com/m/passengers_2016</td>\n",
       "      <td>31.0</td>\n",
       "      <td>0.49</td>\n",
       "      <td>229.0</td>\n",
       "      <td>70.0</td>\n",
       "      <td>159.0</td>\n",
       "      <td>63.0</td>\n",
       "      <td>0.94</td>\n",
       "      <td>52600.0</td>\n",
       "      <td>Morten Tyldum</td>\n",
       "      <td>100014092.0</td>\n",
       "      <td>116.0</td>\n",
       "      <td>2016-12-21</td>\n",
       "      <td>2017-03-14</td>\n",
       "      <td>PG-13 (for sexuality, nudity and action/peril)</td>\n",
       "      <td>Columbia Pictures</td>\n",
       "      <td>PG-13</td>\n",
       "    </tr>\n",
       "    <tr>\n",
       "      <th>2</th>\n",
       "      <td>Beauty And The Beast (La Belle Et La Bête)</td>\n",
       "      <td>https://www.rottentomatoes.com/m/beauty_and_th...</td>\n",
       "      <td>32.0</td>\n",
       "      <td>0.46</td>\n",
       "      <td>19.0</td>\n",
       "      <td>6.0</td>\n",
       "      <td>13.0</td>\n",
       "      <td>53.0</td>\n",
       "      <td>0.60</td>\n",
       "      <td>3681.0</td>\n",
       "      <td>Christophe Gans</td>\n",
       "      <td>NaN</td>\n",
       "      <td>112.0</td>\n",
       "      <td>2014-01-03</td>\n",
       "      <td>2017-02-21</td>\n",
       "      <td>PG-13 (for some action violence, peril and fri...</td>\n",
       "      <td>NaN</td>\n",
       "      <td>PG-13</td>\n",
       "    </tr>\n",
       "    <tr>\n",
       "      <th>3</th>\n",
       "      <td>Fantastic Beasts And Where To Find Them</td>\n",
       "      <td>https://www.rottentomatoes.com/m/fantastic_bea...</td>\n",
       "      <td>73.0</td>\n",
       "      <td>0.68</td>\n",
       "      <td>271.0</td>\n",
       "      <td>198.0</td>\n",
       "      <td>73.0</td>\n",
       "      <td>79.0</td>\n",
       "      <td>1.40</td>\n",
       "      <td>84702.0</td>\n",
       "      <td>David Yates (II)</td>\n",
       "      <td>234018657.0</td>\n",
       "      <td>132.0</td>\n",
       "      <td>2016-11-18</td>\n",
       "      <td>2017-03-28</td>\n",
       "      <td>PG-13 (for some fantasy action violence)</td>\n",
       "      <td>Warner Bros. Pictures</td>\n",
       "      <td>PG-13</td>\n",
       "    </tr>\n",
       "    <tr>\n",
       "      <th>4</th>\n",
       "      <td>Absolutely Anything</td>\n",
       "      <td>https://www.rottentomatoes.com/m/absolutely_an...</td>\n",
       "      <td>18.0</td>\n",
       "      <td>0.37</td>\n",
       "      <td>40.0</td>\n",
       "      <td>7.0</td>\n",
       "      <td>33.0</td>\n",
       "      <td>31.0</td>\n",
       "      <td>0.40</td>\n",
       "      <td>3080.0</td>\n",
       "      <td>Terry Jones</td>\n",
       "      <td>673096.0</td>\n",
       "      <td>85.0</td>\n",
       "      <td>2017-05-12</td>\n",
       "      <td>2017-06-27</td>\n",
       "      <td>NR (for language including sexual references, ...</td>\n",
       "      <td>Atlas Distribution</td>\n",
       "      <td>NR</td>\n",
       "    </tr>\n",
       "  </tbody>\n",
       "</table>\n",
       "</div>"
      ],
      "text/plain": [
       "                                        title  \\\n",
       "0            Resident Evil: The Final Chapter   \n",
       "1                                  Passengers   \n",
       "2  Beauty And The Beast (La Belle Et La Bête)   \n",
       "3     Fantastic Beasts And Where To Find Them   \n",
       "4                         Absolutely Anything   \n",
       "\n",
       "                                                 url  score_c  rating_c  \\\n",
       "0  https://www.rottentomatoes.com/m/resident_evil...     35.0      0.44   \n",
       "1   https://www.rottentomatoes.com/m/passengers_2016     31.0      0.49   \n",
       "2  https://www.rottentomatoes.com/m/beauty_and_th...     32.0      0.46   \n",
       "3  https://www.rottentomatoes.com/m/fantastic_bea...     73.0      0.68   \n",
       "4  https://www.rottentomatoes.com/m/absolutely_an...     18.0      0.37   \n",
       "\n",
       "   n_reviews_c  fresh_c  rotten_c  score_u  rating_u  n_reviews_u  \\\n",
       "0         85.0     30.0      55.0     51.0      1.18      58527.0   \n",
       "1        229.0     70.0     159.0     63.0      0.94      52600.0   \n",
       "2         19.0      6.0      13.0     53.0      0.60       3681.0   \n",
       "3        271.0    198.0      73.0     79.0      1.40      84702.0   \n",
       "4         40.0      7.0      33.0     31.0      0.40       3080.0   \n",
       "\n",
       "             director   box_office  runtime in_theatre    on_disc  \\\n",
       "0  Paul W.S. Anderson   26844692.0    106.0 2017-01-27 2017-05-16   \n",
       "1       Morten Tyldum  100014092.0    116.0 2016-12-21 2017-03-14   \n",
       "2     Christophe Gans          NaN    112.0 2014-01-03 2017-02-21   \n",
       "3    David Yates (II)  234018657.0    132.0 2016-11-18 2017-03-28   \n",
       "4         Terry Jones     673096.0     85.0 2017-05-12 2017-06-27   \n",
       "\n",
       "                                            audience                 studio  \\\n",
       "0           R (for sequences of violence throughout)          Sony Pictures   \n",
       "1     PG-13 (for sexuality, nudity and action/peril)      Columbia Pictures   \n",
       "2  PG-13 (for some action violence, peril and fri...                    NaN   \n",
       "3           PG-13 (for some fantasy action violence)  Warner Bros. Pictures   \n",
       "4  NR (for language including sexual references, ...     Atlas Distribution   \n",
       "\n",
       "  audience_rating  \n",
       "0               R  \n",
       "1           PG-13  \n",
       "2           PG-13  \n",
       "3           PG-13  \n",
       "4              NR  "
      ]
     },
     "execution_count": 28,
     "metadata": {},
     "output_type": "execute_result"
    }
   ],
   "source": [
    "df_all_data.head()"
   ]
  },
  {
   "cell_type": "code",
   "execution_count": 29,
   "metadata": {},
   "outputs": [
    {
     "data": {
      "text/plain": [
       "1489"
      ]
     },
     "execution_count": 29,
     "metadata": {},
     "output_type": "execute_result"
    }
   ],
   "source": [
    "len(df_all_data)"
   ]
  },
  {
   "cell_type": "code",
   "execution_count": 30,
   "metadata": {},
   "outputs": [
    {
     "data": {
      "text/plain": [
       "221"
      ]
     },
     "execution_count": 30,
     "metadata": {},
     "output_type": "execute_result"
    }
   ],
   "source": [
    "len(df_all_data[df_all_data.rating_c.isnull()])"
   ]
  },
  {
   "cell_type": "markdown",
   "metadata": {},
   "source": [
    "221 rows do not correspond in the dfs. I know that 5 movies were not scraped (log Scrapy). What happened with the remaining 226 movies?  \n",
    "\n",
    "First step: identify the urls that were problematic, then inspect them to see why there is no correspondency."
   ]
  },
  {
   "cell_type": "code",
   "execution_count": 31,
   "metadata": {
    "collapsed": true
   },
   "outputs": [],
   "source": [
    "common = df_sel.merge(df,on='url')\n",
    "not_in_df = df_sel[(~df_sel.url.isin(common.url))]"
   ]
  },
  {
   "cell_type": "code",
   "execution_count": 32,
   "metadata": {
    "collapsed": true
   },
   "outputs": [],
   "source": [
    "not_in_df_sel = df[(~df.url.isin(common.url))]"
   ]
  },
  {
   "cell_type": "code",
   "execution_count": 33,
   "metadata": {
    "collapsed": true
   },
   "outputs": [],
   "source": [
    "urls_not_in_df = list(not_in_df.url.sort_values())"
   ]
  },
  {
   "cell_type": "code",
   "execution_count": 34,
   "metadata": {
    "collapsed": true
   },
   "outputs": [],
   "source": [
    "urls_not_in_df_sel = list(not_in_df_sel.url.sort_values())"
   ]
  },
  {
   "cell_type": "code",
   "execution_count": 35,
   "metadata": {},
   "outputs": [
    {
     "data": {
      "text/plain": [
       "['https://www.rottentomatoes.com/m/1000085-2001_a_space_odyssey',\n",
       " 'https://www.rottentomatoes.com/m/10004209-tristan_and_isolde',\n",
       " 'https://www.rottentomatoes.com/m/10004504-ultraviolet',\n",
       " 'https://www.rottentomatoes.com/m/10004659-arthur',\n",
       " 'https://www.rottentomatoes.com/m/1000617-aliens',\n",
       " 'https://www.rottentomatoes.com/m/1000640-all_of_me',\n",
       " 'https://www.rottentomatoes.com/m/10007142-the_4th_dimension',\n",
       " 'https://www.rottentomatoes.com/m/1000725-always',\n",
       " 'https://www.rottentomatoes.com/m/10007898-slipstream',\n",
       " 'https://www.rottentomatoes.com/m/10007985-happening',\n",
       " 'https://www.rottentomatoes.com/m/10008502-christmas_carol',\n",
       " 'https://www.rottentomatoes.com/m/10008588-journey_3d',\n",
       " 'https://www.rottentomatoes.com/m/10009075-moon',\n",
       " 'https://www.rottentomatoes.com/m/10009083-land_of_the_lost',\n",
       " 'https://www.rottentomatoes.com/m/10009151-box',\n",
       " 'https://www.rottentomatoes.com/m/10009274-priest',\n",
       " 'https://www.rottentomatoes.com/m/10009460-the_road',\n",
       " 'https://www.rottentomatoes.com/m/10009462-g_force',\n",
       " 'https://www.rottentomatoes.com/m/10009598-surrogates',\n",
       " 'https://www.rottentomatoes.com/m/10010066-push',\n",
       " 'https://www.rottentomatoes.com/m/10010694-season_of_the_witch',\n",
       " 'https://www.rottentomatoes.com/m/10010919-objective',\n",
       " 'https://www.rottentomatoes.com/m/1001117-ape',\n",
       " 'https://www.rottentomatoes.com/m/10011388-blood_the_last_vampire',\n",
       " 'https://www.rottentomatoes.com/m/10011582-TRON_legacy',\n",
       " 'https://www.rottentomatoes.com/m/10011699-leslie_my_name_is_evil',\n",
       " 'https://www.rottentomatoes.com/m/10011815-hole',\n",
       " 'https://www.rottentomatoes.com/m/10012068-repo_men',\n",
       " 'https://www.rottentomatoes.com/m/10012256-predators',\n",
       " 'https://www.rottentomatoes.com/m/10012288-wild_hunt',\n",
       " 'https://www.rottentomatoes.com/m/1001294-asylum',\n",
       " 'https://www.rottentomatoes.com/m/1001323-attack_of_the_50_foot_woman',\n",
       " 'https://www.rottentomatoes.com/m/1001488-babes_in_toyland',\n",
       " 'https://www.rottentomatoes.com/m/1001902-beauty_and_the_beast',\n",
       " 'https://www.rottentomatoes.com/m/1002497-black_hole',\n",
       " 'https://www.rottentomatoes.com/m/1003017-brainstorm',\n",
       " 'https://www.rottentomatoes.com/m/1003033-brazil',\n",
       " 'https://www.rottentomatoes.com/m/1003217-bug',\n",
       " 'https://www.rottentomatoes.com/m/1003436-camelot',\n",
       " 'https://www.rottentomatoes.com/m/1004125-christmas_carol',\n",
       " 'https://www.rottentomatoes.com/m/1004906-creature_from_the_black_lagoon',\n",
       " 'https://www.rottentomatoes.com/m/1006364-dune',\n",
       " 'https://www.rottentomatoes.com/m/1006717-escape_from_new_york',\n",
       " 'https://www.rottentomatoes.com/m/1007003-fahrenheit_451',\n",
       " 'https://www.rottentomatoes.com/m/1007517-flash_gordon',\n",
       " 'https://www.rottentomatoes.com/m/1007600-fly',\n",
       " 'https://www.rottentomatoes.com/m/1007818-frankenstein',\n",
       " 'https://www.rottentomatoes.com/m/1007839-freaky_friday',\n",
       " 'https://www.rottentomatoes.com/m/1008015-fury',\n",
       " 'https://www.rottentomatoes.com/m/1008055-galaxy_of_terror',\n",
       " 'https://www.rottentomatoes.com/m/1009261-harvey',\n",
       " 'https://www.rottentomatoes.com/m/1009426-heaven_can_wait',\n",
       " 'https://www.rottentomatoes.com/m/1010672-invaders_from_mars',\n",
       " 'https://www.rottentomatoes.com/m/1010679-invasion_of_the_body_snatchers',\n",
       " 'https://www.rottentomatoes.com/m/1010695-invisible_man',\n",
       " 'https://www.rottentomatoes.com/m/1010752-island_of_dr_moreau',\n",
       " 'https://www.rottentomatoes.com/m/1010792-its_a_wonderful_life',\n",
       " 'https://www.rottentomatoes.com/m/1010837-jack_and_the_beanstalk',\n",
       " 'https://www.rottentomatoes.com/m/1010939-jason_and_the_argonauts',\n",
       " 'https://www.rottentomatoes.com/m/1011617-king_kong',\n",
       " 'https://www.rottentomatoes.com/m/1012164-legend',\n",
       " 'https://www.rottentomatoes.com/m/1012515-little_shop_of_horrors',\n",
       " 'https://www.rottentomatoes.com/m/1012813-love_bug',\n",
       " 'https://www.rottentomatoes.com/m/1013004-made_in_heaven',\n",
       " 'https://www.rottentomatoes.com/m/1013238-manhattan_project',\n",
       " 'https://www.rottentomatoes.com/m/1013259-mannequin',\n",
       " 'https://www.rottentomatoes.com/m/1013772-meteor',\n",
       " 'https://www.rottentomatoes.com/m/1013775-metropolis',\n",
       " 'https://www.rottentomatoes.com/m/1013867-midsummer_nights_dream',\n",
       " 'https://www.rottentomatoes.com/m/1013884-mighty_joe_young',\n",
       " 'https://www.rottentomatoes.com/m/1013970-miracle_on_34th_street',\n",
       " 'https://www.rottentomatoes.com/m/1014138-monkey_business',\n",
       " 'https://www.rottentomatoes.com/m/1014217-moonraker',\n",
       " 'https://www.rottentomatoes.com/m/1014592-mysterious_island',\n",
       " 'https://www.rottentomatoes.com/m/1015530-on_the_beach',\n",
       " 'https://www.rottentomatoes.com/m/1016213-peter_pan',\n",
       " 'https://www.rottentomatoes.com/m/1016302-picture_of_dorian_gray',\n",
       " 'https://www.rottentomatoes.com/m/1016897-pulse',\n",
       " 'https://www.rottentomatoes.com/m/1017352-red_sonja',\n",
       " 'https://www.rottentomatoes.com/m/1017488-return_to_oz',\n",
       " 'https://www.rottentomatoes.com/m/1017991-runaway',\n",
       " 'https://www.rottentomatoes.com/m/1018315-scanners',\n",
       " 'https://www.rottentomatoes.com/m/1018473-second_sight',\n",
       " 'https://www.rottentomatoes.com/m/1018702-shaggy_dog',\n",
       " 'https://www.rottentomatoes.com/m/1019026-simon',\n",
       " 'https://www.rottentomatoes.com/m/1019045-sinbad_the_sailor',\n",
       " 'https://www.rottentomatoes.com/m/1019187-sleeping_beauty',\n",
       " 'https://www.rottentomatoes.com/m/1019641-splash',\n",
       " 'https://www.rottentomatoes.com/m/1021186-them',\n",
       " 'https://www.rottentomatoes.com/m/1021211-shivers',\n",
       " 'https://www.rottentomatoes.com/m/1021242-thing',\n",
       " 'https://www.rottentomatoes.com/m/1021500-time_machine',\n",
       " 'https://www.rottentomatoes.com/m/1021640-tom_thumb',\n",
       " 'https://www.rottentomatoes.com/m/1022001-trial',\n",
       " 'https://www.rottentomatoes.com/m/1022024-trip',\n",
       " 'https://www.rottentomatoes.com/m/1022570-vice_versa',\n",
       " 'https://www.rottentomatoes.com/m/1022823-village_of_the_damned',\n",
       " 'https://www.rottentomatoes.com/m/1023137-war_of_the_worlds',\n",
       " 'https://www.rottentomatoes.com/m/1023316-weird_science',\n",
       " 'https://www.rottentomatoes.com/m/1029529-church',\n",
       " 'https://www.rottentomatoes.com/m/1029830-witches',\n",
       " 'https://www.rottentomatoes.com/m/1031086-ghost',\n",
       " 'https://www.rottentomatoes.com/m/1034067-switch',\n",
       " 'https://www.rottentomatoes.com/m/1038526-uninvited',\n",
       " 'https://www.rottentomatoes.com/m/1039460-all_i_want_for_christmas',\n",
       " 'https://www.rottentomatoes.com/m/1040378-cool_world',\n",
       " 'https://www.rottentomatoes.com/m/1040442-conquest_of_space',\n",
       " 'https://www.rottentomatoes.com/m/1041862-forever_young',\n",
       " 'https://www.rottentomatoes.com/m/1043525-lost_world',\n",
       " 'https://www.rottentomatoes.com/m/1045250-hocus_pocus',\n",
       " 'https://www.rottentomatoes.com/m/1048445-snow_white_and_the_seven_dwarfs',\n",
       " 'https://www.rottentomatoes.com/m/1049883-alice',\n",
       " 'https://www.rottentomatoes.com/m/1050388-last_man_on_earth',\n",
       " 'https://www.rottentomatoes.com/m/1053779-mask',\n",
       " 'https://www.rottentomatoes.com/m/1053942-wolf',\n",
       " 'https://www.rottentomatoes.com/m/1054125-shadow',\n",
       " 'https://www.rottentomatoes.com/m/1058426-junior',\n",
       " 'https://www.rottentomatoes.com/m/1065598-babe',\n",
       " 'https://www.rottentomatoes.com/m/1065632-prophecy',\n",
       " 'https://www.rottentomatoes.com/m/1068044-jumanji',\n",
       " 'https://www.rottentomatoes.com/m/1068461-heavy_metal',\n",
       " 'https://www.rottentomatoes.com/m/1069696-screamers',\n",
       " 'https://www.rottentomatoes.com/m/1071267-arrival',\n",
       " 'https://www.rottentomatoes.com/m/1071806-independence_day',\n",
       " 'https://www.rottentomatoes.com/m/1072083-phantom',\n",
       " 'https://www.rottentomatoes.com/m/1073182-solo',\n",
       " 'https://www.rottentomatoes.com/m/1074465-michael',\n",
       " 'https://www.rottentomatoes.com/m/1077027-batman_and_robin',\n",
       " 'https://www.rottentomatoes.com/m/1078021-contact',\n",
       " 'https://www.rottentomatoes.com/m/1078035-steel',\n",
       " 'https://www.rottentomatoes.com/m/1081203-borrowers',\n",
       " 'https://www.rottentomatoes.com/m/1081623-merlin',\n",
       " 'https://www.rottentomatoes.com/m/1083484-blade',\n",
       " 'https://www.rottentomatoes.com/m/1083934-soldier',\n",
       " 'https://www.rottentomatoes.com/m/1084878-supernova',\n",
       " 'https://www.rottentomatoes.com/m/1085867-virus',\n",
       " 'https://www.rottentomatoes.com/m/1090089-jack_frost',\n",
       " 'https://www.rottentomatoes.com/m/1090759-deep_blue_sea',\n",
       " 'https://www.rottentomatoes.com/m/1090918-midsummer_nights_dream',\n",
       " 'https://www.rottentomatoes.com/m/1095351-1095351-what_planet_are_you_from',\n",
       " 'https://www.rottentomatoes.com/m/1108185-animal',\n",
       " 'https://www.rottentomatoes.com/m/1108206-evolution',\n",
       " 'https://www.rottentomatoes.com/m/1108704-planet_of_the_apes',\n",
       " 'https://www.rottentomatoes.com/m/1111435-maze',\n",
       " 'https://www.rottentomatoes.com/m/1127652-big_empty',\n",
       " 'https://www.rottentomatoes.com/m/1142872-sky_high',\n",
       " 'https://www.rottentomatoes.com/m/1144029-appleseed',\n",
       " 'https://www.rottentomatoes.com/m/1146673-1146673-stealth',\n",
       " 'https://www.rottentomatoes.com/m/1152881-godzilla_final_wars',\n",
       " 'https://www.rottentomatoes.com/m/1154356-promise',\n",
       " 'https://www.rottentomatoes.com/m/1156283-doogal',\n",
       " 'https://www.rottentomatoes.com/m/1174279-wanted',\n",
       " 'https://www.rottentomatoes.com/m/1184415-evil_aliens',\n",
       " 'https://www.rottentomatoes.com/m/1189344-lovely_bones',\n",
       " 'https://www.rottentomatoes.com/m/1190561-imaginarium_of_doctor_parnassus',\n",
       " 'https://www.rottentomatoes.com/m/1190660-over_my_dead_body',\n",
       " 'https://www.rottentomatoes.com/m/1190970-ghost_town',\n",
       " 'https://www.rottentomatoes.com/m/1194825-phoebe_in_wonderland',\n",
       " 'https://www.rottentomatoes.com/m/1196003-princess_and_the_frog',\n",
       " 'https://www.rottentomatoes.com/m/1200731-robocop',\n",
       " 'https://www.rottentomatoes.com/m/1201402-17_again',\n",
       " 'https://www.rottentomatoes.com/m/1202110-tooth_fairy',\n",
       " 'https://www.rottentomatoes.com/m/1203528-fetching_cody',\n",
       " 'https://www.rottentomatoes.com/m/1205380-crazies',\n",
       " 'https://www.rottentomatoes.com/m/1208173-splice',\n",
       " 'https://www.rottentomatoes.com/m/1209933-puss_in_boots',\n",
       " 'https://www.rottentomatoes.com/m/1210749-eclipse',\n",
       " 'https://www.rottentomatoes.com/m/1215790-carriers',\n",
       " 'https://www.rottentomatoes.com/m/1216923-franklyn',\n",
       " 'https://www.rottentomatoes.com/m/1216924-ink',\n",
       " 'https://www.rottentomatoes.com/m/1221547-alice_in_wonderland',\n",
       " 'https://www.rottentomatoes.com/m/8-12',\n",
       " 'https://www.rottentomatoes.com/m/a-troll-in-central-park',\n",
       " 'https://www.rottentomatoes.com/m/alien-autopsy',\n",
       " 'https://www.rottentomatoes.com/m/alien-from-la-odeon-wanda',\n",
       " 'https://www.rottentomatoes.com/m/angela-2007',\n",
       " 'https://www.rottentomatoes.com/m/attack-of-the-killer-tomatoes',\n",
       " 'https://www.rottentomatoes.com/m/battle-los-angeles',\n",
       " 'https://www.rottentomatoes.com/m/beauty-and-the-beast-the-enchanted-christmas',\n",
       " 'https://www.rottentomatoes.com/m/blind-chance',\n",
       " 'https://www.rottentomatoes.com/m/deepstar-six',\n",
       " 'https://www.rottentomatoes.com/m/dragon_fire-2010',\n",
       " 'https://www.rottentomatoes.com/m/ducktales-the-movie',\n",
       " 'https://www.rottentomatoes.com/m/enders-game',\n",
       " 'https://www.rottentomatoes.com/m/ernest-scared-stupid',\n",
       " 'https://www.rottentomatoes.com/m/fading-of-the-cries',\n",
       " 'https://www.rottentomatoes.com/m/from-other-worlds',\n",
       " 'https://www.rottentomatoes.com/m/from-time-to-time',\n",
       " 'https://www.rottentomatoes.com/m/godzilla-mothra-and-king-ghidorah-giant-monsters-allout-attack',\n",
       " 'https://www.rottentomatoes.com/m/godzilla-vs-megalon',\n",
       " 'https://www.rottentomatoes.com/m/godzillas-revenge',\n",
       " 'https://www.rottentomatoes.com/m/gullivers-travels-2010',\n",
       " 'https://www.rottentomatoes.com/m/gwai-wik-re-cycle',\n",
       " 'https://www.rottentomatoes.com/m/half-light',\n",
       " 'https://www.rottentomatoes.com/m/hatchet-for-the-honeymoon-1969',\n",
       " 'https://www.rottentomatoes.com/m/heartless-2009',\n",
       " 'https://www.rottentomatoes.com/m/hellraiser-bloodline',\n",
       " 'https://www.rottentomatoes.com/m/in-the-name-of-the-king-a-dungeon-siege-tale',\n",
       " 'https://www.rottentomatoes.com/m/it-came-from-outer-space',\n",
       " 'https://www.rottentomatoes.com/m/koi-mil-gaya-i-found-someone',\n",
       " 'https://www.rottentomatoes.com/m/malice_in_wonderland-2009',\n",
       " 'https://www.rottentomatoes.com/m/monsters-2010',\n",
       " 'https://www.rottentomatoes.com/m/null',\n",
       " 'https://www.rottentomatoes.com/m/phil-the-alien',\n",
       " 'https://www.rottentomatoes.com/m/plan-9-from-outer-space',\n",
       " 'https://www.rottentomatoes.com/m/sherlock-jr',\n",
       " 'https://www.rottentomatoes.com/m/son-of-godzilla',\n",
       " 'https://www.rottentomatoes.com/m/summer-wars',\n",
       " 'https://www.rottentomatoes.com/m/the-5000-fingers-of-dr-t',\n",
       " 'https://www.rottentomatoes.com/m/the-evil-dead',\n",
       " 'https://www.rottentomatoes.com/m/the-fall-2008',\n",
       " 'https://www.rottentomatoes.com/m/the-food-of-the-gods',\n",
       " 'https://www.rottentomatoes.com/m/the-nutcracker1993',\n",
       " 'https://www.rottentomatoes.com/m/the-queen-of-spades',\n",
       " 'https://www.rottentomatoes.com/m/the-secret-of-kells',\n",
       " 'https://www.rottentomatoes.com/m/the-secret-of-roan-inish',\n",
       " 'https://www.rottentomatoes.com/m/the-terror-the-haunting-lady-of-the-shadows',\n",
       " 'https://www.rottentomatoes.com/m/the-warriors-way',\n",
       " 'https://www.rottentomatoes.com/m/waxwork-ii-lost-in-time',\n",
       " 'https://www.rottentomatoes.com/m/world-war-z',\n",
       " 'https://www.rottentomatoes.com/m/yume-ju-ya-ten-nights-of-dreams']"
      ]
     },
     "execution_count": 35,
     "metadata": {},
     "output_type": "execute_result"
    }
   ],
   "source": [
    "urls_not_in_df"
   ]
  },
  {
   "cell_type": "code",
   "execution_count": 36,
   "metadata": {},
   "outputs": [
    {
     "data": {
      "text/plain": [
       "['https://www.rottentomatoes.com/m/1000085_2001_a_space_odyssey',\n",
       " 'https://www.rottentomatoes.com/m/10004209_tristan_and_isolde',\n",
       " 'https://www.rottentomatoes.com/m/10004504_ultraviolet',\n",
       " 'https://www.rottentomatoes.com/m/10004659_arthur',\n",
       " 'https://www.rottentomatoes.com/m/1000617_aliens',\n",
       " 'https://www.rottentomatoes.com/m/1000640_all_of_me',\n",
       " 'https://www.rottentomatoes.com/m/10007142_the_4th_dimension',\n",
       " 'https://www.rottentomatoes.com/m/1000725_always',\n",
       " 'https://www.rottentomatoes.com/m/10007898_slipstream',\n",
       " 'https://www.rottentomatoes.com/m/10007985_happening',\n",
       " 'https://www.rottentomatoes.com/m/10008502_christmas_carol',\n",
       " 'https://www.rottentomatoes.com/m/10008588_journey_3d',\n",
       " 'https://www.rottentomatoes.com/m/10009075_moon',\n",
       " 'https://www.rottentomatoes.com/m/10009083_land_of_the_lost',\n",
       " 'https://www.rottentomatoes.com/m/10009151_box',\n",
       " 'https://www.rottentomatoes.com/m/10009274_priest',\n",
       " 'https://www.rottentomatoes.com/m/10009460_the_road',\n",
       " 'https://www.rottentomatoes.com/m/10009462_g_force',\n",
       " 'https://www.rottentomatoes.com/m/10009598_surrogates',\n",
       " 'https://www.rottentomatoes.com/m/10010066_push',\n",
       " 'https://www.rottentomatoes.com/m/10010694_season_of_the_witch',\n",
       " 'https://www.rottentomatoes.com/m/10010919_objective',\n",
       " 'https://www.rottentomatoes.com/m/1001117_ape',\n",
       " 'https://www.rottentomatoes.com/m/10011388_blood_the_last_vampire',\n",
       " 'https://www.rottentomatoes.com/m/10011582_TRON_legacy',\n",
       " 'https://www.rottentomatoes.com/m/10011699_leslie_my_name_is_evil',\n",
       " 'https://www.rottentomatoes.com/m/10011815_hole',\n",
       " 'https://www.rottentomatoes.com/m/10012068_repo_men',\n",
       " 'https://www.rottentomatoes.com/m/10012256_predators',\n",
       " 'https://www.rottentomatoes.com/m/10012288_wild_hunt',\n",
       " 'https://www.rottentomatoes.com/m/1001294_asylum',\n",
       " 'https://www.rottentomatoes.com/m/1001323_attack_of_the_50_foot_woman',\n",
       " 'https://www.rottentomatoes.com/m/1001488_babes_in_toyland',\n",
       " 'https://www.rottentomatoes.com/m/1001902_beauty_and_the_beast',\n",
       " 'https://www.rottentomatoes.com/m/1002497_black_hole',\n",
       " 'https://www.rottentomatoes.com/m/1003017_brainstorm',\n",
       " 'https://www.rottentomatoes.com/m/1003033_brazil',\n",
       " 'https://www.rottentomatoes.com/m/1003217_bug',\n",
       " 'https://www.rottentomatoes.com/m/1003436_camelot',\n",
       " 'https://www.rottentomatoes.com/m/1004125_christmas_carol',\n",
       " 'https://www.rottentomatoes.com/m/1004906_creature_from_the_black_lagoon',\n",
       " 'https://www.rottentomatoes.com/m/1006364_dune',\n",
       " 'https://www.rottentomatoes.com/m/1006717_escape_from_new_york',\n",
       " 'https://www.rottentomatoes.com/m/1007003_fahrenheit_451',\n",
       " 'https://www.rottentomatoes.com/m/1007517_flash_gordon',\n",
       " 'https://www.rottentomatoes.com/m/1007600_fly',\n",
       " 'https://www.rottentomatoes.com/m/1007818_frankenstein',\n",
       " 'https://www.rottentomatoes.com/m/1007839_freaky_friday',\n",
       " 'https://www.rottentomatoes.com/m/1008015_fury',\n",
       " 'https://www.rottentomatoes.com/m/1008055_galaxy_of_terror',\n",
       " 'https://www.rottentomatoes.com/m/1009261_harvey',\n",
       " 'https://www.rottentomatoes.com/m/1009426_heaven_can_wait',\n",
       " 'https://www.rottentomatoes.com/m/1010672_invaders_from_mars',\n",
       " 'https://www.rottentomatoes.com/m/1010679_invasion_of_the_body_snatchers',\n",
       " 'https://www.rottentomatoes.com/m/1010695_invisible_man',\n",
       " 'https://www.rottentomatoes.com/m/1010752_island_of_dr_moreau',\n",
       " 'https://www.rottentomatoes.com/m/1010792_its_a_wonderful_life',\n",
       " 'https://www.rottentomatoes.com/m/1010837_jack_and_the_beanstalk',\n",
       " 'https://www.rottentomatoes.com/m/1010939_jason_and_the_argonauts',\n",
       " 'https://www.rottentomatoes.com/m/1011617_king_kong',\n",
       " 'https://www.rottentomatoes.com/m/1012164_legend',\n",
       " 'https://www.rottentomatoes.com/m/1012515_little_shop_of_horrors',\n",
       " 'https://www.rottentomatoes.com/m/1012813_love_bug',\n",
       " 'https://www.rottentomatoes.com/m/1013004_made_in_heaven',\n",
       " 'https://www.rottentomatoes.com/m/1013238_manhattan_project',\n",
       " 'https://www.rottentomatoes.com/m/1013259_mannequin',\n",
       " 'https://www.rottentomatoes.com/m/1013772_meteor',\n",
       " 'https://www.rottentomatoes.com/m/1013775_metropolis',\n",
       " 'https://www.rottentomatoes.com/m/1013867_midsummer_nights_dream',\n",
       " 'https://www.rottentomatoes.com/m/1013884_mighty_joe_young',\n",
       " 'https://www.rottentomatoes.com/m/1013970_miracle_on_34th_street',\n",
       " 'https://www.rottentomatoes.com/m/1014138_monkey_business',\n",
       " 'https://www.rottentomatoes.com/m/1014217_moonraker',\n",
       " 'https://www.rottentomatoes.com/m/1014592_mysterious_island',\n",
       " 'https://www.rottentomatoes.com/m/1015530_on_the_beach',\n",
       " 'https://www.rottentomatoes.com/m/1016213_peter_pan',\n",
       " 'https://www.rottentomatoes.com/m/1016302_picture_of_dorian_gray',\n",
       " 'https://www.rottentomatoes.com/m/1016897_pulse',\n",
       " 'https://www.rottentomatoes.com/m/1017352_red_sonja',\n",
       " 'https://www.rottentomatoes.com/m/1017488_return_to_oz',\n",
       " 'https://www.rottentomatoes.com/m/1017991_runaway',\n",
       " 'https://www.rottentomatoes.com/m/1018315_scanners',\n",
       " 'https://www.rottentomatoes.com/m/1018473_second_sight',\n",
       " 'https://www.rottentomatoes.com/m/1018702_shaggy_dog',\n",
       " 'https://www.rottentomatoes.com/m/1019026_simon',\n",
       " 'https://www.rottentomatoes.com/m/1019045_sinbad_the_sailor',\n",
       " 'https://www.rottentomatoes.com/m/1019187_sleeping_beauty',\n",
       " 'https://www.rottentomatoes.com/m/1019641_splash',\n",
       " 'https://www.rottentomatoes.com/m/1021186_them',\n",
       " 'https://www.rottentomatoes.com/m/1021211_shivers',\n",
       " 'https://www.rottentomatoes.com/m/1021242_thing',\n",
       " 'https://www.rottentomatoes.com/m/1021500_time_machine',\n",
       " 'https://www.rottentomatoes.com/m/1021640_tom_thumb',\n",
       " 'https://www.rottentomatoes.com/m/1022001_trial',\n",
       " 'https://www.rottentomatoes.com/m/1022024_trip',\n",
       " 'https://www.rottentomatoes.com/m/1022570_vice_versa',\n",
       " 'https://www.rottentomatoes.com/m/1022823_village_of_the_damned',\n",
       " 'https://www.rottentomatoes.com/m/1023137_war_of_the_worlds',\n",
       " 'https://www.rottentomatoes.com/m/1023316_weird_science',\n",
       " 'https://www.rottentomatoes.com/m/1029529_church',\n",
       " 'https://www.rottentomatoes.com/m/1029830_witches',\n",
       " 'https://www.rottentomatoes.com/m/1031086_ghost',\n",
       " 'https://www.rottentomatoes.com/m/1034067_switch',\n",
       " 'https://www.rottentomatoes.com/m/1038526_uninvited',\n",
       " 'https://www.rottentomatoes.com/m/1039460_all_i_want_for_christmas',\n",
       " 'https://www.rottentomatoes.com/m/1040378_cool_world',\n",
       " 'https://www.rottentomatoes.com/m/1040442_conquest_of_space',\n",
       " 'https://www.rottentomatoes.com/m/1041862_forever_young',\n",
       " 'https://www.rottentomatoes.com/m/1043525_lost_world',\n",
       " 'https://www.rottentomatoes.com/m/1045250_hocus_pocus',\n",
       " 'https://www.rottentomatoes.com/m/1048445_snow_white_and_the_seven_dwarfs',\n",
       " 'https://www.rottentomatoes.com/m/1049883_alice',\n",
       " 'https://www.rottentomatoes.com/m/1050388_last_man_on_earth',\n",
       " 'https://www.rottentomatoes.com/m/1053779_mask',\n",
       " 'https://www.rottentomatoes.com/m/1053942_wolf',\n",
       " 'https://www.rottentomatoes.com/m/1054125_shadow',\n",
       " 'https://www.rottentomatoes.com/m/1058426_junior',\n",
       " 'https://www.rottentomatoes.com/m/1065598_babe',\n",
       " 'https://www.rottentomatoes.com/m/1065632_prophecy',\n",
       " 'https://www.rottentomatoes.com/m/1068044_jumanji',\n",
       " 'https://www.rottentomatoes.com/m/1068461_heavy_metal',\n",
       " 'https://www.rottentomatoes.com/m/1069696_screamers',\n",
       " 'https://www.rottentomatoes.com/m/1071267_arrival',\n",
       " 'https://www.rottentomatoes.com/m/1071806_independence_day',\n",
       " 'https://www.rottentomatoes.com/m/1072083_phantom',\n",
       " 'https://www.rottentomatoes.com/m/1073182_solo',\n",
       " 'https://www.rottentomatoes.com/m/1074465_michael',\n",
       " 'https://www.rottentomatoes.com/m/1077027_batman_and_robin',\n",
       " 'https://www.rottentomatoes.com/m/1078021_contact',\n",
       " 'https://www.rottentomatoes.com/m/1078035_steel',\n",
       " 'https://www.rottentomatoes.com/m/1081203_borrowers',\n",
       " 'https://www.rottentomatoes.com/m/1081623_merlin',\n",
       " 'https://www.rottentomatoes.com/m/1083484_blade',\n",
       " 'https://www.rottentomatoes.com/m/1083934_soldier',\n",
       " 'https://www.rottentomatoes.com/m/1084878_supernova',\n",
       " 'https://www.rottentomatoes.com/m/1085867_virus',\n",
       " 'https://www.rottentomatoes.com/m/1090089_jack_frost',\n",
       " 'https://www.rottentomatoes.com/m/1090759_deep_blue_sea',\n",
       " 'https://www.rottentomatoes.com/m/1090918_midsummer_nights_dream',\n",
       " 'https://www.rottentomatoes.com/m/1095351_1095351_what_planet_are_you_from',\n",
       " 'https://www.rottentomatoes.com/m/1108185_animal',\n",
       " 'https://www.rottentomatoes.com/m/1108206_evolution',\n",
       " 'https://www.rottentomatoes.com/m/1108704_planet_of_the_apes',\n",
       " 'https://www.rottentomatoes.com/m/1111435_maze',\n",
       " 'https://www.rottentomatoes.com/m/1127652_big_empty',\n",
       " 'https://www.rottentomatoes.com/m/1142872_sky_high',\n",
       " 'https://www.rottentomatoes.com/m/1144029_appleseed',\n",
       " 'https://www.rottentomatoes.com/m/1146673_1146673_stealth',\n",
       " 'https://www.rottentomatoes.com/m/1152881_godzilla_final_wars',\n",
       " 'https://www.rottentomatoes.com/m/1154356_promise',\n",
       " 'https://www.rottentomatoes.com/m/1156283_doogal',\n",
       " 'https://www.rottentomatoes.com/m/1174279_wanted',\n",
       " 'https://www.rottentomatoes.com/m/1184415_evil_aliens',\n",
       " 'https://www.rottentomatoes.com/m/1189344_lovely_bones',\n",
       " 'https://www.rottentomatoes.com/m/1190561_imaginarium_of_doctor_parnassus',\n",
       " 'https://www.rottentomatoes.com/m/1190660_over_my_dead_body',\n",
       " 'https://www.rottentomatoes.com/m/1190970_ghost_town',\n",
       " 'https://www.rottentomatoes.com/m/1194825_phoebe_in_wonderland',\n",
       " 'https://www.rottentomatoes.com/m/1196003_princess_and_the_frog',\n",
       " 'https://www.rottentomatoes.com/m/1200731_robocop',\n",
       " 'https://www.rottentomatoes.com/m/1201402_17_again',\n",
       " 'https://www.rottentomatoes.com/m/1202110_tooth_fairy',\n",
       " 'https://www.rottentomatoes.com/m/1203528_fetching_cody',\n",
       " 'https://www.rottentomatoes.com/m/1205380_crazies',\n",
       " 'https://www.rottentomatoes.com/m/1208173_splice',\n",
       " 'https://www.rottentomatoes.com/m/1209933_puss_in_boots',\n",
       " 'https://www.rottentomatoes.com/m/1210749_eclipse',\n",
       " 'https://www.rottentomatoes.com/m/1215790_carriers',\n",
       " 'https://www.rottentomatoes.com/m/1216923_franklyn',\n",
       " 'https://www.rottentomatoes.com/m/1216924_ink',\n",
       " 'https://www.rottentomatoes.com/m/1221547_alice_in_wonderland',\n",
       " 'https://www.rottentomatoes.com/m/8_12',\n",
       " 'https://www.rottentomatoes.com/m/alien_autopsy',\n",
       " 'https://www.rottentomatoes.com/m/alien_from_la_odeon_wanda',\n",
       " 'https://www.rottentomatoes.com/m/angela_2007',\n",
       " 'https://www.rottentomatoes.com/m/attack_of_the_killer_tomatoes',\n",
       " 'https://www.rottentomatoes.com/m/battle_los_angeles',\n",
       " 'https://www.rottentomatoes.com/m/beauty_and_the_beast_the_enchanted_christmas',\n",
       " 'https://www.rottentomatoes.com/m/blind_chance',\n",
       " 'https://www.rottentomatoes.com/m/deepstar_six',\n",
       " 'https://www.rottentomatoes.com/m/ducktales_the_movie',\n",
       " 'https://www.rottentomatoes.com/m/enders_game',\n",
       " 'https://www.rottentomatoes.com/m/ernest_scared_stupid',\n",
       " 'https://www.rottentomatoes.com/m/fading_of_the_cries',\n",
       " 'https://www.rottentomatoes.com/m/from_other_worlds',\n",
       " 'https://www.rottentomatoes.com/m/from_time_to_time',\n",
       " 'https://www.rottentomatoes.com/m/godzilla_mothra_and_king_ghidorah_giant_monsters_allout_attack',\n",
       " 'https://www.rottentomatoes.com/m/godzilla_vs_megalon',\n",
       " 'https://www.rottentomatoes.com/m/godzillas_revenge',\n",
       " 'https://www.rottentomatoes.com/m/gullivers_travels_2010',\n",
       " 'https://www.rottentomatoes.com/m/gwai_wik_re_cycle',\n",
       " 'https://www.rottentomatoes.com/m/half_light',\n",
       " 'https://www.rottentomatoes.com/m/hatchet_for_the_honeymoon_1969',\n",
       " 'https://www.rottentomatoes.com/m/heartless_2009',\n",
       " 'https://www.rottentomatoes.com/m/hellraiser_bloodline',\n",
       " 'https://www.rottentomatoes.com/m/in_the_name_of_the_king_a_dungeon_siege_tale',\n",
       " 'https://www.rottentomatoes.com/m/it_came_from_outer_space',\n",
       " 'https://www.rottentomatoes.com/m/koi_mil_gaya_i_found_someone',\n",
       " 'https://www.rottentomatoes.com/m/malice_in_wonderland_2009',\n",
       " 'https://www.rottentomatoes.com/m/monsters_2010',\n",
       " 'https://www.rottentomatoes.com/m/phil_the_alien',\n",
       " 'https://www.rottentomatoes.com/m/plan_9_from_outer_space',\n",
       " 'https://www.rottentomatoes.com/m/sherlock_jr',\n",
       " 'https://www.rottentomatoes.com/m/son_of_godzilla',\n",
       " 'https://www.rottentomatoes.com/m/summer_wars',\n",
       " 'https://www.rottentomatoes.com/m/the_5000_fingers_of_dr_t',\n",
       " 'https://www.rottentomatoes.com/m/the_evil_dead',\n",
       " 'https://www.rottentomatoes.com/m/the_fall_2008',\n",
       " 'https://www.rottentomatoes.com/m/the_food_of_the_gods',\n",
       " 'https://www.rottentomatoes.com/m/the_nutcracker1993',\n",
       " 'https://www.rottentomatoes.com/m/the_secret_of_kells',\n",
       " 'https://www.rottentomatoes.com/m/the_secret_of_roan_inish',\n",
       " 'https://www.rottentomatoes.com/m/the_terror_the_haunting_lady_of_the_shadows',\n",
       " 'https://www.rottentomatoes.com/m/the_warriors_way',\n",
       " 'https://www.rottentomatoes.com/m/world_war_z',\n",
       " 'https://www.rottentomatoes.com/m/yume_ju_ya_ten_nights_of_dreams']"
      ]
     },
     "execution_count": 36,
     "metadata": {},
     "output_type": "execute_result"
    }
   ],
   "source": [
    "urls_not_in_df_sel"
   ]
  },
  {
   "cell_type": "code",
   "execution_count": 37,
   "metadata": {},
   "outputs": [
    {
     "name": "stdout",
     "output_type": "stream",
     "text": [
      "https://www.rottentomatoes.com/m/1000085-2001_a_space_odyssey\n",
      "https://www.rottentomatoes.com/m/1000085_2001_a_space_odyssey\n"
     ]
    }
   ],
   "source": [
    "print(urls_not_in_df[0])\n",
    "print(urls_not_in_df_sel[0])"
   ]
  },
  {
   "cell_type": "markdown",
   "metadata": {},
   "source": [
    "Some urls have '-' where they have '_' in the other df. We need to correct them..."
   ]
  },
  {
   "cell_type": "code",
   "execution_count": 38,
   "metadata": {
    "collapsed": true
   },
   "outputs": [],
   "source": [
    "df['url_uni'] = df.url.str.replace('-', '_')"
   ]
  },
  {
   "cell_type": "code",
   "execution_count": 39,
   "metadata": {
    "collapsed": true
   },
   "outputs": [],
   "source": [
    "df_sel['url_uni'] = df_sel.url.str.replace('-', '_')"
   ]
  },
  {
   "cell_type": "code",
   "execution_count": 40,
   "metadata": {
    "collapsed": true
   },
   "outputs": [],
   "source": [
    "df_all_data = df_sel.merge(df, on='url_uni')"
   ]
  },
  {
   "cell_type": "code",
   "execution_count": 41,
   "metadata": {},
   "outputs": [
    {
     "data": {
      "text/plain": [
       "1484"
      ]
     },
     "execution_count": 41,
     "metadata": {},
     "output_type": "execute_result"
    }
   ],
   "source": [
    "len(df_all_data)"
   ]
  },
  {
   "cell_type": "markdown",
   "metadata": {},
   "source": [
    "That's better! Now we can drop the non-unified url columns."
   ]
  },
  {
   "cell_type": "code",
   "execution_count": 42,
   "metadata": {},
   "outputs": [
    {
     "data": {
      "text/html": [
       "<div>\n",
       "<style>\n",
       "    .dataframe thead tr:only-child th {\n",
       "        text-align: right;\n",
       "    }\n",
       "\n",
       "    .dataframe thead th {\n",
       "        text-align: left;\n",
       "    }\n",
       "\n",
       "    .dataframe tbody tr th {\n",
       "        vertical-align: top;\n",
       "    }\n",
       "</style>\n",
       "<table border=\"1\" class=\"dataframe\">\n",
       "  <thead>\n",
       "    <tr style=\"text-align: right;\">\n",
       "      <th></th>\n",
       "      <th>title</th>\n",
       "      <th>url_x</th>\n",
       "      <th>url_uni</th>\n",
       "      <th>url_y</th>\n",
       "      <th>score_c</th>\n",
       "      <th>rating_c</th>\n",
       "      <th>n_reviews_c</th>\n",
       "      <th>fresh_c</th>\n",
       "      <th>rotten_c</th>\n",
       "      <th>score_u</th>\n",
       "      <th>rating_u</th>\n",
       "      <th>n_reviews_u</th>\n",
       "      <th>director</th>\n",
       "      <th>box_office</th>\n",
       "      <th>runtime</th>\n",
       "      <th>in_theatre</th>\n",
       "      <th>on_disc</th>\n",
       "      <th>audience</th>\n",
       "      <th>studio</th>\n",
       "      <th>audience_rating</th>\n",
       "    </tr>\n",
       "  </thead>\n",
       "  <tbody>\n",
       "    <tr>\n",
       "      <th>0</th>\n",
       "      <td>Resident Evil: The Final Chapter</td>\n",
       "      <td>https://www.rottentomatoes.com/m/resident_evil...</td>\n",
       "      <td>https://www.rottentomatoes.com/m/resident_evil...</td>\n",
       "      <td>https://www.rottentomatoes.com/m/resident_evil...</td>\n",
       "      <td>35</td>\n",
       "      <td>0.44</td>\n",
       "      <td>85</td>\n",
       "      <td>30</td>\n",
       "      <td>55</td>\n",
       "      <td>51.0</td>\n",
       "      <td>1.18</td>\n",
       "      <td>58527</td>\n",
       "      <td>Paul W.S. Anderson</td>\n",
       "      <td>26844692.0</td>\n",
       "      <td>106.0</td>\n",
       "      <td>2017-01-27</td>\n",
       "      <td>2017-05-16</td>\n",
       "      <td>R (for sequences of violence throughout)</td>\n",
       "      <td>Sony Pictures</td>\n",
       "      <td>R</td>\n",
       "    </tr>\n",
       "    <tr>\n",
       "      <th>1</th>\n",
       "      <td>Passengers</td>\n",
       "      <td>https://www.rottentomatoes.com/m/passengers_2016</td>\n",
       "      <td>https://www.rottentomatoes.com/m/passengers_2016</td>\n",
       "      <td>https://www.rottentomatoes.com/m/passengers_2016</td>\n",
       "      <td>31</td>\n",
       "      <td>0.49</td>\n",
       "      <td>229</td>\n",
       "      <td>70</td>\n",
       "      <td>159</td>\n",
       "      <td>63.0</td>\n",
       "      <td>0.94</td>\n",
       "      <td>52600</td>\n",
       "      <td>Morten Tyldum</td>\n",
       "      <td>100014092.0</td>\n",
       "      <td>116.0</td>\n",
       "      <td>2016-12-21</td>\n",
       "      <td>2017-03-14</td>\n",
       "      <td>PG-13 (for sexuality, nudity and action/peril)</td>\n",
       "      <td>Columbia Pictures</td>\n",
       "      <td>PG-13</td>\n",
       "    </tr>\n",
       "  </tbody>\n",
       "</table>\n",
       "</div>"
      ],
      "text/plain": [
       "                              title  \\\n",
       "0  Resident Evil: The Final Chapter   \n",
       "1                        Passengers   \n",
       "\n",
       "                                               url_x  \\\n",
       "0  https://www.rottentomatoes.com/m/resident_evil...   \n",
       "1   https://www.rottentomatoes.com/m/passengers_2016   \n",
       "\n",
       "                                             url_uni  \\\n",
       "0  https://www.rottentomatoes.com/m/resident_evil...   \n",
       "1   https://www.rottentomatoes.com/m/passengers_2016   \n",
       "\n",
       "                                               url_y  score_c  rating_c  \\\n",
       "0  https://www.rottentomatoes.com/m/resident_evil...       35      0.44   \n",
       "1   https://www.rottentomatoes.com/m/passengers_2016       31      0.49   \n",
       "\n",
       "   n_reviews_c  fresh_c  rotten_c  score_u  rating_u  n_reviews_u  \\\n",
       "0           85       30        55     51.0      1.18        58527   \n",
       "1          229       70       159     63.0      0.94        52600   \n",
       "\n",
       "             director   box_office  runtime in_theatre    on_disc  \\\n",
       "0  Paul W.S. Anderson   26844692.0    106.0 2017-01-27 2017-05-16   \n",
       "1       Morten Tyldum  100014092.0    116.0 2016-12-21 2017-03-14   \n",
       "\n",
       "                                         audience             studio  \\\n",
       "0        R (for sequences of violence throughout)      Sony Pictures   \n",
       "1  PG-13 (for sexuality, nudity and action/peril)  Columbia Pictures   \n",
       "\n",
       "  audience_rating  \n",
       "0               R  \n",
       "1           PG-13  "
      ]
     },
     "execution_count": 42,
     "metadata": {},
     "output_type": "execute_result"
    }
   ],
   "source": [
    "df_all_data.head(2)"
   ]
  },
  {
   "cell_type": "code",
   "execution_count": 43,
   "metadata": {
    "collapsed": true
   },
   "outputs": [],
   "source": [
    "df_all_data.drop(['url_x', 'url_y'], axis=1, inplace=True)"
   ]
  },
  {
   "cell_type": "code",
   "execution_count": 44,
   "metadata": {},
   "outputs": [
    {
     "data": {
      "text/html": [
       "<div>\n",
       "<style>\n",
       "    .dataframe thead tr:only-child th {\n",
       "        text-align: right;\n",
       "    }\n",
       "\n",
       "    .dataframe thead th {\n",
       "        text-align: left;\n",
       "    }\n",
       "\n",
       "    .dataframe tbody tr th {\n",
       "        vertical-align: top;\n",
       "    }\n",
       "</style>\n",
       "<table border=\"1\" class=\"dataframe\">\n",
       "  <thead>\n",
       "    <tr style=\"text-align: right;\">\n",
       "      <th></th>\n",
       "      <th>title</th>\n",
       "      <th>url_uni</th>\n",
       "      <th>score_c</th>\n",
       "      <th>rating_c</th>\n",
       "      <th>n_reviews_c</th>\n",
       "      <th>fresh_c</th>\n",
       "      <th>rotten_c</th>\n",
       "      <th>score_u</th>\n",
       "      <th>rating_u</th>\n",
       "      <th>n_reviews_u</th>\n",
       "      <th>director</th>\n",
       "      <th>box_office</th>\n",
       "      <th>runtime</th>\n",
       "      <th>in_theatre</th>\n",
       "      <th>on_disc</th>\n",
       "      <th>audience</th>\n",
       "      <th>studio</th>\n",
       "      <th>audience_rating</th>\n",
       "    </tr>\n",
       "  </thead>\n",
       "  <tbody>\n",
       "    <tr>\n",
       "      <th>0</th>\n",
       "      <td>Resident Evil: The Final Chapter</td>\n",
       "      <td>https://www.rottentomatoes.com/m/resident_evil...</td>\n",
       "      <td>35</td>\n",
       "      <td>0.44</td>\n",
       "      <td>85</td>\n",
       "      <td>30</td>\n",
       "      <td>55</td>\n",
       "      <td>51.0</td>\n",
       "      <td>1.18</td>\n",
       "      <td>58527</td>\n",
       "      <td>Paul W.S. Anderson</td>\n",
       "      <td>26844692.0</td>\n",
       "      <td>106.0</td>\n",
       "      <td>2017-01-27</td>\n",
       "      <td>2017-05-16</td>\n",
       "      <td>R (for sequences of violence throughout)</td>\n",
       "      <td>Sony Pictures</td>\n",
       "      <td>R</td>\n",
       "    </tr>\n",
       "    <tr>\n",
       "      <th>1</th>\n",
       "      <td>Passengers</td>\n",
       "      <td>https://www.rottentomatoes.com/m/passengers_2016</td>\n",
       "      <td>31</td>\n",
       "      <td>0.49</td>\n",
       "      <td>229</td>\n",
       "      <td>70</td>\n",
       "      <td>159</td>\n",
       "      <td>63.0</td>\n",
       "      <td>0.94</td>\n",
       "      <td>52600</td>\n",
       "      <td>Morten Tyldum</td>\n",
       "      <td>100014092.0</td>\n",
       "      <td>116.0</td>\n",
       "      <td>2016-12-21</td>\n",
       "      <td>2017-03-14</td>\n",
       "      <td>PG-13 (for sexuality, nudity and action/peril)</td>\n",
       "      <td>Columbia Pictures</td>\n",
       "      <td>PG-13</td>\n",
       "    </tr>\n",
       "  </tbody>\n",
       "</table>\n",
       "</div>"
      ],
      "text/plain": [
       "                              title  \\\n",
       "0  Resident Evil: The Final Chapter   \n",
       "1                        Passengers   \n",
       "\n",
       "                                             url_uni  score_c  rating_c  \\\n",
       "0  https://www.rottentomatoes.com/m/resident_evil...       35      0.44   \n",
       "1   https://www.rottentomatoes.com/m/passengers_2016       31      0.49   \n",
       "\n",
       "   n_reviews_c  fresh_c  rotten_c  score_u  rating_u  n_reviews_u  \\\n",
       "0           85       30        55     51.0      1.18        58527   \n",
       "1          229       70       159     63.0      0.94        52600   \n",
       "\n",
       "             director   box_office  runtime in_theatre    on_disc  \\\n",
       "0  Paul W.S. Anderson   26844692.0    106.0 2017-01-27 2017-05-16   \n",
       "1       Morten Tyldum  100014092.0    116.0 2016-12-21 2017-03-14   \n",
       "\n",
       "                                         audience             studio  \\\n",
       "0        R (for sequences of violence throughout)      Sony Pictures   \n",
       "1  PG-13 (for sexuality, nudity and action/peril)  Columbia Pictures   \n",
       "\n",
       "  audience_rating  \n",
       "0               R  \n",
       "1           PG-13  "
      ]
     },
     "execution_count": 44,
     "metadata": {},
     "output_type": "execute_result"
    }
   ],
   "source": [
    "df_all_data.head(2)"
   ]
  },
  {
   "cell_type": "markdown",
   "metadata": {},
   "source": [
    "Pickle it!"
   ]
  },
  {
   "cell_type": "code",
   "execution_count": null,
   "metadata": {
    "collapsed": true
   },
   "outputs": [],
   "source": []
  }
 ],
 "metadata": {
  "kernelspec": {
   "display_name": "Python 3",
   "language": "python",
   "name": "python3"
  },
  "language_info": {
   "codemirror_mode": {
    "name": "ipython",
    "version": 3
   },
   "file_extension": ".py",
   "mimetype": "text/x-python",
   "name": "python",
   "nbconvert_exporter": "python",
   "pygments_lexer": "ipython3",
   "version": "3.6.1"
  }
 },
 "nbformat": 4,
 "nbformat_minor": 2
}
