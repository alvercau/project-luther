{
 "cells": [
  {
   "cell_type": "code",
   "execution_count": 1,
   "metadata": {
    "collapsed": true
   },
   "outputs": [],
   "source": [
    "from __future__ import print_function\n",
    "\n",
    "import numpy as np\n",
    "import pandas as pd\n",
    "import re"
   ]
  },
  {
   "cell_type": "markdown",
   "metadata": {},
   "source": [
    "# Read in detailed data about movies"
   ]
  },
  {
   "cell_type": "code",
   "execution_count": 2,
   "metadata": {
    "collapsed": true
   },
   "outputs": [],
   "source": [
    "df = pd.read_csv('/Users/aleksandra/ds/metis/project_luther/project_luther/rotten_tomatoes2.csv')"
   ]
  },
  {
   "cell_type": "code",
   "execution_count": 3,
   "metadata": {},
   "outputs": [
    {
     "data": {
      "text/html": [
       "<div>\n",
       "<style>\n",
       "    .dataframe thead tr:only-child th {\n",
       "        text-align: right;\n",
       "    }\n",
       "\n",
       "    .dataframe thead th {\n",
       "        text-align: left;\n",
       "    }\n",
       "\n",
       "    .dataframe tbody tr th {\n",
       "        vertical-align: top;\n",
       "    }\n",
       "</style>\n",
       "<table border=\"1\" class=\"dataframe\">\n",
       "  <thead>\n",
       "    <tr style=\"text-align: right;\">\n",
       "      <th></th>\n",
       "      <th>url</th>\n",
       "      <th>score_c</th>\n",
       "      <th>rating_c</th>\n",
       "      <th>n_reviews_c</th>\n",
       "      <th>fresh_c</th>\n",
       "      <th>rotten_c</th>\n",
       "      <th>score_u</th>\n",
       "      <th>rating_u</th>\n",
       "      <th>n_reviews_u</th>\n",
       "      <th>director</th>\n",
       "      <th>box_office</th>\n",
       "      <th>runtime</th>\n",
       "      <th>in_theatre</th>\n",
       "      <th>on_disc</th>\n",
       "      <th>audience</th>\n",
       "      <th>studio</th>\n",
       "    </tr>\n",
       "  </thead>\n",
       "  <tbody>\n",
       "    <tr>\n",
       "      <th>0</th>\n",
       "      <td>https://www.rottentomatoes.com/m/resident_evil...</td>\n",
       "      <td>35</td>\n",
       "      <td>4.4/10</td>\n",
       "      <td>85</td>\n",
       "      <td>30</td>\n",
       "      <td>55</td>\n",
       "      <td>51%</td>\n",
       "      <td>5.9/10</td>\n",
       "      <td>58,527</td>\n",
       "      <td>Paul W.S. Anderson</td>\n",
       "      <td>$26,844,692</td>\n",
       "      <td>P106M</td>\n",
       "      <td>2017-01-26T16:00:00-08:00</td>\n",
       "      <td>2017-05-15T17:00:00-07:00</td>\n",
       "      <td>R (for sequences of violence throughout)</td>\n",
       "      <td>Sony Pictures</td>\n",
       "    </tr>\n",
       "    <tr>\n",
       "      <th>1</th>\n",
       "      <td>https://www.rottentomatoes.com/m/passengers_2016</td>\n",
       "      <td>31</td>\n",
       "      <td>4.9/10</td>\n",
       "      <td>229</td>\n",
       "      <td>70</td>\n",
       "      <td>159</td>\n",
       "      <td>63%</td>\n",
       "      <td>4.7/10</td>\n",
       "      <td>52,600</td>\n",
       "      <td>Morten Tyldum</td>\n",
       "      <td>$100,014,092</td>\n",
       "      <td>P116M</td>\n",
       "      <td>2016-12-20T16:00:00-08:00</td>\n",
       "      <td>2017-03-13T17:00:00-07:00</td>\n",
       "      <td>PG-13 (for sexuality, nudity and action/peril)</td>\n",
       "      <td>Columbia Pictures</td>\n",
       "    </tr>\n",
       "  </tbody>\n",
       "</table>\n",
       "</div>"
      ],
      "text/plain": [
       "                                                 url  score_c rating_c  \\\n",
       "0  https://www.rottentomatoes.com/m/resident_evil...       35   4.4/10   \n",
       "1   https://www.rottentomatoes.com/m/passengers_2016       31   4.9/10   \n",
       "\n",
       "   n_reviews_c  fresh_c  rotten_c score_u rating_u n_reviews_u  \\\n",
       "0           85       30        55     51%   5.9/10      58,527   \n",
       "1          229       70       159     63%   4.7/10      52,600   \n",
       "\n",
       "             director    box_office runtime                 in_theatre  \\\n",
       "0  Paul W.S. Anderson   $26,844,692   P106M  2017-01-26T16:00:00-08:00   \n",
       "1       Morten Tyldum  $100,014,092   P116M  2016-12-20T16:00:00-08:00   \n",
       "\n",
       "                     on_disc                                        audience  \\\n",
       "0  2017-05-15T17:00:00-07:00        R (for sequences of violence throughout)   \n",
       "1  2017-03-13T17:00:00-07:00  PG-13 (for sexuality, nudity and action/peril)   \n",
       "\n",
       "              studio  \n",
       "0      Sony Pictures  \n",
       "1  Columbia Pictures  "
      ]
     },
     "execution_count": 3,
     "metadata": {},
     "output_type": "execute_result"
    }
   ],
   "source": [
    "df.head(2)"
   ]
  },
  {
   "cell_type": "markdown",
   "metadata": {},
   "source": [
    "What are the variables all about?\n",
    "\n",
    "Variable | Explanation|\n",
    ":---|:---\n",
    "title | Title of the movie\n",
    "url_uni | Url to the details of the movie\n",
    "score_c | Percentage of Approved Tomatometer critics who gave a positive review to the movie\n",
    "rating_c | Average rating according to the critics\n",
    "n_reviews_c | Number of critics that have reviewed the movie\n",
    "fresh_c | Number of positive reviews by critics\n",
    "rotten_c | Number of negative reviews by critics\n",
    "score_u | Percentage of the audience that gave positive review\n",
    "rating_u | Average rating according to audience\n",
    "director | Director\n",
    "box_office | Box office\n",
    "runtime | Runtime\n",
    "in_theatre | Release date in theaters\n",
    "on_disc | Release date on disc/streaming\n",
    "audience | Rating and reason for rating\n",
    "studio | Studio\n",
    "audience_rating | Rating without explanation"
   ]
  },
  {
   "cell_type": "code",
   "execution_count": 5,
   "metadata": {},
   "outputs": [
    {
     "data": {
      "text/plain": [
       "1484"
      ]
     },
     "execution_count": 5,
     "metadata": {},
     "output_type": "execute_result"
    }
   ],
   "source": [
    "len(df)"
   ]
  },
  {
   "cell_type": "code",
   "execution_count": 6,
   "metadata": {},
   "outputs": [
    {
     "data": {
      "text/plain": [
       "url            object\n",
       "score_c         int64\n",
       "rating_c       object\n",
       "n_reviews_c     int64\n",
       "fresh_c         int64\n",
       "rotten_c        int64\n",
       "score_u        object\n",
       "rating_u       object\n",
       "n_reviews_u    object\n",
       "director       object\n",
       "box_office     object\n",
       "runtime        object\n",
       "in_theatre     object\n",
       "on_disc        object\n",
       "audience       object\n",
       "studio         object\n",
       "dtype: object"
      ]
     },
     "execution_count": 6,
     "metadata": {},
     "output_type": "execute_result"
    }
   ],
   "source": [
    "df.dtypes"
   ]
  },
  {
   "cell_type": "markdown",
   "metadata": {},
   "source": [
    "# Convert data to right data type\n",
    "\n",
    "Several columns are in the wrong dtype. Clean the data!  \n",
    "For both types of ratings, some of them are from 0 to 10, some of them from 0 to 5. I will normalize the data so that they are all in the same unit."
   ]
  },
  {
   "cell_type": "code",
   "execution_count": 7,
   "metadata": {
    "collapsed": true
   },
   "outputs": [],
   "source": [
    "def normalize_rating(series):\n",
    "    splitted = series.str.split('/')\n",
    "    normal = [float(row[0])/float(row[1]) for row in splitted]\n",
    "    return normal\n",
    "\n",
    "def to_numeric(series):\n",
    "    return pd.to_numeric(series.replace(to_replace= '\\D', value= '', regex=True))"
   ]
  },
  {
   "cell_type": "code",
   "execution_count": 8,
   "metadata": {
    "collapsed": true
   },
   "outputs": [],
   "source": [
    "df.rating_c = normalize_rating(df.rating_c)\n",
    "df.rating_u = normalize_rating(df.rating_u)"
   ]
  },
  {
   "cell_type": "code",
   "execution_count": 14,
   "metadata": {
    "collapsed": true
   },
   "outputs": [],
   "source": [
    "df.score_u = to_numeric(df.score_u)\n",
    "df.n_reviews_u = to_numeric(df.n_reviews_u)\n",
    "df.box_office = to_numeric(df.box_office)\n",
    "df.runtime = to_numeric(df.runtime)"
   ]
  },
  {
   "cell_type": "code",
   "execution_count": 18,
   "metadata": {
    "collapsed": true
   },
   "outputs": [],
   "source": [
    "df.in_theatre = pd.to_datetime(df.in_theatre)\n",
    "df.on_disc = pd.to_datetime(df.on_disc)"
   ]
  },
  {
   "cell_type": "code",
   "execution_count": 20,
   "metadata": {},
   "outputs": [
    {
     "data": {
      "text/html": [
       "<div>\n",
       "<style>\n",
       "    .dataframe thead tr:only-child th {\n",
       "        text-align: right;\n",
       "    }\n",
       "\n",
       "    .dataframe thead th {\n",
       "        text-align: left;\n",
       "    }\n",
       "\n",
       "    .dataframe tbody tr th {\n",
       "        vertical-align: top;\n",
       "    }\n",
       "</style>\n",
       "<table border=\"1\" class=\"dataframe\">\n",
       "  <thead>\n",
       "    <tr style=\"text-align: right;\">\n",
       "      <th></th>\n",
       "      <th>url</th>\n",
       "      <th>score_c</th>\n",
       "      <th>rating_c</th>\n",
       "      <th>n_reviews_c</th>\n",
       "      <th>fresh_c</th>\n",
       "      <th>rotten_c</th>\n",
       "      <th>score_u</th>\n",
       "      <th>rating_u</th>\n",
       "      <th>n_reviews_u</th>\n",
       "      <th>director</th>\n",
       "      <th>box_office</th>\n",
       "      <th>runtime</th>\n",
       "      <th>in_theatre</th>\n",
       "      <th>on_disc</th>\n",
       "      <th>audience</th>\n",
       "      <th>studio</th>\n",
       "    </tr>\n",
       "  </thead>\n",
       "  <tbody>\n",
       "    <tr>\n",
       "      <th>0</th>\n",
       "      <td>https://www.rottentomatoes.com/m/resident_evil...</td>\n",
       "      <td>35</td>\n",
       "      <td>0.44</td>\n",
       "      <td>85</td>\n",
       "      <td>30</td>\n",
       "      <td>55</td>\n",
       "      <td>51.0</td>\n",
       "      <td>0.59</td>\n",
       "      <td>58527</td>\n",
       "      <td>Paul W.S. Anderson</td>\n",
       "      <td>26844692.0</td>\n",
       "      <td>106.0</td>\n",
       "      <td>2017-01-27</td>\n",
       "      <td>2017-05-16</td>\n",
       "      <td>R (for sequences of violence throughout)</td>\n",
       "      <td>Sony Pictures</td>\n",
       "    </tr>\n",
       "    <tr>\n",
       "      <th>1</th>\n",
       "      <td>https://www.rottentomatoes.com/m/passengers_2016</td>\n",
       "      <td>31</td>\n",
       "      <td>0.49</td>\n",
       "      <td>229</td>\n",
       "      <td>70</td>\n",
       "      <td>159</td>\n",
       "      <td>63.0</td>\n",
       "      <td>0.47</td>\n",
       "      <td>52600</td>\n",
       "      <td>Morten Tyldum</td>\n",
       "      <td>100014092.0</td>\n",
       "      <td>116.0</td>\n",
       "      <td>2016-12-21</td>\n",
       "      <td>2017-03-14</td>\n",
       "      <td>PG-13 (for sexuality, nudity and action/peril)</td>\n",
       "      <td>Columbia Pictures</td>\n",
       "    </tr>\n",
       "    <tr>\n",
       "      <th>2</th>\n",
       "      <td>https://www.rottentomatoes.com/m/beauty_and_th...</td>\n",
       "      <td>32</td>\n",
       "      <td>0.46</td>\n",
       "      <td>19</td>\n",
       "      <td>6</td>\n",
       "      <td>13</td>\n",
       "      <td>53.0</td>\n",
       "      <td>0.66</td>\n",
       "      <td>3681</td>\n",
       "      <td>Christophe Gans</td>\n",
       "      <td>NaN</td>\n",
       "      <td>112.0</td>\n",
       "      <td>2014-01-03</td>\n",
       "      <td>2017-02-21</td>\n",
       "      <td>PG-13 (for some action violence, peril and fri...</td>\n",
       "      <td>NaN</td>\n",
       "    </tr>\n",
       "    <tr>\n",
       "      <th>3</th>\n",
       "      <td>https://www.rottentomatoes.com/m/fantastic_bea...</td>\n",
       "      <td>73</td>\n",
       "      <td>0.68</td>\n",
       "      <td>271</td>\n",
       "      <td>198</td>\n",
       "      <td>73</td>\n",
       "      <td>79.0</td>\n",
       "      <td>0.70</td>\n",
       "      <td>84702</td>\n",
       "      <td>David Yates (II)</td>\n",
       "      <td>234018657.0</td>\n",
       "      <td>132.0</td>\n",
       "      <td>2016-11-18</td>\n",
       "      <td>2017-03-28</td>\n",
       "      <td>PG-13 (for some fantasy action violence)</td>\n",
       "      <td>Warner Bros. Pictures</td>\n",
       "    </tr>\n",
       "    <tr>\n",
       "      <th>4</th>\n",
       "      <td>https://www.rottentomatoes.com/m/absolutely_an...</td>\n",
       "      <td>18</td>\n",
       "      <td>0.37</td>\n",
       "      <td>40</td>\n",
       "      <td>7</td>\n",
       "      <td>33</td>\n",
       "      <td>31.0</td>\n",
       "      <td>0.54</td>\n",
       "      <td>3080</td>\n",
       "      <td>Terry Jones</td>\n",
       "      <td>673096.0</td>\n",
       "      <td>85.0</td>\n",
       "      <td>2017-05-12</td>\n",
       "      <td>2017-06-27</td>\n",
       "      <td>NR (for language including sexual references, ...</td>\n",
       "      <td>Atlas Distribution</td>\n",
       "    </tr>\n",
       "  </tbody>\n",
       "</table>\n",
       "</div>"
      ],
      "text/plain": [
       "                                                 url  score_c  rating_c  \\\n",
       "0  https://www.rottentomatoes.com/m/resident_evil...       35      0.44   \n",
       "1   https://www.rottentomatoes.com/m/passengers_2016       31      0.49   \n",
       "2  https://www.rottentomatoes.com/m/beauty_and_th...       32      0.46   \n",
       "3  https://www.rottentomatoes.com/m/fantastic_bea...       73      0.68   \n",
       "4  https://www.rottentomatoes.com/m/absolutely_an...       18      0.37   \n",
       "\n",
       "   n_reviews_c  fresh_c  rotten_c  score_u  rating_u  n_reviews_u  \\\n",
       "0           85       30        55     51.0      0.59        58527   \n",
       "1          229       70       159     63.0      0.47        52600   \n",
       "2           19        6        13     53.0      0.66         3681   \n",
       "3          271      198        73     79.0      0.70        84702   \n",
       "4           40        7        33     31.0      0.54         3080   \n",
       "\n",
       "             director   box_office  runtime in_theatre    on_disc  \\\n",
       "0  Paul W.S. Anderson   26844692.0    106.0 2017-01-27 2017-05-16   \n",
       "1       Morten Tyldum  100014092.0    116.0 2016-12-21 2017-03-14   \n",
       "2     Christophe Gans          NaN    112.0 2014-01-03 2017-02-21   \n",
       "3    David Yates (II)  234018657.0    132.0 2016-11-18 2017-03-28   \n",
       "4         Terry Jones     673096.0     85.0 2017-05-12 2017-06-27   \n",
       "\n",
       "                                            audience                 studio  \n",
       "0           R (for sequences of violence throughout)          Sony Pictures  \n",
       "1     PG-13 (for sexuality, nudity and action/peril)      Columbia Pictures  \n",
       "2  PG-13 (for some action violence, peril and fri...                    NaN  \n",
       "3           PG-13 (for some fantasy action violence)  Warner Bros. Pictures  \n",
       "4  NR (for language including sexual references, ...     Atlas Distribution  "
      ]
     },
     "execution_count": 20,
     "metadata": {},
     "output_type": "execute_result"
    }
   ],
   "source": [
    "df.head()"
   ]
  },
  {
   "cell_type": "code",
   "execution_count": 21,
   "metadata": {},
   "outputs": [
    {
     "data": {
      "text/plain": [
       "url                    object\n",
       "score_c                 int64\n",
       "rating_c              float64\n",
       "n_reviews_c             int64\n",
       "fresh_c                 int64\n",
       "rotten_c                int64\n",
       "score_u               float64\n",
       "rating_u              float64\n",
       "n_reviews_u             int64\n",
       "director               object\n",
       "box_office            float64\n",
       "runtime               float64\n",
       "in_theatre     datetime64[ns]\n",
       "on_disc        datetime64[ns]\n",
       "audience               object\n",
       "studio                 object\n",
       "dtype: object"
      ]
     },
     "execution_count": 21,
     "metadata": {},
     "output_type": "execute_result"
    }
   ],
   "source": [
    "df.dtypes"
   ]
  },
  {
   "cell_type": "code",
   "execution_count": 22,
   "metadata": {
    "collapsed": true
   },
   "outputs": [],
   "source": [
    "df['audience_rating'] = [e[0] for e in df.audience.str.split()]"
   ]
  },
  {
   "cell_type": "code",
   "execution_count": 23,
   "metadata": {},
   "outputs": [
    {
     "data": {
      "text/html": [
       "<div>\n",
       "<style>\n",
       "    .dataframe thead tr:only-child th {\n",
       "        text-align: right;\n",
       "    }\n",
       "\n",
       "    .dataframe thead th {\n",
       "        text-align: left;\n",
       "    }\n",
       "\n",
       "    .dataframe tbody tr th {\n",
       "        vertical-align: top;\n",
       "    }\n",
       "</style>\n",
       "<table border=\"1\" class=\"dataframe\">\n",
       "  <thead>\n",
       "    <tr style=\"text-align: right;\">\n",
       "      <th></th>\n",
       "      <th>url</th>\n",
       "      <th>score_c</th>\n",
       "      <th>rating_c</th>\n",
       "      <th>n_reviews_c</th>\n",
       "      <th>fresh_c</th>\n",
       "      <th>rotten_c</th>\n",
       "      <th>score_u</th>\n",
       "      <th>rating_u</th>\n",
       "      <th>n_reviews_u</th>\n",
       "      <th>director</th>\n",
       "      <th>box_office</th>\n",
       "      <th>runtime</th>\n",
       "      <th>in_theatre</th>\n",
       "      <th>on_disc</th>\n",
       "      <th>audience</th>\n",
       "      <th>studio</th>\n",
       "      <th>audience_rating</th>\n",
       "    </tr>\n",
       "  </thead>\n",
       "  <tbody>\n",
       "    <tr>\n",
       "      <th>0</th>\n",
       "      <td>https://www.rottentomatoes.com/m/resident_evil...</td>\n",
       "      <td>35</td>\n",
       "      <td>0.44</td>\n",
       "      <td>85</td>\n",
       "      <td>30</td>\n",
       "      <td>55</td>\n",
       "      <td>51.0</td>\n",
       "      <td>0.59</td>\n",
       "      <td>58527</td>\n",
       "      <td>Paul W.S. Anderson</td>\n",
       "      <td>26844692.0</td>\n",
       "      <td>106.0</td>\n",
       "      <td>2017-01-27</td>\n",
       "      <td>2017-05-16</td>\n",
       "      <td>R (for sequences of violence throughout)</td>\n",
       "      <td>Sony Pictures</td>\n",
       "      <td>R</td>\n",
       "    </tr>\n",
       "    <tr>\n",
       "      <th>1</th>\n",
       "      <td>https://www.rottentomatoes.com/m/passengers_2016</td>\n",
       "      <td>31</td>\n",
       "      <td>0.49</td>\n",
       "      <td>229</td>\n",
       "      <td>70</td>\n",
       "      <td>159</td>\n",
       "      <td>63.0</td>\n",
       "      <td>0.47</td>\n",
       "      <td>52600</td>\n",
       "      <td>Morten Tyldum</td>\n",
       "      <td>100014092.0</td>\n",
       "      <td>116.0</td>\n",
       "      <td>2016-12-21</td>\n",
       "      <td>2017-03-14</td>\n",
       "      <td>PG-13 (for sexuality, nudity and action/peril)</td>\n",
       "      <td>Columbia Pictures</td>\n",
       "      <td>PG-13</td>\n",
       "    </tr>\n",
       "  </tbody>\n",
       "</table>\n",
       "</div>"
      ],
      "text/plain": [
       "                                                 url  score_c  rating_c  \\\n",
       "0  https://www.rottentomatoes.com/m/resident_evil...       35      0.44   \n",
       "1   https://www.rottentomatoes.com/m/passengers_2016       31      0.49   \n",
       "\n",
       "   n_reviews_c  fresh_c  rotten_c  score_u  rating_u  n_reviews_u  \\\n",
       "0           85       30        55     51.0      0.59        58527   \n",
       "1          229       70       159     63.0      0.47        52600   \n",
       "\n",
       "             director   box_office  runtime in_theatre    on_disc  \\\n",
       "0  Paul W.S. Anderson   26844692.0    106.0 2017-01-27 2017-05-16   \n",
       "1       Morten Tyldum  100014092.0    116.0 2016-12-21 2017-03-14   \n",
       "\n",
       "                                         audience             studio  \\\n",
       "0        R (for sequences of violence throughout)      Sony Pictures   \n",
       "1  PG-13 (for sexuality, nudity and action/peril)  Columbia Pictures   \n",
       "\n",
       "  audience_rating  \n",
       "0               R  \n",
       "1           PG-13  "
      ]
     },
     "execution_count": 23,
     "metadata": {},
     "output_type": "execute_result"
    }
   ],
   "source": [
    "df.head(2)"
   ]
  },
  {
   "cell_type": "code",
   "execution_count": 24,
   "metadata": {},
   "outputs": [
    {
     "data": {
      "text/plain": [
       "(1484, 17)"
      ]
     },
     "execution_count": 24,
     "metadata": {},
     "output_type": "execute_result"
    }
   ],
   "source": [
    "df.shape"
   ]
  },
  {
   "cell_type": "markdown",
   "metadata": {},
   "source": [
    "# Merge with title df\n",
    "\n",
    "Merge this df with the df obtained with Selenium, containing urls and titles. Merge on url."
   ]
  },
  {
   "cell_type": "code",
   "execution_count": 25,
   "metadata": {
    "collapsed": true
   },
   "outputs": [],
   "source": [
    "df_sel = pd.read_pickle('/Users/aleksandra/ds/metis/project_luther/all_data.pkl')"
   ]
  },
  {
   "cell_type": "code",
   "execution_count": 26,
   "metadata": {},
   "outputs": [
    {
     "data": {
      "text/html": [
       "<div>\n",
       "<style>\n",
       "    .dataframe thead tr:only-child th {\n",
       "        text-align: right;\n",
       "    }\n",
       "\n",
       "    .dataframe thead th {\n",
       "        text-align: left;\n",
       "    }\n",
       "\n",
       "    .dataframe tbody tr th {\n",
       "        vertical-align: top;\n",
       "    }\n",
       "</style>\n",
       "<table border=\"1\" class=\"dataframe\">\n",
       "  <thead>\n",
       "    <tr style=\"text-align: right;\">\n",
       "      <th></th>\n",
       "      <th>title</th>\n",
       "      <th>url</th>\n",
       "    </tr>\n",
       "  </thead>\n",
       "  <tbody>\n",
       "    <tr>\n",
       "      <th>0</th>\n",
       "      <td>Resident Evil: The Final Chapter</td>\n",
       "      <td>https://www.rottentomatoes.com/m/resident_evil...</td>\n",
       "    </tr>\n",
       "    <tr>\n",
       "      <th>1</th>\n",
       "      <td>Passengers</td>\n",
       "      <td>https://www.rottentomatoes.com/m/passengers_2016</td>\n",
       "    </tr>\n",
       "    <tr>\n",
       "      <th>2</th>\n",
       "      <td>Beauty And The Beast (La Belle Et La Bête)</td>\n",
       "      <td>https://www.rottentomatoes.com/m/beauty_and_th...</td>\n",
       "    </tr>\n",
       "    <tr>\n",
       "      <th>3</th>\n",
       "      <td>Fantastic Beasts And Where To Find Them</td>\n",
       "      <td>https://www.rottentomatoes.com/m/fantastic_bea...</td>\n",
       "    </tr>\n",
       "    <tr>\n",
       "      <th>4</th>\n",
       "      <td>Absolutely Anything</td>\n",
       "      <td>https://www.rottentomatoes.com/m/absolutely_an...</td>\n",
       "    </tr>\n",
       "  </tbody>\n",
       "</table>\n",
       "</div>"
      ],
      "text/plain": [
       "                                        title  \\\n",
       "0            Resident Evil: The Final Chapter   \n",
       "1                                  Passengers   \n",
       "2  Beauty And The Beast (La Belle Et La Bête)   \n",
       "3     Fantastic Beasts And Where To Find Them   \n",
       "4                         Absolutely Anything   \n",
       "\n",
       "                                                 url  \n",
       "0  https://www.rottentomatoes.com/m/resident_evil...  \n",
       "1   https://www.rottentomatoes.com/m/passengers_2016  \n",
       "2  https://www.rottentomatoes.com/m/beauty_and_th...  \n",
       "3  https://www.rottentomatoes.com/m/fantastic_bea...  \n",
       "4  https://www.rottentomatoes.com/m/absolutely_an...  "
      ]
     },
     "execution_count": 26,
     "metadata": {},
     "output_type": "execute_result"
    }
   ],
   "source": [
    "df_sel.head()"
   ]
  },
  {
   "cell_type": "code",
   "execution_count": 27,
   "metadata": {},
   "outputs": [
    {
     "data": {
      "text/plain": [
       "1489"
      ]
     },
     "execution_count": 27,
     "metadata": {},
     "output_type": "execute_result"
    }
   ],
   "source": [
    "len(df_sel)"
   ]
  },
  {
   "cell_type": "code",
   "execution_count": 28,
   "metadata": {},
   "outputs": [
    {
     "data": {
      "text/plain": [
       "1484"
      ]
     },
     "execution_count": 28,
     "metadata": {},
     "output_type": "execute_result"
    }
   ],
   "source": [
    "len(df)"
   ]
  },
  {
   "cell_type": "markdown",
   "metadata": {},
   "source": [
    "There is a difference in length, but this is expected: in the Scrapy log it was impossible to get 5 of the url's."
   ]
  },
  {
   "cell_type": "code",
   "execution_count": 29,
   "metadata": {
    "collapsed": true
   },
   "outputs": [],
   "source": [
    "df_all_data = df_sel.merge(df, how = 'left', left_on = 'url', right_on='url')"
   ]
  },
  {
   "cell_type": "code",
   "execution_count": 30,
   "metadata": {},
   "outputs": [
    {
     "data": {
      "text/plain": [
       "1489"
      ]
     },
     "execution_count": 30,
     "metadata": {},
     "output_type": "execute_result"
    }
   ],
   "source": [
    "len(df_all_data)"
   ]
  },
  {
   "cell_type": "code",
   "execution_count": 31,
   "metadata": {},
   "outputs": [
    {
     "data": {
      "text/plain": [
       "221"
      ]
     },
     "execution_count": 31,
     "metadata": {},
     "output_type": "execute_result"
    }
   ],
   "source": [
    "len(df_all_data[df_all_data.rating_c.isnull()])"
   ]
  },
  {
   "cell_type": "markdown",
   "metadata": {},
   "source": [
    "221 rows do not correspond in the dfs. I know that 5 movies were not scraped (log Scrapy). What happened with the remaining 216 movies?  \n",
    "\n",
    "First step: identify the urls that were problematic, then inspect them to see why there is no correspondency."
   ]
  },
  {
   "cell_type": "code",
   "execution_count": 32,
   "metadata": {
    "collapsed": true
   },
   "outputs": [],
   "source": [
    "common = df_sel.merge(df,on='url')\n",
    "not_in_df = df_sel[(~df_sel.url.isin(common.url))]"
   ]
  },
  {
   "cell_type": "code",
   "execution_count": 33,
   "metadata": {
    "collapsed": true
   },
   "outputs": [],
   "source": [
    "not_in_df_sel = df[(~df.url.isin(common.url))]"
   ]
  },
  {
   "cell_type": "code",
   "execution_count": 34,
   "metadata": {
    "collapsed": true
   },
   "outputs": [],
   "source": [
    "urls_not_in_df = list(not_in_df.url.sort_values())"
   ]
  },
  {
   "cell_type": "code",
   "execution_count": 35,
   "metadata": {
    "collapsed": true
   },
   "outputs": [],
   "source": [
    "urls_not_in_df_sel = list(not_in_df_sel.url.sort_values())"
   ]
  },
  {
   "cell_type": "code",
   "execution_count": 37,
   "metadata": {},
   "outputs": [
    {
     "name": "stdout",
     "output_type": "stream",
     "text": [
      "https://www.rottentomatoes.com/m/1000085-2001_a_space_odyssey\n",
      "https://www.rottentomatoes.com/m/1000085_2001_a_space_odyssey\n"
     ]
    }
   ],
   "source": [
    "print(urls_not_in_df[0])\n",
    "print(urls_not_in_df_sel[0])"
   ]
  },
  {
   "cell_type": "markdown",
   "metadata": {},
   "source": [
    "Some urls have '-' where they have '_' in the other df. We need to correct them..."
   ]
  },
  {
   "cell_type": "code",
   "execution_count": 38,
   "metadata": {
    "collapsed": true
   },
   "outputs": [],
   "source": [
    "df['url_uni'] = df.url.str.replace('-', '_')"
   ]
  },
  {
   "cell_type": "code",
   "execution_count": 39,
   "metadata": {
    "collapsed": true
   },
   "outputs": [],
   "source": [
    "df_sel['url_uni'] = df_sel.url.str.replace('-', '_')"
   ]
  },
  {
   "cell_type": "code",
   "execution_count": 40,
   "metadata": {
    "collapsed": true
   },
   "outputs": [],
   "source": [
    "df_all_data = df_sel.merge(df, on='url_uni')"
   ]
  },
  {
   "cell_type": "code",
   "execution_count": 41,
   "metadata": {},
   "outputs": [
    {
     "data": {
      "text/plain": [
       "1484"
      ]
     },
     "execution_count": 41,
     "metadata": {},
     "output_type": "execute_result"
    }
   ],
   "source": [
    "len(df_all_data)"
   ]
  },
  {
   "cell_type": "markdown",
   "metadata": {},
   "source": [
    "That's better! Now we can drop the non-unified url columns."
   ]
  },
  {
   "cell_type": "code",
   "execution_count": 42,
   "metadata": {},
   "outputs": [
    {
     "data": {
      "text/html": [
       "<div>\n",
       "<style>\n",
       "    .dataframe thead tr:only-child th {\n",
       "        text-align: right;\n",
       "    }\n",
       "\n",
       "    .dataframe thead th {\n",
       "        text-align: left;\n",
       "    }\n",
       "\n",
       "    .dataframe tbody tr th {\n",
       "        vertical-align: top;\n",
       "    }\n",
       "</style>\n",
       "<table border=\"1\" class=\"dataframe\">\n",
       "  <thead>\n",
       "    <tr style=\"text-align: right;\">\n",
       "      <th></th>\n",
       "      <th>title</th>\n",
       "      <th>url_x</th>\n",
       "      <th>url_uni</th>\n",
       "      <th>url_y</th>\n",
       "      <th>score_c</th>\n",
       "      <th>rating_c</th>\n",
       "      <th>n_reviews_c</th>\n",
       "      <th>fresh_c</th>\n",
       "      <th>rotten_c</th>\n",
       "      <th>score_u</th>\n",
       "      <th>rating_u</th>\n",
       "      <th>n_reviews_u</th>\n",
       "      <th>director</th>\n",
       "      <th>box_office</th>\n",
       "      <th>runtime</th>\n",
       "      <th>in_theatre</th>\n",
       "      <th>on_disc</th>\n",
       "      <th>audience</th>\n",
       "      <th>studio</th>\n",
       "      <th>audience_rating</th>\n",
       "    </tr>\n",
       "  </thead>\n",
       "  <tbody>\n",
       "    <tr>\n",
       "      <th>0</th>\n",
       "      <td>Resident Evil: The Final Chapter</td>\n",
       "      <td>https://www.rottentomatoes.com/m/resident_evil...</td>\n",
       "      <td>https://www.rottentomatoes.com/m/resident_evil...</td>\n",
       "      <td>https://www.rottentomatoes.com/m/resident_evil...</td>\n",
       "      <td>35</td>\n",
       "      <td>0.44</td>\n",
       "      <td>85</td>\n",
       "      <td>30</td>\n",
       "      <td>55</td>\n",
       "      <td>51.0</td>\n",
       "      <td>0.59</td>\n",
       "      <td>58527</td>\n",
       "      <td>Paul W.S. Anderson</td>\n",
       "      <td>26844692.0</td>\n",
       "      <td>106.0</td>\n",
       "      <td>2017-01-27</td>\n",
       "      <td>2017-05-16</td>\n",
       "      <td>R (for sequences of violence throughout)</td>\n",
       "      <td>Sony Pictures</td>\n",
       "      <td>R</td>\n",
       "    </tr>\n",
       "    <tr>\n",
       "      <th>1</th>\n",
       "      <td>Passengers</td>\n",
       "      <td>https://www.rottentomatoes.com/m/passengers_2016</td>\n",
       "      <td>https://www.rottentomatoes.com/m/passengers_2016</td>\n",
       "      <td>https://www.rottentomatoes.com/m/passengers_2016</td>\n",
       "      <td>31</td>\n",
       "      <td>0.49</td>\n",
       "      <td>229</td>\n",
       "      <td>70</td>\n",
       "      <td>159</td>\n",
       "      <td>63.0</td>\n",
       "      <td>0.47</td>\n",
       "      <td>52600</td>\n",
       "      <td>Morten Tyldum</td>\n",
       "      <td>100014092.0</td>\n",
       "      <td>116.0</td>\n",
       "      <td>2016-12-21</td>\n",
       "      <td>2017-03-14</td>\n",
       "      <td>PG-13 (for sexuality, nudity and action/peril)</td>\n",
       "      <td>Columbia Pictures</td>\n",
       "      <td>PG-13</td>\n",
       "    </tr>\n",
       "  </tbody>\n",
       "</table>\n",
       "</div>"
      ],
      "text/plain": [
       "                              title  \\\n",
       "0  Resident Evil: The Final Chapter   \n",
       "1                        Passengers   \n",
       "\n",
       "                                               url_x  \\\n",
       "0  https://www.rottentomatoes.com/m/resident_evil...   \n",
       "1   https://www.rottentomatoes.com/m/passengers_2016   \n",
       "\n",
       "                                             url_uni  \\\n",
       "0  https://www.rottentomatoes.com/m/resident_evil...   \n",
       "1   https://www.rottentomatoes.com/m/passengers_2016   \n",
       "\n",
       "                                               url_y  score_c  rating_c  \\\n",
       "0  https://www.rottentomatoes.com/m/resident_evil...       35      0.44   \n",
       "1   https://www.rottentomatoes.com/m/passengers_2016       31      0.49   \n",
       "\n",
       "   n_reviews_c  fresh_c  rotten_c  score_u  rating_u  n_reviews_u  \\\n",
       "0           85       30        55     51.0      0.59        58527   \n",
       "1          229       70       159     63.0      0.47        52600   \n",
       "\n",
       "             director   box_office  runtime in_theatre    on_disc  \\\n",
       "0  Paul W.S. Anderson   26844692.0    106.0 2017-01-27 2017-05-16   \n",
       "1       Morten Tyldum  100014092.0    116.0 2016-12-21 2017-03-14   \n",
       "\n",
       "                                         audience             studio  \\\n",
       "0        R (for sequences of violence throughout)      Sony Pictures   \n",
       "1  PG-13 (for sexuality, nudity and action/peril)  Columbia Pictures   \n",
       "\n",
       "  audience_rating  \n",
       "0               R  \n",
       "1           PG-13  "
      ]
     },
     "execution_count": 42,
     "metadata": {},
     "output_type": "execute_result"
    }
   ],
   "source": [
    "df_all_data.head(2)"
   ]
  },
  {
   "cell_type": "code",
   "execution_count": 43,
   "metadata": {
    "collapsed": true
   },
   "outputs": [],
   "source": [
    "df_all_data.drop(['url_x', 'url_y'], axis=1, inplace=True)"
   ]
  },
  {
   "cell_type": "code",
   "execution_count": 44,
   "metadata": {},
   "outputs": [
    {
     "data": {
      "text/html": [
       "<div>\n",
       "<style>\n",
       "    .dataframe thead tr:only-child th {\n",
       "        text-align: right;\n",
       "    }\n",
       "\n",
       "    .dataframe thead th {\n",
       "        text-align: left;\n",
       "    }\n",
       "\n",
       "    .dataframe tbody tr th {\n",
       "        vertical-align: top;\n",
       "    }\n",
       "</style>\n",
       "<table border=\"1\" class=\"dataframe\">\n",
       "  <thead>\n",
       "    <tr style=\"text-align: right;\">\n",
       "      <th></th>\n",
       "      <th>title</th>\n",
       "      <th>url_uni</th>\n",
       "      <th>score_c</th>\n",
       "      <th>rating_c</th>\n",
       "      <th>n_reviews_c</th>\n",
       "      <th>fresh_c</th>\n",
       "      <th>rotten_c</th>\n",
       "      <th>score_u</th>\n",
       "      <th>rating_u</th>\n",
       "      <th>n_reviews_u</th>\n",
       "      <th>director</th>\n",
       "      <th>box_office</th>\n",
       "      <th>runtime</th>\n",
       "      <th>in_theatre</th>\n",
       "      <th>on_disc</th>\n",
       "      <th>audience</th>\n",
       "      <th>studio</th>\n",
       "      <th>audience_rating</th>\n",
       "    </tr>\n",
       "  </thead>\n",
       "  <tbody>\n",
       "    <tr>\n",
       "      <th>0</th>\n",
       "      <td>Resident Evil: The Final Chapter</td>\n",
       "      <td>https://www.rottentomatoes.com/m/resident_evil...</td>\n",
       "      <td>35</td>\n",
       "      <td>0.44</td>\n",
       "      <td>85</td>\n",
       "      <td>30</td>\n",
       "      <td>55</td>\n",
       "      <td>51.0</td>\n",
       "      <td>0.59</td>\n",
       "      <td>58527</td>\n",
       "      <td>Paul W.S. Anderson</td>\n",
       "      <td>26844692.0</td>\n",
       "      <td>106.0</td>\n",
       "      <td>2017-01-27</td>\n",
       "      <td>2017-05-16</td>\n",
       "      <td>R (for sequences of violence throughout)</td>\n",
       "      <td>Sony Pictures</td>\n",
       "      <td>R</td>\n",
       "    </tr>\n",
       "    <tr>\n",
       "      <th>1</th>\n",
       "      <td>Passengers</td>\n",
       "      <td>https://www.rottentomatoes.com/m/passengers_2016</td>\n",
       "      <td>31</td>\n",
       "      <td>0.49</td>\n",
       "      <td>229</td>\n",
       "      <td>70</td>\n",
       "      <td>159</td>\n",
       "      <td>63.0</td>\n",
       "      <td>0.47</td>\n",
       "      <td>52600</td>\n",
       "      <td>Morten Tyldum</td>\n",
       "      <td>100014092.0</td>\n",
       "      <td>116.0</td>\n",
       "      <td>2016-12-21</td>\n",
       "      <td>2017-03-14</td>\n",
       "      <td>PG-13 (for sexuality, nudity and action/peril)</td>\n",
       "      <td>Columbia Pictures</td>\n",
       "      <td>PG-13</td>\n",
       "    </tr>\n",
       "  </tbody>\n",
       "</table>\n",
       "</div>"
      ],
      "text/plain": [
       "                              title  \\\n",
       "0  Resident Evil: The Final Chapter   \n",
       "1                        Passengers   \n",
       "\n",
       "                                             url_uni  score_c  rating_c  \\\n",
       "0  https://www.rottentomatoes.com/m/resident_evil...       35      0.44   \n",
       "1   https://www.rottentomatoes.com/m/passengers_2016       31      0.49   \n",
       "\n",
       "   n_reviews_c  fresh_c  rotten_c  score_u  rating_u  n_reviews_u  \\\n",
       "0           85       30        55     51.0      0.59        58527   \n",
       "1          229       70       159     63.0      0.47        52600   \n",
       "\n",
       "             director   box_office  runtime in_theatre    on_disc  \\\n",
       "0  Paul W.S. Anderson   26844692.0    106.0 2017-01-27 2017-05-16   \n",
       "1       Morten Tyldum  100014092.0    116.0 2016-12-21 2017-03-14   \n",
       "\n",
       "                                         audience             studio  \\\n",
       "0        R (for sequences of violence throughout)      Sony Pictures   \n",
       "1  PG-13 (for sexuality, nudity and action/peril)  Columbia Pictures   \n",
       "\n",
       "  audience_rating  \n",
       "0               R  \n",
       "1           PG-13  "
      ]
     },
     "execution_count": 44,
     "metadata": {},
     "output_type": "execute_result"
    }
   ],
   "source": [
    "df_all_data.head(2)"
   ]
  },
  {
   "cell_type": "markdown",
   "metadata": {},
   "source": [
    "Pickle it!"
   ]
  },
  {
   "cell_type": "code",
   "execution_count": 46,
   "metadata": {
    "collapsed": true
   },
   "outputs": [],
   "source": [
    "df_all_data.to_pickle('df_all_data.pkl')"
   ]
  },
  {
   "cell_type": "markdown",
   "metadata": {},
   "source": [
    "# Select variables relevant for analysis"
   ]
  },
  {
   "cell_type": "markdown",
   "metadata": {},
   "source": [
    "The objective is to know which variables make a movie more or less popular. We want to take into account only those variables that can be chosen when a movie is made."
   ]
  },
  {
   "cell_type": "code",
   "execution_count": 45,
   "metadata": {},
   "outputs": [
    {
     "data": {
      "text/plain": [
       "['title',\n",
       " 'url_uni',\n",
       " 'score_c',\n",
       " 'rating_c',\n",
       " 'n_reviews_c',\n",
       " 'fresh_c',\n",
       " 'rotten_c',\n",
       " 'score_u',\n",
       " 'rating_u',\n",
       " 'n_reviews_u',\n",
       " 'director',\n",
       " 'box_office',\n",
       " 'runtime',\n",
       " 'in_theatre',\n",
       " 'on_disc',\n",
       " 'audience',\n",
       " 'studio',\n",
       " 'audience_rating']"
      ]
     },
     "execution_count": 45,
     "metadata": {},
     "output_type": "execute_result"
    }
   ],
   "source": [
    "list(df_all_data)"
   ]
  },
  {
   "cell_type": "code",
   "execution_count": 47,
   "metadata": {
    "collapsed": true
   },
   "outputs": [],
   "source": [
    "df_for_analysis = df_all_data.drop(['url_uni', 'n_reviews_c', 'fresh_c', 'rotten_c', 'n_reviews_u', 'box_office', \n",
    "                                    'on_disc', 'audience'], 1)"
   ]
  },
  {
   "cell_type": "code",
   "execution_count": 48,
   "metadata": {},
   "outputs": [
    {
     "data": {
      "text/html": [
       "<div>\n",
       "<style>\n",
       "    .dataframe thead tr:only-child th {\n",
       "        text-align: right;\n",
       "    }\n",
       "\n",
       "    .dataframe thead th {\n",
       "        text-align: left;\n",
       "    }\n",
       "\n",
       "    .dataframe tbody tr th {\n",
       "        vertical-align: top;\n",
       "    }\n",
       "</style>\n",
       "<table border=\"1\" class=\"dataframe\">\n",
       "  <thead>\n",
       "    <tr style=\"text-align: right;\">\n",
       "      <th></th>\n",
       "      <th>title</th>\n",
       "      <th>score_c</th>\n",
       "      <th>rating_c</th>\n",
       "      <th>score_u</th>\n",
       "      <th>rating_u</th>\n",
       "      <th>director</th>\n",
       "      <th>runtime</th>\n",
       "      <th>in_theatre</th>\n",
       "      <th>studio</th>\n",
       "      <th>audience_rating</th>\n",
       "    </tr>\n",
       "  </thead>\n",
       "  <tbody>\n",
       "    <tr>\n",
       "      <th>0</th>\n",
       "      <td>Resident Evil: The Final Chapter</td>\n",
       "      <td>35</td>\n",
       "      <td>0.44</td>\n",
       "      <td>51.0</td>\n",
       "      <td>0.59</td>\n",
       "      <td>Paul W.S. Anderson</td>\n",
       "      <td>106.0</td>\n",
       "      <td>2017-01-27</td>\n",
       "      <td>Sony Pictures</td>\n",
       "      <td>R</td>\n",
       "    </tr>\n",
       "    <tr>\n",
       "      <th>1</th>\n",
       "      <td>Passengers</td>\n",
       "      <td>31</td>\n",
       "      <td>0.49</td>\n",
       "      <td>63.0</td>\n",
       "      <td>0.47</td>\n",
       "      <td>Morten Tyldum</td>\n",
       "      <td>116.0</td>\n",
       "      <td>2016-12-21</td>\n",
       "      <td>Columbia Pictures</td>\n",
       "      <td>PG-13</td>\n",
       "    </tr>\n",
       "    <tr>\n",
       "      <th>2</th>\n",
       "      <td>Beauty And The Beast (La Belle Et La Bête)</td>\n",
       "      <td>32</td>\n",
       "      <td>0.46</td>\n",
       "      <td>53.0</td>\n",
       "      <td>0.66</td>\n",
       "      <td>Christophe Gans</td>\n",
       "      <td>112.0</td>\n",
       "      <td>2014-01-03</td>\n",
       "      <td>NaN</td>\n",
       "      <td>PG-13</td>\n",
       "    </tr>\n",
       "    <tr>\n",
       "      <th>3</th>\n",
       "      <td>Fantastic Beasts And Where To Find Them</td>\n",
       "      <td>73</td>\n",
       "      <td>0.68</td>\n",
       "      <td>79.0</td>\n",
       "      <td>0.70</td>\n",
       "      <td>David Yates (II)</td>\n",
       "      <td>132.0</td>\n",
       "      <td>2016-11-18</td>\n",
       "      <td>Warner Bros. Pictures</td>\n",
       "      <td>PG-13</td>\n",
       "    </tr>\n",
       "    <tr>\n",
       "      <th>4</th>\n",
       "      <td>Absolutely Anything</td>\n",
       "      <td>18</td>\n",
       "      <td>0.37</td>\n",
       "      <td>31.0</td>\n",
       "      <td>0.54</td>\n",
       "      <td>Terry Jones</td>\n",
       "      <td>85.0</td>\n",
       "      <td>2017-05-12</td>\n",
       "      <td>Atlas Distribution</td>\n",
       "      <td>NR</td>\n",
       "    </tr>\n",
       "  </tbody>\n",
       "</table>\n",
       "</div>"
      ],
      "text/plain": [
       "                                        title  score_c  rating_c  score_u  \\\n",
       "0            Resident Evil: The Final Chapter       35      0.44     51.0   \n",
       "1                                  Passengers       31      0.49     63.0   \n",
       "2  Beauty And The Beast (La Belle Et La Bête)       32      0.46     53.0   \n",
       "3     Fantastic Beasts And Where To Find Them       73      0.68     79.0   \n",
       "4                         Absolutely Anything       18      0.37     31.0   \n",
       "\n",
       "   rating_u            director  runtime in_theatre                 studio  \\\n",
       "0      0.59  Paul W.S. Anderson    106.0 2017-01-27          Sony Pictures   \n",
       "1      0.47       Morten Tyldum    116.0 2016-12-21      Columbia Pictures   \n",
       "2      0.66     Christophe Gans    112.0 2014-01-03                    NaN   \n",
       "3      0.70    David Yates (II)    132.0 2016-11-18  Warner Bros. Pictures   \n",
       "4      0.54         Terry Jones     85.0 2017-05-12     Atlas Distribution   \n",
       "\n",
       "  audience_rating  \n",
       "0               R  \n",
       "1           PG-13  \n",
       "2           PG-13  \n",
       "3           PG-13  \n",
       "4              NR  "
      ]
     },
     "execution_count": 48,
     "metadata": {},
     "output_type": "execute_result"
    }
   ],
   "source": [
    "df_for_analysis.head()"
   ]
  },
  {
   "cell_type": "markdown",
   "metadata": {},
   "source": [
    "The release date is not interesting in itself for the current question, but there might be months that are better for release than others, so I will create a new column 'month'."
   ]
  },
  {
   "cell_type": "code",
   "execution_count": 49,
   "metadata": {
    "collapsed": true
   },
   "outputs": [],
   "source": [
    "df_for_analysis['month'] = df_for_analysis.in_theatre.dt.strftime('%b')"
   ]
  },
  {
   "cell_type": "code",
   "execution_count": 50,
   "metadata": {},
   "outputs": [
    {
     "data": {
      "text/html": [
       "<div>\n",
       "<style>\n",
       "    .dataframe thead tr:only-child th {\n",
       "        text-align: right;\n",
       "    }\n",
       "\n",
       "    .dataframe thead th {\n",
       "        text-align: left;\n",
       "    }\n",
       "\n",
       "    .dataframe tbody tr th {\n",
       "        vertical-align: top;\n",
       "    }\n",
       "</style>\n",
       "<table border=\"1\" class=\"dataframe\">\n",
       "  <thead>\n",
       "    <tr style=\"text-align: right;\">\n",
       "      <th></th>\n",
       "      <th>title</th>\n",
       "      <th>score_c</th>\n",
       "      <th>rating_c</th>\n",
       "      <th>score_u</th>\n",
       "      <th>rating_u</th>\n",
       "      <th>director</th>\n",
       "      <th>runtime</th>\n",
       "      <th>in_theatre</th>\n",
       "      <th>studio</th>\n",
       "      <th>audience_rating</th>\n",
       "      <th>month</th>\n",
       "    </tr>\n",
       "  </thead>\n",
       "  <tbody>\n",
       "    <tr>\n",
       "      <th>0</th>\n",
       "      <td>Resident Evil: The Final Chapter</td>\n",
       "      <td>35</td>\n",
       "      <td>0.44</td>\n",
       "      <td>51.0</td>\n",
       "      <td>0.59</td>\n",
       "      <td>Paul W.S. Anderson</td>\n",
       "      <td>106.0</td>\n",
       "      <td>2017-01-27</td>\n",
       "      <td>Sony Pictures</td>\n",
       "      <td>R</td>\n",
       "      <td>Jan</td>\n",
       "    </tr>\n",
       "    <tr>\n",
       "      <th>1</th>\n",
       "      <td>Passengers</td>\n",
       "      <td>31</td>\n",
       "      <td>0.49</td>\n",
       "      <td>63.0</td>\n",
       "      <td>0.47</td>\n",
       "      <td>Morten Tyldum</td>\n",
       "      <td>116.0</td>\n",
       "      <td>2016-12-21</td>\n",
       "      <td>Columbia Pictures</td>\n",
       "      <td>PG-13</td>\n",
       "      <td>Dec</td>\n",
       "    </tr>\n",
       "    <tr>\n",
       "      <th>2</th>\n",
       "      <td>Beauty And The Beast (La Belle Et La Bête)</td>\n",
       "      <td>32</td>\n",
       "      <td>0.46</td>\n",
       "      <td>53.0</td>\n",
       "      <td>0.66</td>\n",
       "      <td>Christophe Gans</td>\n",
       "      <td>112.0</td>\n",
       "      <td>2014-01-03</td>\n",
       "      <td>NaN</td>\n",
       "      <td>PG-13</td>\n",
       "      <td>Jan</td>\n",
       "    </tr>\n",
       "    <tr>\n",
       "      <th>3</th>\n",
       "      <td>Fantastic Beasts And Where To Find Them</td>\n",
       "      <td>73</td>\n",
       "      <td>0.68</td>\n",
       "      <td>79.0</td>\n",
       "      <td>0.70</td>\n",
       "      <td>David Yates (II)</td>\n",
       "      <td>132.0</td>\n",
       "      <td>2016-11-18</td>\n",
       "      <td>Warner Bros. Pictures</td>\n",
       "      <td>PG-13</td>\n",
       "      <td>Nov</td>\n",
       "    </tr>\n",
       "    <tr>\n",
       "      <th>4</th>\n",
       "      <td>Absolutely Anything</td>\n",
       "      <td>18</td>\n",
       "      <td>0.37</td>\n",
       "      <td>31.0</td>\n",
       "      <td>0.54</td>\n",
       "      <td>Terry Jones</td>\n",
       "      <td>85.0</td>\n",
       "      <td>2017-05-12</td>\n",
       "      <td>Atlas Distribution</td>\n",
       "      <td>NR</td>\n",
       "      <td>May</td>\n",
       "    </tr>\n",
       "  </tbody>\n",
       "</table>\n",
       "</div>"
      ],
      "text/plain": [
       "                                        title  score_c  rating_c  score_u  \\\n",
       "0            Resident Evil: The Final Chapter       35      0.44     51.0   \n",
       "1                                  Passengers       31      0.49     63.0   \n",
       "2  Beauty And The Beast (La Belle Et La Bête)       32      0.46     53.0   \n",
       "3     Fantastic Beasts And Where To Find Them       73      0.68     79.0   \n",
       "4                         Absolutely Anything       18      0.37     31.0   \n",
       "\n",
       "   rating_u            director  runtime in_theatre                 studio  \\\n",
       "0      0.59  Paul W.S. Anderson    106.0 2017-01-27          Sony Pictures   \n",
       "1      0.47       Morten Tyldum    116.0 2016-12-21      Columbia Pictures   \n",
       "2      0.66     Christophe Gans    112.0 2014-01-03                    NaN   \n",
       "3      0.70    David Yates (II)    132.0 2016-11-18  Warner Bros. Pictures   \n",
       "4      0.54         Terry Jones     85.0 2017-05-12     Atlas Distribution   \n",
       "\n",
       "  audience_rating month  \n",
       "0               R   Jan  \n",
       "1           PG-13   Dec  \n",
       "2           PG-13   Jan  \n",
       "3           PG-13   Nov  \n",
       "4              NR   May  "
      ]
     },
     "execution_count": 50,
     "metadata": {},
     "output_type": "execute_result"
    }
   ],
   "source": [
    "df_for_analysis.head()"
   ]
  },
  {
   "cell_type": "code",
   "execution_count": 51,
   "metadata": {
    "collapsed": true
   },
   "outputs": [],
   "source": [
    "df_for_analysis = df_for_analysis.drop('in_theatre', 1)"
   ]
  },
  {
   "cell_type": "markdown",
   "metadata": {},
   "source": [
    "Pickle it!"
   ]
  },
  {
   "cell_type": "code",
   "execution_count": 52,
   "metadata": {
    "collapsed": true
   },
   "outputs": [],
   "source": [
    "df_for_analysis.to_pickle('df_for_analysis.pkl')"
   ]
  }
 ],
 "metadata": {
  "kernelspec": {
   "display_name": "Python 3",
   "language": "python",
   "name": "python3"
  },
  "language_info": {
   "codemirror_mode": {
    "name": "ipython",
    "version": 3
   },
   "file_extension": ".py",
   "mimetype": "text/x-python",
   "name": "python",
   "nbconvert_exporter": "python",
   "pygments_lexer": "ipython3",
   "version": "3.6.1"
  }
 },
 "nbformat": 4,
 "nbformat_minor": 2
}
