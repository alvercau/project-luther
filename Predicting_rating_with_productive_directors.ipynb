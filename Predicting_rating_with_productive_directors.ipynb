{
 "cells": [
  {
   "cell_type": "code",
   "execution_count": 127,
   "metadata": {},
   "outputs": [],
   "source": [
    "from __future__ import print_function\n",
    "\n",
    "import numpy as np\n",
    "import pandas as pd\n",
    "\n",
    "import patsy\n",
    "import pickle\n",
    "import statsmodels.api as sm\n",
    "import statsmodels.formula.api as smf\n",
    "import seaborn as sns\n",
    "from seaborn import plt\n",
    "from sklearn.linear_model import LinearRegression\n",
    "from sklearn.linear_model import Ridge\n",
    "from sklearn.cross_validation import train_test_split\n",
    "from collections import defaultdict\n",
    "\n",
    "%matplotlib inline"
   ]
  },
  {
   "cell_type": "code",
   "execution_count": 128,
   "metadata": {
    "collapsed": true
   },
   "outputs": [],
   "source": [
    "df = pd.read_pickle('df_all_cat.pkl')"
   ]
  },
  {
   "cell_type": "code",
   "execution_count": 129,
   "metadata": {},
   "outputs": [
    {
     "data": {
      "text/html": [
       "<div>\n",
       "<style>\n",
       "    .dataframe thead tr:only-child th {\n",
       "        text-align: right;\n",
       "    }\n",
       "\n",
       "    .dataframe thead th {\n",
       "        text-align: left;\n",
       "    }\n",
       "\n",
       "    .dataframe tbody tr th {\n",
       "        vertical-align: top;\n",
       "    }\n",
       "</style>\n",
       "<table border=\"1\" class=\"dataframe\">\n",
       "  <thead>\n",
       "    <tr style=\"text-align: right;\">\n",
       "      <th></th>\n",
       "      <th>title</th>\n",
       "      <th>score_c</th>\n",
       "      <th>rating_c</th>\n",
       "      <th>score_u</th>\n",
       "      <th>rating_u</th>\n",
       "      <th>director</th>\n",
       "      <th>runtime</th>\n",
       "      <th>audience_rating</th>\n",
       "      <th>month</th>\n",
       "      <th>month[T.Aug]</th>\n",
       "      <th>...</th>\n",
       "      <th>director[T.Yoshitaka Amano]</th>\n",
       "      <th>director[T.Yvan Attal]</th>\n",
       "      <th>director[T.Zach Helm]</th>\n",
       "      <th>director[T.Zack Snyder]</th>\n",
       "      <th>director[T.Zhang Zhiliang]</th>\n",
       "      <th>audience_rating[T.NC17]</th>\n",
       "      <th>audience_rating[T.NR]</th>\n",
       "      <th>audience_rating[T.PG]</th>\n",
       "      <th>audience_rating[T.PG-13]</th>\n",
       "      <th>audience_rating[T.R]</th>\n",
       "    </tr>\n",
       "  </thead>\n",
       "  <tbody>\n",
       "    <tr>\n",
       "      <th>0</th>\n",
       "      <td>Resident Evil: The Final Chapter</td>\n",
       "      <td>35</td>\n",
       "      <td>0.44</td>\n",
       "      <td>51.0</td>\n",
       "      <td>0.59</td>\n",
       "      <td>Paul W.S. Anderson</td>\n",
       "      <td>106.0</td>\n",
       "      <td>R</td>\n",
       "      <td>Jan</td>\n",
       "      <td>0.0</td>\n",
       "      <td>...</td>\n",
       "      <td>0.0</td>\n",
       "      <td>0.0</td>\n",
       "      <td>0.0</td>\n",
       "      <td>0.0</td>\n",
       "      <td>0.0</td>\n",
       "      <td>0.0</td>\n",
       "      <td>0.0</td>\n",
       "      <td>0.0</td>\n",
       "      <td>0.0</td>\n",
       "      <td>1.0</td>\n",
       "    </tr>\n",
       "  </tbody>\n",
       "</table>\n",
       "<p>1 rows × 1038 columns</p>\n",
       "</div>"
      ],
      "text/plain": [
       "                              title  score_c  rating_c  score_u  rating_u  \\\n",
       "0  Resident Evil: The Final Chapter       35      0.44     51.0      0.59   \n",
       "\n",
       "             director  runtime audience_rating month  month[T.Aug]  \\\n",
       "0  Paul W.S. Anderson    106.0               R   Jan           0.0   \n",
       "\n",
       "           ...           director[T.Yoshitaka Amano]  director[T.Yvan Attal]  \\\n",
       "0          ...                                   0.0                     0.0   \n",
       "\n",
       "   director[T.Zach Helm]  director[T.Zack Snyder]  director[T.Zhang Zhiliang]  \\\n",
       "0                    0.0                      0.0                         0.0   \n",
       "\n",
       "   audience_rating[T.NC17]  audience_rating[T.NR]  audience_rating[T.PG]  \\\n",
       "0                      0.0                    0.0                    0.0   \n",
       "\n",
       "   audience_rating[T.PG-13]  audience_rating[T.R]  \n",
       "0                       0.0                   1.0  \n",
       "\n",
       "[1 rows x 1038 columns]"
      ]
     },
     "execution_count": 129,
     "metadata": {},
     "output_type": "execute_result"
    }
   ],
   "source": [
    "df.head(1)"
   ]
  },
  {
   "cell_type": "code",
   "execution_count": 130,
   "metadata": {},
   "outputs": [],
   "source": [
    "df_no_cat = pd.read_pickle('no_cat.pkl')"
   ]
  },
  {
   "cell_type": "code",
   "execution_count": 131,
   "metadata": {},
   "outputs": [
    {
     "data": {
      "text/html": [
       "<div>\n",
       "<style>\n",
       "    .dataframe thead tr:only-child th {\n",
       "        text-align: right;\n",
       "    }\n",
       "\n",
       "    .dataframe thead th {\n",
       "        text-align: left;\n",
       "    }\n",
       "\n",
       "    .dataframe tbody tr th {\n",
       "        vertical-align: top;\n",
       "    }\n",
       "</style>\n",
       "<table border=\"1\" class=\"dataframe\">\n",
       "  <thead>\n",
       "    <tr style=\"text-align: right;\">\n",
       "      <th></th>\n",
       "      <th>title</th>\n",
       "      <th>score_c</th>\n",
       "      <th>rating_c</th>\n",
       "      <th>score_u</th>\n",
       "      <th>rating_u</th>\n",
       "      <th>director</th>\n",
       "      <th>runtime</th>\n",
       "      <th>audience_rating</th>\n",
       "      <th>month</th>\n",
       "    </tr>\n",
       "  </thead>\n",
       "  <tbody>\n",
       "    <tr>\n",
       "      <th>0</th>\n",
       "      <td>Resident Evil: The Final Chapter</td>\n",
       "      <td>35</td>\n",
       "      <td>0.44</td>\n",
       "      <td>51.0</td>\n",
       "      <td>0.59</td>\n",
       "      <td>Paul W.S. Anderson</td>\n",
       "      <td>106.0</td>\n",
       "      <td>R</td>\n",
       "      <td>Jan</td>\n",
       "    </tr>\n",
       "    <tr>\n",
       "      <th>1</th>\n",
       "      <td>Passengers</td>\n",
       "      <td>31</td>\n",
       "      <td>0.49</td>\n",
       "      <td>63.0</td>\n",
       "      <td>0.47</td>\n",
       "      <td>Morten Tyldum</td>\n",
       "      <td>116.0</td>\n",
       "      <td>PG-13</td>\n",
       "      <td>Dec</td>\n",
       "    </tr>\n",
       "    <tr>\n",
       "      <th>2</th>\n",
       "      <td>Beauty And The Beast (La Belle Et La Bête)</td>\n",
       "      <td>32</td>\n",
       "      <td>0.46</td>\n",
       "      <td>53.0</td>\n",
       "      <td>0.66</td>\n",
       "      <td>Christophe Gans</td>\n",
       "      <td>112.0</td>\n",
       "      <td>PG-13</td>\n",
       "      <td>Jan</td>\n",
       "    </tr>\n",
       "    <tr>\n",
       "      <th>3</th>\n",
       "      <td>Fantastic Beasts And Where To Find Them</td>\n",
       "      <td>73</td>\n",
       "      <td>0.68</td>\n",
       "      <td>79.0</td>\n",
       "      <td>0.70</td>\n",
       "      <td>David Yates (II)</td>\n",
       "      <td>132.0</td>\n",
       "      <td>PG-13</td>\n",
       "      <td>Nov</td>\n",
       "    </tr>\n",
       "    <tr>\n",
       "      <th>4</th>\n",
       "      <td>Absolutely Anything</td>\n",
       "      <td>18</td>\n",
       "      <td>0.37</td>\n",
       "      <td>31.0</td>\n",
       "      <td>0.54</td>\n",
       "      <td>Terry Jones</td>\n",
       "      <td>85.0</td>\n",
       "      <td>NR</td>\n",
       "      <td>May</td>\n",
       "    </tr>\n",
       "  </tbody>\n",
       "</table>\n",
       "</div>"
      ],
      "text/plain": [
       "                                        title  score_c  rating_c  score_u  \\\n",
       "0            Resident Evil: The Final Chapter       35      0.44     51.0   \n",
       "1                                  Passengers       31      0.49     63.0   \n",
       "2  Beauty And The Beast (La Belle Et La Bête)       32      0.46     53.0   \n",
       "3     Fantastic Beasts And Where To Find Them       73      0.68     79.0   \n",
       "4                         Absolutely Anything       18      0.37     31.0   \n",
       "\n",
       "   rating_u            director  runtime audience_rating month  \n",
       "0      0.59  Paul W.S. Anderson    106.0               R   Jan  \n",
       "1      0.47       Morten Tyldum    116.0           PG-13   Dec  \n",
       "2      0.66     Christophe Gans    112.0           PG-13   Jan  \n",
       "3      0.70    David Yates (II)    132.0           PG-13   Nov  \n",
       "4      0.54         Terry Jones     85.0              NR   May  "
      ]
     },
     "execution_count": 131,
     "metadata": {},
     "output_type": "execute_result"
    }
   ],
   "source": [
    "df_no_cat.head()"
   ]
  },
  {
   "cell_type": "code",
   "execution_count": 132,
   "metadata": {},
   "outputs": [],
   "source": [
    "director_counts = defaultdict(int)\n",
    "for director in df_no_cat.director:\n",
    "    director_counts[director]+=1"
   ]
  },
  {
   "cell_type": "code",
   "execution_count": 133,
   "metadata": {},
   "outputs": [],
   "source": [
    "productive_directors = []\n",
    "for k, v in director_counts.items():\n",
    "    if v > 5:\n",
    "        productive_directors.append(k)"
   ]
  },
  {
   "cell_type": "code",
   "execution_count": 134,
   "metadata": {},
   "outputs": [
    {
     "data": {
      "text/plain": [
       "['Paul W.S. Anderson',\n",
       " 'Roland Emmerich',\n",
       " 'Tim Burton',\n",
       " 'Bryan Singer',\n",
       " 'Steven Spielberg',\n",
       " 'Peter Jackson',\n",
       " 'Terry Gilliam',\n",
       " 'Michael Bay',\n",
       " 'Sam Raimi',\n",
       " 'Joe Dante',\n",
       " 'David Cronenberg',\n",
       " 'Ridley Scott',\n",
       " 'M. Night Shyamalan',\n",
       " 'James Cameron',\n",
       " 'Robert Zemeckis',\n",
       " 'Robert Stevenson',\n",
       " 'John Carpenter']"
      ]
     },
     "execution_count": 134,
     "metadata": {},
     "output_type": "execute_result"
    }
   ],
   "source": [
    "productive_directors"
   ]
  },
  {
   "cell_type": "code",
   "execution_count": 135,
   "metadata": {
    "collapsed": true
   },
   "outputs": [],
   "source": [
    "df_prod_dir = df[df.director.isin(productive_directors)]"
   ]
  },
  {
   "cell_type": "code",
   "execution_count": 136,
   "metadata": {},
   "outputs": [
    {
     "data": {
      "text/plain": [
       "125"
      ]
     },
     "execution_count": 136,
     "metadata": {},
     "output_type": "execute_result"
    }
   ],
   "source": [
    "len(df_prod_dir)"
   ]
  },
  {
   "cell_type": "code",
   "execution_count": 137,
   "metadata": {},
   "outputs": [
    {
     "data": {
      "text/plain": [
       "Index(['title', 'score_c', 'rating_c', 'score_u', 'rating_u', 'director',\n",
       "       'runtime', 'audience_rating', 'month', 'month[T.Aug]',\n",
       "       ...\n",
       "       'director[T.Yoshitaka Amano]', 'director[T.Yvan Attal]',\n",
       "       'director[T.Zach Helm]', 'director[T.Zack Snyder]',\n",
       "       'director[T.Zhang Zhiliang]', 'audience_rating[T.NC17]',\n",
       "       'audience_rating[T.NR]', 'audience_rating[T.PG]',\n",
       "       'audience_rating[T.PG-13]', 'audience_rating[T.R]'],\n",
       "      dtype='object', length=1038)"
      ]
     },
     "execution_count": 137,
     "metadata": {},
     "output_type": "execute_result"
    }
   ],
   "source": [
    "df_prod_dir.columns"
   ]
  },
  {
   "cell_type": "code",
   "execution_count": 138,
   "metadata": {
    "collapsed": true
   },
   "outputs": [],
   "source": [
    "def run_model_sk(X_train, y_train):\n",
    "    lr = LinearRegression()\n",
    "    lr.fit(X_train, y_train)\n",
    "    return lr"
   ]
  },
  {
   "cell_type": "markdown",
   "metadata": {},
   "source": [
    "## With all variables\n",
    "\n",
    "### audience ratings"
   ]
  },
  {
   "cell_type": "code",
   "execution_count": 139,
   "metadata": {},
   "outputs": [
    {
     "name": "stdout",
     "output_type": "stream",
     "text": [
      "Training score audience:  0.642496722955\n",
      "Testing score audience:  0.0436441890304\n"
     ]
    }
   ],
   "source": [
    "y = df_prod_dir.rating_u\n",
    "X = df_prod_dir.drop(['title', 'rating_c', 'score_c', 'rating_u', 'score_u', 'director', 'audience_rating', 'month'], 1)\n",
    "\n",
    "X_train, X_test, y_train, y_test = train_test_split(X, y, random_state = 42)\n",
    "\n",
    "sk_a = run_model_sk(X_train, y_train)\n",
    "print('Training score audience: ', sk_a.score(X_train, y_train))\n",
    "print('Testing score audience: ', sk_a.score(X_test, y_test))"
   ]
  },
  {
   "cell_type": "code",
   "execution_count": 140,
   "metadata": {},
   "outputs": [
    {
     "name": "stdout",
     "output_type": "stream",
     "text": [
      "0.1 0.175828004412\n",
      "0.2 0.222855245352\n",
      "0.3 0.243283391944\n",
      "0.4 0.251942094227\n",
      "0.5 0.254661238491\n",
      "0.6 0.254134593245\n",
      "0.7 0.251747769548\n",
      "0.8 0.248270298103\n",
      "0.9 0.244154428099\n",
      "1.0 0.239677377836\n"
     ]
    }
   ],
   "source": [
    "for alpha in np.arange(0.1, 1.1, 0.1):\n",
    "    print(alpha, Ridge(normalize=True, alpha=alpha).fit(X_train, y_train).score(X_test, y_test))"
   ]
  },
  {
   "cell_type": "code",
   "execution_count": 141,
   "metadata": {},
   "outputs": [
    {
     "name": "stdout",
     "output_type": "stream",
     "text": [
      "0.440932481334\n",
      "0.239677377836\n"
     ]
    }
   ],
   "source": [
    "rid_a = Ridge(normalize=True, alpha=1)\n",
    "fit_a = rid_a.fit(X_train, y_train)\n",
    "print(fit_a.score(X_train, y_train))\n",
    "print(fit_a.score(X_test, y_test))"
   ]
  },
  {
   "cell_type": "markdown",
   "metadata": {},
   "source": [
    "### Critics ratings"
   ]
  },
  {
   "cell_type": "code",
   "execution_count": 142,
   "metadata": {},
   "outputs": [
    {
     "name": "stdout",
     "output_type": "stream",
     "text": [
      "Training score audience:  0.671844900753\n",
      "Testing score audience:  -0.00590450125018\n",
      "0.1 0.144044138164\n",
      "0.2 0.205496009166\n",
      "0.3 0.235162112433\n",
      "0.4 0.250022173255\n",
      "0.5 0.257034848974\n",
      "0.6 0.259540641166\n",
      "0.7 0.259321901011\n",
      "0.8 0.257403633413\n",
      "0.9 0.254408720869\n",
      "1.0 0.250731697168\n"
     ]
    }
   ],
   "source": [
    "y = df_prod_dir.rating_c\n",
    "X = df_prod_dir.drop(['title', 'rating_c', 'score_c', 'rating_u', 'score_u', 'director', 'audience_rating', 'month'], 1)\n",
    "\n",
    "X_train, X_test, y_train, y_test = train_test_split(X, y, random_state = 42)\n",
    "sk_d = run_model_sk(X_train, y_train)\n",
    "print('Training score audience: ', sk_d.score(X_train, y_train))\n",
    "print('Testing score audience: ', sk_d.score(X_test, y_test))\n",
    "\n",
    "for alpha in np.arange(0.1, 1.1, 0.1):\n",
    "    print(alpha, Ridge(normalize=True, alpha=alpha).fit(X_train, y_train).score(X_test, y_test))"
   ]
  },
  {
   "cell_type": "code",
   "execution_count": 143,
   "metadata": {},
   "outputs": [
    {
     "name": "stdout",
     "output_type": "stream",
     "text": [
      "0.517908236329\n",
      "0.259540641166\n"
     ]
    }
   ],
   "source": [
    "rid_c = Ridge(normalize=True, alpha=0.6)\n",
    "fit_c = rid_c.fit(X_train, y_train)\n",
    "print(fit_c.score(X_train, y_train))\n",
    "print(fit_c.score(X_test, y_test))"
   ]
  },
  {
   "cell_type": "markdown",
   "metadata": {},
   "source": [
    "## Only directors"
   ]
  },
  {
   "cell_type": "code",
   "execution_count": 144,
   "metadata": {
    "collapsed": true
   },
   "outputs": [],
   "source": [
    "df_dir_ncat = df_no_cat[df_no_cat.director.isin(productive_directors)]"
   ]
  },
  {
   "cell_type": "code",
   "execution_count": 145,
   "metadata": {},
   "outputs": [
    {
     "data": {
      "text/plain": [
       "Index(['title', 'score_c', 'rating_c', 'score_u', 'rating_u', 'director',\n",
       "       'runtime', 'audience_rating', 'month'],\n",
       "      dtype='object')"
      ]
     },
     "execution_count": 145,
     "metadata": {},
     "output_type": "execute_result"
    }
   ],
   "source": [
    "df_dir_ncat.columns"
   ]
  },
  {
   "cell_type": "code",
   "execution_count": 146,
   "metadata": {},
   "outputs": [
    {
     "data": {
      "text/plain": [
       "Index(['title', 'score_c', 'rating_c', 'score_u', 'rating_u', 'director',\n",
       "       'runtime', 'audience_rating', 'month', 'director[T.David Cronenberg]',\n",
       "       'director[T.James Cameron]', 'director[T.Joe Dante]',\n",
       "       'director[T.John Carpenter]', 'director[T.M. Night Shyamalan]',\n",
       "       'director[T.Michael Bay]', 'director[T.Paul W.S. Anderson]',\n",
       "       'director[T.Peter Jackson]', 'director[T.Ridley Scott]',\n",
       "       'director[T.Robert Stevenson]', 'director[T.Robert Zemeckis]',\n",
       "       'director[T.Roland Emmerich]', 'director[T.Sam Raimi]',\n",
       "       'director[T.Steven Spielberg]', 'director[T.Terry Gilliam]',\n",
       "       'director[T.Tim Burton]'],\n",
       "      dtype='object')"
      ]
     },
     "execution_count": 146,
     "metadata": {},
     "output_type": "execute_result"
    }
   ],
   "source": [
    "director = patsy.dmatrix('director',data=df_dir_ncat,return_type='dataframe')\n",
    "with_d = df_dir_ncat.join(director).drop('Intercept', axis=1)\n",
    "with_d.columns"
   ]
  },
  {
   "cell_type": "markdown",
   "metadata": {},
   "source": [
    "### Audience rating"
   ]
  },
  {
   "cell_type": "code",
   "execution_count": 147,
   "metadata": {},
   "outputs": [
    {
     "name": "stdout",
     "output_type": "stream",
     "text": [
      "Training score audience:  0.48800742439\n",
      "Testing score audience:  0.342112266032\n"
     ]
    }
   ],
   "source": [
    "y = with_d.rating_u\n",
    "X = with_d.drop(['title', 'rating_c', 'score_c', 'rating_u', 'score_u', 'director', 'audience_rating', 'month', 'runtime'], 1)\n",
    "\n",
    "X_train, X_test, y_train, y_test = train_test_split(X, y, random_state = 42)\n",
    "\n",
    "sk_da = run_model_sk(X_train, y_train)\n",
    "print('Training score audience: ', sk_da.score(X_train, y_train))\n",
    "print('Testing score audience: ', sk_da.score(X_test, y_test))"
   ]
  },
  {
   "cell_type": "code",
   "execution_count": 148,
   "metadata": {},
   "outputs": [
    {
     "name": "stdout",
     "output_type": "stream",
     "text": [
      "0.1 0.349501044704\n",
      "0.2 0.348566942966\n",
      "0.3 0.344044557138\n",
      "0.4 0.337417798256\n",
      "0.5 0.329586795552\n",
      "0.6 0.321120511572\n",
      "0.7 0.31238280607\n",
      "0.8 0.303607013028\n",
      "0.9 0.294941939142\n",
      "1.0 0.286480933419\n"
     ]
    }
   ],
   "source": [
    "for alpha in np.arange(0.1, 1.1, 0.1):\n",
    "    print(alpha, Ridge(normalize=True, alpha=alpha).fit(X_train, y_train).score(X_test, y_test))"
   ]
  },
  {
   "cell_type": "code",
   "execution_count": 149,
   "metadata": {},
   "outputs": [
    {
     "name": "stdout",
     "output_type": "stream",
     "text": [
      "0.434477841718\n",
      "0.329586795552\n"
     ]
    }
   ],
   "source": [
    "rid_ad = Ridge(normalize=True, alpha=0.5)\n",
    "fit_ad = rid_ad.fit(X_train, y_train)\n",
    "print(fit_ad.score(X_train, y_train))\n",
    "print(fit_ad.score(X_test, y_test))"
   ]
  },
  {
   "cell_type": "code",
   "execution_count": 150,
   "metadata": {},
   "outputs": [
    {
     "data": {
      "text/plain": [
       "[(0.12166666666666667, 'month'),\n",
       " (0.090714285714285775, 'audience_rating'),\n",
       " (0.040000000000000105, 'director[T.John Carpenter]'),\n",
       " (0.025000000000000203, 'director[T.M. Night Shyamalan]'),\n",
       " (0.007500000000000312, 'score_c'),\n",
       " (-0.011666666666666548, 'rating_c'),\n",
       " (-0.021666666666666348, 'director[T.James Cameron]')]"
      ]
     },
     "execution_count": 150,
     "metadata": {},
     "output_type": "execute_result"
    }
   ],
   "source": [
    "zipped = zip(sk_da.coef_, with_d.columns)\n",
    "sorted(zipped, key = lambda x: x[0], reverse=True)[:7]"
   ]
  },
  {
   "cell_type": "markdown",
   "metadata": {},
   "source": [
    "### Critics rating"
   ]
  },
  {
   "cell_type": "code",
   "execution_count": 151,
   "metadata": {},
   "outputs": [
    {
     "name": "stdout",
     "output_type": "stream",
     "text": [
      "Training score audience:  0.463677003307\n",
      "Testing score audience:  0.465122845119\n"
     ]
    }
   ],
   "source": [
    "y = with_d.rating_c\n",
    "X = with_d.drop(['title', 'rating_c', 'score_c', 'rating_u', 'score_u', 'director', 'audience_rating', 'month'], 1)\n",
    "\n",
    "X_train, X_test, y_train, y_test = train_test_split(X, y, random_state = 42)\n",
    "sk_dc = run_model_sk(X_train, y_train)\n",
    "print('Training score audience: ', sk_dc.score(X_train, y_train))\n",
    "print('Testing score audience: ', sk_dc.score(X_test, y_test))"
   ]
  },
  {
   "cell_type": "code",
   "execution_count": 152,
   "metadata": {},
   "outputs": [
    {
     "name": "stdout",
     "output_type": "stream",
     "text": [
      "0.1 0.468253219929\n",
      "0.2 0.45690575415\n",
      "0.3 0.442287036241\n",
      "0.4 0.426744406785\n",
      "0.5 0.411213560377\n",
      "0.6 0.396118775108\n",
      "0.7 0.381655364456\n",
      "0.8 0.367904890838\n",
      "0.9 0.354889199688\n",
      "1.0 0.34259809994\n"
     ]
    }
   ],
   "source": [
    "for alpha in np.arange(0.1, 1.1, 0.1):\n",
    "    print(alpha, Ridge(normalize=True, alpha=alpha).fit(X_train, y_train).score(X_test, y_test))"
   ]
  },
  {
   "cell_type": "code",
   "execution_count": 153,
   "metadata": {},
   "outputs": [
    {
     "name": "stdout",
     "output_type": "stream",
     "text": [
      "0.388330114168\n",
      "0.396118775108\n"
     ]
    }
   ],
   "source": [
    "rid_cd = Ridge(normalize=True, alpha=0.6)\n",
    "fit_cd = rid_c.fit(X_train, y_train)\n",
    "print(fit_cd.score(X_train, y_train))\n",
    "print(fit_cd.score(X_test, y_test))"
   ]
  },
  {
   "cell_type": "code",
   "execution_count": 154,
   "metadata": {},
   "outputs": [
    {
     "data": {
      "text/plain": [
       "[(0.0933043228929894, 'director[T.David Cronenberg]'),\n",
       " (0.063566917243398052, 'director[T.M. Night Shyamalan]'),\n",
       " (0.035061179376725482, 'rating_c'),\n",
       " (0.034898791671741383, 'score_c'),\n",
       " (0.026541524716297074, 'month'),\n",
       " (0.0014875714604644409, 'title'),\n",
       " (-0.0043336574445343307, 'director[T.Peter Jackson]')]"
      ]
     },
     "execution_count": 154,
     "metadata": {},
     "output_type": "execute_result"
    }
   ],
   "source": [
    "zipped = zip(sk_dc.coef_, with_d.columns)\n",
    "sorted(zipped, key = lambda x: x[0], reverse=True)[:7]"
   ]
  },
  {
   "cell_type": "code",
   "execution_count": null,
   "metadata": {
    "collapsed": true
   },
   "outputs": [],
   "source": []
  }
 ],
 "metadata": {
  "kernelspec": {
   "display_name": "Python 3",
   "language": "python",
   "name": "python3"
  },
  "language_info": {
   "codemirror_mode": {
    "name": "ipython",
    "version": 3
   },
   "file_extension": ".py",
   "mimetype": "text/x-python",
   "name": "python",
   "nbconvert_exporter": "python",
   "pygments_lexer": "ipython3",
   "version": "3.6.1"
  }
 },
 "nbformat": 4,
 "nbformat_minor": 2
}
