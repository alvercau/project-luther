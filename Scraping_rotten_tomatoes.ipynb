{
 "cells": [
  {
   "cell_type": "markdown",
   "metadata": {},
   "source": [
    "# Scraping the data"
   ]
  },
  {
   "cell_type": "code",
   "execution_count": 119,
   "metadata": {
    "collapsed": true
   },
   "outputs": [],
   "source": [
    "from __future__ import print_function\n",
    "\n",
    "from selenium import webdriver\n",
    "from selenium.webdriver.common.keys import Keys\n",
    "import time\n",
    "import numpy as np\n",
    "\n",
    "import os\n",
    "import re\n",
    "\n",
    "import pandas as pd\n",
    "\n",
    "chromedriver = \"/Applications/chromedriver\"\n",
    "os.environ[\"webdriver.chrome.driver\"] = chromedriver\n",
    "driver = webdriver.Chrome(chromedriver)"
   ]
  },
  {
   "cell_type": "markdown",
   "metadata": {},
   "source": [
    "I will do an analysis on the Sci-Fi and Fantasy movies of all times on Rotten Tomatoes."
   ]
  },
  {
   "cell_type": "code",
   "execution_count": 120,
   "metadata": {
    "collapsed": true
   },
   "outputs": [],
   "source": [
    "url = 'https://www.rottentomatoes.com/browse/dvd-streaming-all?minTomato=0&maxTomato=100&services=amazon;hbo_go\\\n",
    ";itunes;netflix_iw;vudu;amazon_prime;fandango_now&genres=14&sortBy=release'"
   ]
  },
  {
   "cell_type": "code",
   "execution_count": 123,
   "metadata": {},
   "outputs": [],
   "source": [
    "driver.get(url)"
   ]
  },
  {
   "cell_type": "markdown",
   "metadata": {},
   "source": [
    "# Part one: getting general information about the movies with Selenium\n",
    "\n",
    "The reason why I do this with Selenium and the further data scraping (also) with Scrapy instead of doing everything with one package is twofold:\n",
    "* I didn't manage to find the necessary urls with Scrapy, not even when copying the exact Xpath from the browser, so I wasn't able to do part one with scrapy. Part two takes forever with Selenium (driver.get(url) is not time efficient at all), so I decided to scrape the data for each movie with Scrapy.\n",
    "* To learn the basics about both Selenium and Scrapy. \n",
    "\n",
    "The main difference in utility that I noticed is that when working with Selenium, you simulate a real person. For instance, you cannot click buttons that are scrolled out of view. I assume that this is because Selenium uses a webdriver. With Scrapy you can simulate clicking whatever there is on the page, independently of whether it is in view or not.\n",
    "\n",
    "Three things will be extracted from the initial page (all Sci-Fi and Fantasy movies): \n",
    "\n",
    "* title\n",
    "* url to movie page\n",
    "\n",
    "*__Important:__* the rest of the information will be extracted per url. In order to put all of the data together in a df, there has to be a variable on which to match the rating information with the general information, nl. url.  \n",
    "As a first step, I will create two lists: one with urls, one with titles. Since lists are ordered, I assume that the elements at the same index in each of the three lists refers to the same movie. They can be added to a df, and afterwards, the url-column will be used as a reference to merge the rest of the data."
   ]
  },
  {
   "cell_type": "markdown",
   "metadata": {},
   "source": [
    "Only 32 out of 1528 movies are visible without clicking the 'show more' button. In order to see all movies from the chosen category, the button needs to be clicked 48 times.  \n",
    "A problem that surged was that clicking the button is not possible if it is scrolled out of view (see https://github.com/seleniumhq/selenium-google-code-issue-archive/issues/4637 where this problem is discussed). The solution was to scroll down to the button at each time it is found, and then click it.  \n",
    "Other possibility: try clicking the button (an scroll) until you get an error that the button wasn't found. This allows this code to be used if you do not know the total amount of movies."
   ]
  },
  {
   "cell_type": "code",
   "execution_count": null,
   "metadata": {},
   "outputs": [],
   "source": [
    "for i in range(49):\n",
    "    button = driver.find_element_by_css_selector('button.btn.btn-secondary-rt.mb-load-btn')\n",
    "    driver.execute_script(\"arguments[0].scrollIntoView();\", button)\n",
    "    button.click()"
   ]
  },
  {
   "cell_type": "markdown",
   "metadata": {},
   "source": [
    "__Get list of urls to all individual movies.__ "
   ]
  },
  {
   "cell_type": "code",
   "execution_count": 134,
   "metadata": {},
   "outputs": [
    {
     "ename": "ConnectionRefusedError",
     "evalue": "[Errno 61] Connection refused",
     "output_type": "error",
     "traceback": [
      "\u001b[0;31m---------------------------------------------------------------------------\u001b[0m",
      "\u001b[0;31mConnectionRefusedError\u001b[0m                    Traceback (most recent call last)",
      "\u001b[0;32m<ipython-input-134-6ae9587481cd>\u001b[0m in \u001b[0;36m<module>\u001b[0;34m()\u001b[0m\n\u001b[0;32m----> 1\u001b[0;31m \u001b[0mdivs\u001b[0m\u001b[0;34m=\u001b[0m\u001b[0mdriver\u001b[0m\u001b[0;34m.\u001b[0m\u001b[0mfind_elements_by_class_name\u001b[0m\u001b[0;34m(\u001b[0m\u001b[0;34m'poster_container'\u001b[0m\u001b[0;34m)\u001b[0m\u001b[0;34m\u001b[0m\u001b[0m\n\u001b[0m\u001b[1;32m      2\u001b[0m \u001b[0mlinks\u001b[0m \u001b[0;34m=\u001b[0m \u001b[0;34m[\u001b[0m\u001b[0;34m]\u001b[0m\u001b[0;34m\u001b[0m\u001b[0m\n\u001b[1;32m      3\u001b[0m \u001b[0;34m\u001b[0m\u001b[0m\n\u001b[1;32m      4\u001b[0m \u001b[0;32mfor\u001b[0m \u001b[0md\u001b[0m \u001b[0;32min\u001b[0m \u001b[0mdivs\u001b[0m\u001b[0;34m:\u001b[0m\u001b[0;34m\u001b[0m\u001b[0m\n\u001b[1;32m      5\u001b[0m     \u001b[0mlink\u001b[0m\u001b[0;34m=\u001b[0m\u001b[0md\u001b[0m\u001b[0;34m.\u001b[0m\u001b[0mfind_element_by_tag_name\u001b[0m\u001b[0;34m(\u001b[0m\u001b[0;34m'a'\u001b[0m\u001b[0;34m)\u001b[0m\u001b[0;34m\u001b[0m\u001b[0m\n",
      "\u001b[0;32m/Applications/anaconda/lib/python3.6/site-packages/selenium/webdriver/remote/webdriver.py\u001b[0m in \u001b[0;36mfind_elements_by_class_name\u001b[0;34m(self, name)\u001b[0m\n\u001b[1;32m    443\u001b[0m             \u001b[0mdriver\u001b[0m\u001b[0;34m.\u001b[0m\u001b[0mfind_elements_by_class_name\u001b[0m\u001b[0;34m(\u001b[0m\u001b[0;34m'foo'\u001b[0m\u001b[0;34m)\u001b[0m\u001b[0;34m\u001b[0m\u001b[0m\n\u001b[1;32m    444\u001b[0m         \"\"\"\n\u001b[0;32m--> 445\u001b[0;31m         \u001b[0;32mreturn\u001b[0m \u001b[0mself\u001b[0m\u001b[0;34m.\u001b[0m\u001b[0mfind_elements\u001b[0m\u001b[0;34m(\u001b[0m\u001b[0mby\u001b[0m\u001b[0;34m=\u001b[0m\u001b[0mBy\u001b[0m\u001b[0;34m.\u001b[0m\u001b[0mCLASS_NAME\u001b[0m\u001b[0;34m,\u001b[0m \u001b[0mvalue\u001b[0m\u001b[0;34m=\u001b[0m\u001b[0mname\u001b[0m\u001b[0;34m)\u001b[0m\u001b[0;34m\u001b[0m\u001b[0m\n\u001b[0m\u001b[1;32m    446\u001b[0m \u001b[0;34m\u001b[0m\u001b[0m\n\u001b[1;32m    447\u001b[0m     \u001b[0;32mdef\u001b[0m \u001b[0mfind_element_by_css_selector\u001b[0m\u001b[0;34m(\u001b[0m\u001b[0mself\u001b[0m\u001b[0;34m,\u001b[0m \u001b[0mcss_selector\u001b[0m\u001b[0;34m)\u001b[0m\u001b[0;34m:\u001b[0m\u001b[0;34m\u001b[0m\u001b[0m\n",
      "\u001b[0;32m/Applications/anaconda/lib/python3.6/site-packages/selenium/webdriver/remote/webdriver.py\u001b[0m in \u001b[0;36mfind_elements\u001b[0;34m(self, by, value)\u001b[0m\n\u001b[1;32m    815\u001b[0m         return self.execute(Command.FIND_ELEMENTS, {\n\u001b[1;32m    816\u001b[0m             \u001b[0;34m'using'\u001b[0m\u001b[0;34m:\u001b[0m \u001b[0mby\u001b[0m\u001b[0;34m,\u001b[0m\u001b[0;34m\u001b[0m\u001b[0m\n\u001b[0;32m--> 817\u001b[0;31m             'value': value})['value']\n\u001b[0m\u001b[1;32m    818\u001b[0m \u001b[0;34m\u001b[0m\u001b[0m\n\u001b[1;32m    819\u001b[0m     \u001b[0;34m@\u001b[0m\u001b[0mproperty\u001b[0m\u001b[0;34m\u001b[0m\u001b[0m\n",
      "\u001b[0;32m/Applications/anaconda/lib/python3.6/site-packages/selenium/webdriver/remote/webdriver.py\u001b[0m in \u001b[0;36mexecute\u001b[0;34m(self, driver_command, params)\u001b[0m\n\u001b[1;32m    252\u001b[0m \u001b[0;34m\u001b[0m\u001b[0m\n\u001b[1;32m    253\u001b[0m         \u001b[0mparams\u001b[0m \u001b[0;34m=\u001b[0m \u001b[0mself\u001b[0m\u001b[0;34m.\u001b[0m\u001b[0m_wrap_value\u001b[0m\u001b[0;34m(\u001b[0m\u001b[0mparams\u001b[0m\u001b[0;34m)\u001b[0m\u001b[0;34m\u001b[0m\u001b[0m\n\u001b[0;32m--> 254\u001b[0;31m         \u001b[0mresponse\u001b[0m \u001b[0;34m=\u001b[0m \u001b[0mself\u001b[0m\u001b[0;34m.\u001b[0m\u001b[0mcommand_executor\u001b[0m\u001b[0;34m.\u001b[0m\u001b[0mexecute\u001b[0m\u001b[0;34m(\u001b[0m\u001b[0mdriver_command\u001b[0m\u001b[0;34m,\u001b[0m \u001b[0mparams\u001b[0m\u001b[0;34m)\u001b[0m\u001b[0;34m\u001b[0m\u001b[0m\n\u001b[0m\u001b[1;32m    255\u001b[0m         \u001b[0;32mif\u001b[0m \u001b[0mresponse\u001b[0m\u001b[0;34m:\u001b[0m\u001b[0;34m\u001b[0m\u001b[0m\n\u001b[1;32m    256\u001b[0m             \u001b[0mself\u001b[0m\u001b[0;34m.\u001b[0m\u001b[0merror_handler\u001b[0m\u001b[0;34m.\u001b[0m\u001b[0mcheck_response\u001b[0m\u001b[0;34m(\u001b[0m\u001b[0mresponse\u001b[0m\u001b[0;34m)\u001b[0m\u001b[0;34m\u001b[0m\u001b[0m\n",
      "\u001b[0;32m/Applications/anaconda/lib/python3.6/site-packages/selenium/webdriver/remote/remote_connection.py\u001b[0m in \u001b[0;36mexecute\u001b[0;34m(self, command, params)\u001b[0m\n\u001b[1;32m    462\u001b[0m         \u001b[0mpath\u001b[0m \u001b[0;34m=\u001b[0m \u001b[0mstring\u001b[0m\u001b[0;34m.\u001b[0m\u001b[0mTemplate\u001b[0m\u001b[0;34m(\u001b[0m\u001b[0mcommand_info\u001b[0m\u001b[0;34m[\u001b[0m\u001b[0;36m1\u001b[0m\u001b[0;34m]\u001b[0m\u001b[0;34m)\u001b[0m\u001b[0;34m.\u001b[0m\u001b[0msubstitute\u001b[0m\u001b[0;34m(\u001b[0m\u001b[0mparams\u001b[0m\u001b[0;34m)\u001b[0m\u001b[0;34m\u001b[0m\u001b[0m\n\u001b[1;32m    463\u001b[0m         \u001b[0murl\u001b[0m \u001b[0;34m=\u001b[0m \u001b[0;34m'%s%s'\u001b[0m \u001b[0;34m%\u001b[0m \u001b[0;34m(\u001b[0m\u001b[0mself\u001b[0m\u001b[0;34m.\u001b[0m\u001b[0m_url\u001b[0m\u001b[0;34m,\u001b[0m \u001b[0mpath\u001b[0m\u001b[0;34m)\u001b[0m\u001b[0;34m\u001b[0m\u001b[0m\n\u001b[0;32m--> 464\u001b[0;31m         \u001b[0;32mreturn\u001b[0m \u001b[0mself\u001b[0m\u001b[0;34m.\u001b[0m\u001b[0m_request\u001b[0m\u001b[0;34m(\u001b[0m\u001b[0mcommand_info\u001b[0m\u001b[0;34m[\u001b[0m\u001b[0;36m0\u001b[0m\u001b[0;34m]\u001b[0m\u001b[0;34m,\u001b[0m \u001b[0murl\u001b[0m\u001b[0;34m,\u001b[0m \u001b[0mbody\u001b[0m\u001b[0;34m=\u001b[0m\u001b[0mdata\u001b[0m\u001b[0;34m)\u001b[0m\u001b[0;34m\u001b[0m\u001b[0m\n\u001b[0m\u001b[1;32m    465\u001b[0m \u001b[0;34m\u001b[0m\u001b[0m\n\u001b[1;32m    466\u001b[0m     \u001b[0;32mdef\u001b[0m \u001b[0m_request\u001b[0m\u001b[0;34m(\u001b[0m\u001b[0mself\u001b[0m\u001b[0;34m,\u001b[0m \u001b[0mmethod\u001b[0m\u001b[0;34m,\u001b[0m \u001b[0murl\u001b[0m\u001b[0;34m,\u001b[0m \u001b[0mbody\u001b[0m\u001b[0;34m=\u001b[0m\u001b[0;32mNone\u001b[0m\u001b[0;34m)\u001b[0m\u001b[0;34m:\u001b[0m\u001b[0;34m\u001b[0m\u001b[0m\n",
      "\u001b[0;32m/Applications/anaconda/lib/python3.6/site-packages/selenium/webdriver/remote/remote_connection.py\u001b[0m in \u001b[0;36m_request\u001b[0;34m(self, method, url, body)\u001b[0m\n\u001b[1;32m    485\u001b[0m                 \u001b[0mbody\u001b[0m \u001b[0;34m=\u001b[0m \u001b[0;32mNone\u001b[0m\u001b[0;34m\u001b[0m\u001b[0m\n\u001b[1;32m    486\u001b[0m             \u001b[0;32mtry\u001b[0m\u001b[0;34m:\u001b[0m\u001b[0;34m\u001b[0m\u001b[0m\n\u001b[0;32m--> 487\u001b[0;31m                 \u001b[0mself\u001b[0m\u001b[0;34m.\u001b[0m\u001b[0m_conn\u001b[0m\u001b[0;34m.\u001b[0m\u001b[0mrequest\u001b[0m\u001b[0;34m(\u001b[0m\u001b[0mmethod\u001b[0m\u001b[0;34m,\u001b[0m \u001b[0mparsed_url\u001b[0m\u001b[0;34m.\u001b[0m\u001b[0mpath\u001b[0m\u001b[0;34m,\u001b[0m \u001b[0mbody\u001b[0m\u001b[0;34m,\u001b[0m \u001b[0mheaders\u001b[0m\u001b[0;34m)\u001b[0m\u001b[0;34m\u001b[0m\u001b[0m\n\u001b[0m\u001b[1;32m    488\u001b[0m                 \u001b[0mresp\u001b[0m \u001b[0;34m=\u001b[0m \u001b[0mself\u001b[0m\u001b[0;34m.\u001b[0m\u001b[0m_conn\u001b[0m\u001b[0;34m.\u001b[0m\u001b[0mgetresponse\u001b[0m\u001b[0;34m(\u001b[0m\u001b[0;34m)\u001b[0m\u001b[0;34m\u001b[0m\u001b[0m\n\u001b[1;32m    489\u001b[0m             \u001b[0;32mexcept\u001b[0m \u001b[0;34m(\u001b[0m\u001b[0mhttplib\u001b[0m\u001b[0;34m.\u001b[0m\u001b[0mHTTPException\u001b[0m\u001b[0;34m,\u001b[0m \u001b[0msocket\u001b[0m\u001b[0;34m.\u001b[0m\u001b[0merror\u001b[0m\u001b[0;34m)\u001b[0m\u001b[0;34m:\u001b[0m\u001b[0;34m\u001b[0m\u001b[0m\n",
      "\u001b[0;32m/Applications/anaconda/lib/python3.6/http/client.py\u001b[0m in \u001b[0;36mrequest\u001b[0;34m(self, method, url, body, headers, encode_chunked)\u001b[0m\n\u001b[1;32m   1237\u001b[0m                 encode_chunked=False):\n\u001b[1;32m   1238\u001b[0m         \u001b[0;34m\"\"\"Send a complete request to the server.\"\"\"\u001b[0m\u001b[0;34m\u001b[0m\u001b[0m\n\u001b[0;32m-> 1239\u001b[0;31m         \u001b[0mself\u001b[0m\u001b[0;34m.\u001b[0m\u001b[0m_send_request\u001b[0m\u001b[0;34m(\u001b[0m\u001b[0mmethod\u001b[0m\u001b[0;34m,\u001b[0m \u001b[0murl\u001b[0m\u001b[0;34m,\u001b[0m \u001b[0mbody\u001b[0m\u001b[0;34m,\u001b[0m \u001b[0mheaders\u001b[0m\u001b[0;34m,\u001b[0m \u001b[0mencode_chunked\u001b[0m\u001b[0;34m)\u001b[0m\u001b[0;34m\u001b[0m\u001b[0m\n\u001b[0m\u001b[1;32m   1240\u001b[0m \u001b[0;34m\u001b[0m\u001b[0m\n\u001b[1;32m   1241\u001b[0m     \u001b[0;32mdef\u001b[0m \u001b[0m_send_request\u001b[0m\u001b[0;34m(\u001b[0m\u001b[0mself\u001b[0m\u001b[0;34m,\u001b[0m \u001b[0mmethod\u001b[0m\u001b[0;34m,\u001b[0m \u001b[0murl\u001b[0m\u001b[0;34m,\u001b[0m \u001b[0mbody\u001b[0m\u001b[0;34m,\u001b[0m \u001b[0mheaders\u001b[0m\u001b[0;34m,\u001b[0m \u001b[0mencode_chunked\u001b[0m\u001b[0;34m)\u001b[0m\u001b[0;34m:\u001b[0m\u001b[0;34m\u001b[0m\u001b[0m\n",
      "\u001b[0;32m/Applications/anaconda/lib/python3.6/http/client.py\u001b[0m in \u001b[0;36m_send_request\u001b[0;34m(self, method, url, body, headers, encode_chunked)\u001b[0m\n\u001b[1;32m   1283\u001b[0m             \u001b[0;31m# default charset of iso-8859-1.\u001b[0m\u001b[0;34m\u001b[0m\u001b[0;34m\u001b[0m\u001b[0m\n\u001b[1;32m   1284\u001b[0m             \u001b[0mbody\u001b[0m \u001b[0;34m=\u001b[0m \u001b[0m_encode\u001b[0m\u001b[0;34m(\u001b[0m\u001b[0mbody\u001b[0m\u001b[0;34m,\u001b[0m \u001b[0;34m'body'\u001b[0m\u001b[0;34m)\u001b[0m\u001b[0;34m\u001b[0m\u001b[0m\n\u001b[0;32m-> 1285\u001b[0;31m         \u001b[0mself\u001b[0m\u001b[0;34m.\u001b[0m\u001b[0mendheaders\u001b[0m\u001b[0;34m(\u001b[0m\u001b[0mbody\u001b[0m\u001b[0;34m,\u001b[0m \u001b[0mencode_chunked\u001b[0m\u001b[0;34m=\u001b[0m\u001b[0mencode_chunked\u001b[0m\u001b[0;34m)\u001b[0m\u001b[0;34m\u001b[0m\u001b[0m\n\u001b[0m\u001b[1;32m   1286\u001b[0m \u001b[0;34m\u001b[0m\u001b[0m\n\u001b[1;32m   1287\u001b[0m     \u001b[0;32mdef\u001b[0m \u001b[0mgetresponse\u001b[0m\u001b[0;34m(\u001b[0m\u001b[0mself\u001b[0m\u001b[0;34m)\u001b[0m\u001b[0;34m:\u001b[0m\u001b[0;34m\u001b[0m\u001b[0m\n",
      "\u001b[0;32m/Applications/anaconda/lib/python3.6/http/client.py\u001b[0m in \u001b[0;36mendheaders\u001b[0;34m(self, message_body, encode_chunked)\u001b[0m\n\u001b[1;32m   1232\u001b[0m         \u001b[0;32melse\u001b[0m\u001b[0;34m:\u001b[0m\u001b[0;34m\u001b[0m\u001b[0m\n\u001b[1;32m   1233\u001b[0m             \u001b[0;32mraise\u001b[0m \u001b[0mCannotSendHeader\u001b[0m\u001b[0;34m(\u001b[0m\u001b[0;34m)\u001b[0m\u001b[0;34m\u001b[0m\u001b[0m\n\u001b[0;32m-> 1234\u001b[0;31m         \u001b[0mself\u001b[0m\u001b[0;34m.\u001b[0m\u001b[0m_send_output\u001b[0m\u001b[0;34m(\u001b[0m\u001b[0mmessage_body\u001b[0m\u001b[0;34m,\u001b[0m \u001b[0mencode_chunked\u001b[0m\u001b[0;34m=\u001b[0m\u001b[0mencode_chunked\u001b[0m\u001b[0;34m)\u001b[0m\u001b[0;34m\u001b[0m\u001b[0m\n\u001b[0m\u001b[1;32m   1235\u001b[0m \u001b[0;34m\u001b[0m\u001b[0m\n\u001b[1;32m   1236\u001b[0m     def request(self, method, url, body=None, headers={}, *,\n",
      "\u001b[0;32m/Applications/anaconda/lib/python3.6/http/client.py\u001b[0m in \u001b[0;36m_send_output\u001b[0;34m(self, message_body, encode_chunked)\u001b[0m\n\u001b[1;32m   1024\u001b[0m         \u001b[0mmsg\u001b[0m \u001b[0;34m=\u001b[0m \u001b[0;34mb\"\\r\\n\"\u001b[0m\u001b[0;34m.\u001b[0m\u001b[0mjoin\u001b[0m\u001b[0;34m(\u001b[0m\u001b[0mself\u001b[0m\u001b[0;34m.\u001b[0m\u001b[0m_buffer\u001b[0m\u001b[0;34m)\u001b[0m\u001b[0;34m\u001b[0m\u001b[0m\n\u001b[1;32m   1025\u001b[0m         \u001b[0;32mdel\u001b[0m \u001b[0mself\u001b[0m\u001b[0;34m.\u001b[0m\u001b[0m_buffer\u001b[0m\u001b[0;34m[\u001b[0m\u001b[0;34m:\u001b[0m\u001b[0;34m]\u001b[0m\u001b[0;34m\u001b[0m\u001b[0m\n\u001b[0;32m-> 1026\u001b[0;31m         \u001b[0mself\u001b[0m\u001b[0;34m.\u001b[0m\u001b[0msend\u001b[0m\u001b[0;34m(\u001b[0m\u001b[0mmsg\u001b[0m\u001b[0;34m)\u001b[0m\u001b[0;34m\u001b[0m\u001b[0m\n\u001b[0m\u001b[1;32m   1027\u001b[0m \u001b[0;34m\u001b[0m\u001b[0m\n\u001b[1;32m   1028\u001b[0m         \u001b[0;32mif\u001b[0m \u001b[0mmessage_body\u001b[0m \u001b[0;32mis\u001b[0m \u001b[0;32mnot\u001b[0m \u001b[0;32mNone\u001b[0m\u001b[0;34m:\u001b[0m\u001b[0;34m\u001b[0m\u001b[0m\n",
      "\u001b[0;32m/Applications/anaconda/lib/python3.6/http/client.py\u001b[0m in \u001b[0;36msend\u001b[0;34m(self, data)\u001b[0m\n\u001b[1;32m    962\u001b[0m         \u001b[0;32mif\u001b[0m \u001b[0mself\u001b[0m\u001b[0;34m.\u001b[0m\u001b[0msock\u001b[0m \u001b[0;32mis\u001b[0m \u001b[0;32mNone\u001b[0m\u001b[0;34m:\u001b[0m\u001b[0;34m\u001b[0m\u001b[0m\n\u001b[1;32m    963\u001b[0m             \u001b[0;32mif\u001b[0m \u001b[0mself\u001b[0m\u001b[0;34m.\u001b[0m\u001b[0mauto_open\u001b[0m\u001b[0;34m:\u001b[0m\u001b[0;34m\u001b[0m\u001b[0m\n\u001b[0;32m--> 964\u001b[0;31m                 \u001b[0mself\u001b[0m\u001b[0;34m.\u001b[0m\u001b[0mconnect\u001b[0m\u001b[0;34m(\u001b[0m\u001b[0;34m)\u001b[0m\u001b[0;34m\u001b[0m\u001b[0m\n\u001b[0m\u001b[1;32m    965\u001b[0m             \u001b[0;32melse\u001b[0m\u001b[0;34m:\u001b[0m\u001b[0;34m\u001b[0m\u001b[0m\n\u001b[1;32m    966\u001b[0m                 \u001b[0;32mraise\u001b[0m \u001b[0mNotConnected\u001b[0m\u001b[0;34m(\u001b[0m\u001b[0;34m)\u001b[0m\u001b[0;34m\u001b[0m\u001b[0m\n",
      "\u001b[0;32m/Applications/anaconda/lib/python3.6/http/client.py\u001b[0m in \u001b[0;36mconnect\u001b[0;34m(self)\u001b[0m\n\u001b[1;32m    934\u001b[0m         \u001b[0;34m\"\"\"Connect to the host and port specified in __init__.\"\"\"\u001b[0m\u001b[0;34m\u001b[0m\u001b[0m\n\u001b[1;32m    935\u001b[0m         self.sock = self._create_connection(\n\u001b[0;32m--> 936\u001b[0;31m             (self.host,self.port), self.timeout, self.source_address)\n\u001b[0m\u001b[1;32m    937\u001b[0m         \u001b[0mself\u001b[0m\u001b[0;34m.\u001b[0m\u001b[0msock\u001b[0m\u001b[0;34m.\u001b[0m\u001b[0msetsockopt\u001b[0m\u001b[0;34m(\u001b[0m\u001b[0msocket\u001b[0m\u001b[0;34m.\u001b[0m\u001b[0mIPPROTO_TCP\u001b[0m\u001b[0;34m,\u001b[0m \u001b[0msocket\u001b[0m\u001b[0;34m.\u001b[0m\u001b[0mTCP_NODELAY\u001b[0m\u001b[0;34m,\u001b[0m \u001b[0;36m1\u001b[0m\u001b[0;34m)\u001b[0m\u001b[0;34m\u001b[0m\u001b[0m\n\u001b[1;32m    938\u001b[0m \u001b[0;34m\u001b[0m\u001b[0m\n",
      "\u001b[0;32m/Applications/anaconda/lib/python3.6/socket.py\u001b[0m in \u001b[0;36mcreate_connection\u001b[0;34m(address, timeout, source_address)\u001b[0m\n\u001b[1;32m    720\u001b[0m \u001b[0;34m\u001b[0m\u001b[0m\n\u001b[1;32m    721\u001b[0m     \u001b[0;32mif\u001b[0m \u001b[0merr\u001b[0m \u001b[0;32mis\u001b[0m \u001b[0;32mnot\u001b[0m \u001b[0;32mNone\u001b[0m\u001b[0;34m:\u001b[0m\u001b[0;34m\u001b[0m\u001b[0m\n\u001b[0;32m--> 722\u001b[0;31m         \u001b[0;32mraise\u001b[0m \u001b[0merr\u001b[0m\u001b[0;34m\u001b[0m\u001b[0m\n\u001b[0m\u001b[1;32m    723\u001b[0m     \u001b[0;32melse\u001b[0m\u001b[0;34m:\u001b[0m\u001b[0;34m\u001b[0m\u001b[0m\n\u001b[1;32m    724\u001b[0m         \u001b[0;32mraise\u001b[0m \u001b[0merror\u001b[0m\u001b[0;34m(\u001b[0m\u001b[0;34m\"getaddrinfo returns an empty list\"\u001b[0m\u001b[0;34m)\u001b[0m\u001b[0;34m\u001b[0m\u001b[0m\n",
      "\u001b[0;32m/Applications/anaconda/lib/python3.6/socket.py\u001b[0m in \u001b[0;36mcreate_connection\u001b[0;34m(address, timeout, source_address)\u001b[0m\n\u001b[1;32m    711\u001b[0m             \u001b[0;32mif\u001b[0m \u001b[0msource_address\u001b[0m\u001b[0;34m:\u001b[0m\u001b[0;34m\u001b[0m\u001b[0m\n\u001b[1;32m    712\u001b[0m                 \u001b[0msock\u001b[0m\u001b[0;34m.\u001b[0m\u001b[0mbind\u001b[0m\u001b[0;34m(\u001b[0m\u001b[0msource_address\u001b[0m\u001b[0;34m)\u001b[0m\u001b[0;34m\u001b[0m\u001b[0m\n\u001b[0;32m--> 713\u001b[0;31m             \u001b[0msock\u001b[0m\u001b[0;34m.\u001b[0m\u001b[0mconnect\u001b[0m\u001b[0;34m(\u001b[0m\u001b[0msa\u001b[0m\u001b[0;34m)\u001b[0m\u001b[0;34m\u001b[0m\u001b[0m\n\u001b[0m\u001b[1;32m    714\u001b[0m             \u001b[0;32mreturn\u001b[0m \u001b[0msock\u001b[0m\u001b[0;34m\u001b[0m\u001b[0m\n\u001b[1;32m    715\u001b[0m \u001b[0;34m\u001b[0m\u001b[0m\n",
      "\u001b[0;31mConnectionRefusedError\u001b[0m: [Errno 61] Connection refused"
     ]
    }
   ],
   "source": [
    "divs=driver.find_elements_by_class_name('poster_container')\n",
    "links = []\n",
    "\n",
    "for d in divs:\n",
    "    link=d.find_element_by_tag_name('a')\n",
    "    links.append(link.get_attribute('href'))\n",
    "links"
   ]
  },
  {
   "cell_type": "markdown",
   "metadata": {},
   "source": [
    "__Get list of all titles.__"
   ]
  },
  {
   "cell_type": "code",
   "execution_count": 11,
   "metadata": {},
   "outputs": [
    {
     "data": {
      "text/plain": [
       "1489"
      ]
     },
     "execution_count": 11,
     "metadata": {},
     "output_type": "execute_result"
    }
   ],
   "source": [
    "titles = driver.find_elements_by_class_name(\"movieTitle\")\n",
    "tits = []\n",
    "for title in titles:\n",
    "    tits.append(title.text)\n",
    "len(tits)"
   ]
  },
  {
   "cell_type": "markdown",
   "metadata": {},
   "source": [
    "__Add the lists to a df and inspect whether correspondencies are correct.__"
   ]
  },
  {
   "cell_type": "code",
   "execution_count": 18,
   "metadata": {},
   "outputs": [],
   "source": [
    "all_data = pd.DataFrame()\n",
    "\n",
    "all_data['title'] = tits\n",
    "all_data['url'] = links"
   ]
  },
  {
   "cell_type": "code",
   "execution_count": 19,
   "metadata": {},
   "outputs": [
    {
     "data": {
      "text/html": [
       "<div>\n",
       "<style>\n",
       "    .dataframe thead tr:only-child th {\n",
       "        text-align: right;\n",
       "    }\n",
       "\n",
       "    .dataframe thead th {\n",
       "        text-align: left;\n",
       "    }\n",
       "\n",
       "    .dataframe tbody tr th {\n",
       "        vertical-align: top;\n",
       "    }\n",
       "</style>\n",
       "<table border=\"1\" class=\"dataframe\">\n",
       "  <thead>\n",
       "    <tr style=\"text-align: right;\">\n",
       "      <th></th>\n",
       "      <th>title</th>\n",
       "      <th>url</th>\n",
       "    </tr>\n",
       "  </thead>\n",
       "  <tbody>\n",
       "    <tr>\n",
       "      <th>0</th>\n",
       "      <td>Resident Evil: The Final Chapter</td>\n",
       "      <td>https://www.rottentomatoes.com/m/resident_evil...</td>\n",
       "    </tr>\n",
       "    <tr>\n",
       "      <th>1</th>\n",
       "      <td>Passengers</td>\n",
       "      <td>https://www.rottentomatoes.com/m/passengers_2016</td>\n",
       "    </tr>\n",
       "    <tr>\n",
       "      <th>2</th>\n",
       "      <td>Beauty And The Beast (La Belle Et La Bête)</td>\n",
       "      <td>https://www.rottentomatoes.com/m/beauty_and_th...</td>\n",
       "    </tr>\n",
       "    <tr>\n",
       "      <th>3</th>\n",
       "      <td>Fantastic Beasts And Where To Find Them</td>\n",
       "      <td>https://www.rottentomatoes.com/m/fantastic_bea...</td>\n",
       "    </tr>\n",
       "    <tr>\n",
       "      <th>4</th>\n",
       "      <td>Absolutely Anything</td>\n",
       "      <td>https://www.rottentomatoes.com/m/absolutely_an...</td>\n",
       "    </tr>\n",
       "  </tbody>\n",
       "</table>\n",
       "</div>"
      ],
      "text/plain": [
       "                                        title  \\\n",
       "0            Resident Evil: The Final Chapter   \n",
       "1                                  Passengers   \n",
       "2  Beauty And The Beast (La Belle Et La Bête)   \n",
       "3     Fantastic Beasts And Where To Find Them   \n",
       "4                         Absolutely Anything   \n",
       "\n",
       "                                                 url  \n",
       "0  https://www.rottentomatoes.com/m/resident_evil...  \n",
       "1   https://www.rottentomatoes.com/m/passengers_2016  \n",
       "2  https://www.rottentomatoes.com/m/beauty_and_th...  \n",
       "3  https://www.rottentomatoes.com/m/fantastic_bea...  \n",
       "4  https://www.rottentomatoes.com/m/absolutely_an...  "
      ]
     },
     "execution_count": 19,
     "metadata": {},
     "output_type": "execute_result"
    }
   ],
   "source": [
    "all_data.head()"
   ]
  },
  {
   "cell_type": "code",
   "execution_count": 125,
   "metadata": {},
   "outputs": [
    {
     "data": {
      "text/html": [
       "<div>\n",
       "<style>\n",
       "    .dataframe thead tr:only-child th {\n",
       "        text-align: right;\n",
       "    }\n",
       "\n",
       "    .dataframe thead th {\n",
       "        text-align: left;\n",
       "    }\n",
       "\n",
       "    .dataframe tbody tr th {\n",
       "        vertical-align: top;\n",
       "    }\n",
       "</style>\n",
       "<table border=\"1\" class=\"dataframe\">\n",
       "  <thead>\n",
       "    <tr style=\"text-align: right;\">\n",
       "      <th></th>\n",
       "      <th>title</th>\n",
       "      <th>url</th>\n",
       "    </tr>\n",
       "  </thead>\n",
       "  <tbody>\n",
       "    <tr>\n",
       "      <th>1484</th>\n",
       "      <td>The Canterville Ghost</td>\n",
       "      <td>https://www.rottentomatoes.com/m/the_cantervil...</td>\n",
       "    </tr>\n",
       "    <tr>\n",
       "      <th>1485</th>\n",
       "      <td>Abbott And Costello Meet The Invisible Man</td>\n",
       "      <td>https://www.rottentomatoes.com/m/abbott_and_co...</td>\n",
       "    </tr>\n",
       "    <tr>\n",
       "      <th>1486</th>\n",
       "      <td>The Borrower</td>\n",
       "      <td>https://www.rottentomatoes.com/m/borrower</td>\n",
       "    </tr>\n",
       "    <tr>\n",
       "      <th>1487</th>\n",
       "      <td>Ghost Of Frankenstein</td>\n",
       "      <td>https://www.rottentomatoes.com/m/ghost_of_fran...</td>\n",
       "    </tr>\n",
       "    <tr>\n",
       "      <th>1488</th>\n",
       "      <td>Frankenstein And The Monster From Hell</td>\n",
       "      <td>https://www.rottentomatoes.com/m/frankenstein_...</td>\n",
       "    </tr>\n",
       "  </tbody>\n",
       "</table>\n",
       "</div>"
      ],
      "text/plain": [
       "                                           title  \\\n",
       "1484                       The Canterville Ghost   \n",
       "1485  Abbott And Costello Meet The Invisible Man   \n",
       "1486                                The Borrower   \n",
       "1487                       Ghost Of Frankenstein   \n",
       "1488      Frankenstein And The Monster From Hell   \n",
       "\n",
       "                                                    url  \n",
       "1484  https://www.rottentomatoes.com/m/the_cantervil...  \n",
       "1485  https://www.rottentomatoes.com/m/abbott_and_co...  \n",
       "1486          https://www.rottentomatoes.com/m/borrower  \n",
       "1487  https://www.rottentomatoes.com/m/ghost_of_fran...  \n",
       "1488  https://www.rottentomatoes.com/m/frankenstein_...  "
      ]
     },
     "execution_count": 125,
     "metadata": {},
     "output_type": "execute_result"
    }
   ],
   "source": [
    "all_data.tail()"
   ]
  },
  {
   "cell_type": "markdown",
   "metadata": {},
   "source": [
    "Correspondencies are correct.  \n",
    "One mystery: I only get 1489 movies, while in the driver supposedly 1528 are exposed. No idea why that is. The last movie I have in the df is the last one in the driver."
   ]
  },
  {
   "cell_type": "markdown",
   "metadata": {},
   "source": [
    "Pickle it!"
   ]
  },
  {
   "cell_type": "code",
   "execution_count": 21,
   "metadata": {
    "collapsed": true
   },
   "outputs": [],
   "source": [
    "all_data.to_pickle('/Users/aleksandra/ds/metis/project_luther/all_data.pkl')"
   ]
  },
  {
   "cell_type": "markdown",
   "metadata": {},
   "source": [
    "# Part two: get more detailed info on all movies.\n",
    "\n",
    "I did the second part both with Selenium and with Scrapy. One problem was that the same Xpaths didn't retrieve the same things in each package. Who knows why.  \n",
    "Hypothesis: Scrapy can also deal with invisible things. For instace, in the Tomatometer, you can choose to view all critics or top critics. Selenium will only scrape all critics, Scrapy will scrape both."
   ]
  },
  {
   "cell_type": "markdown",
   "metadata": {},
   "source": [
    "## *Selenium*"
   ]
  },
  {
   "cell_type": "markdown",
   "metadata": {},
   "source": [
    "## First step: get all the xpaths to the info I need.\n",
    "\n",
    "These xpaths lead to the node that contain the text that I need. "
   ]
  },
  {
   "cell_type": "code",
   "execution_count": 126,
   "metadata": {},
   "outputs": [],
   "source": [
    "score_c = ('score_c', '//a[@id=\"tomato_meter_link\"]/span[2]/span')\n",
    "rating_c = ('rating_c', '//*[@id=\"scoreStats\"]/div[1]')\n",
    "n_reviews_c = ('n_reviews_c', '//div[@id=\"scoreStats\"]/div[2]/span[2]')\n",
    "fresh_c = ('fresh_c','//*[@id=\"scoreStats\"]/div[3]/span[2]')\n",
    "rotten_c = ('rotten_c', '//*[@id=\"scoreStats\"]/div[4]/span[2]')\n",
    "score_u = ('score_u', '//*[@id=\"scorePanel\"]/div[2]/div[1]/a/div/div[2]/div[1]/span')\n",
    "rating_u = ('rating_u', '//*[@id=\"scorePanel\"]/div[2]/div[2]/div[1]')\n",
    "n_reviews_u = ('n_reviews_u', '//*[@id=\"scorePanel\"]/div[2]/div[2]/div[2]')\n",
    "director = ('director','//*[@id=\"mainColumn\"]/section[3]/div/div/ul/li[3]/div[2]/a')\n",
    "box_office = ('box_office', '//div[contains(text(),\"Box Office:\") and not(descendant::*)]//following-sibling::div')\n",
    "runtime = ('runtime', '//*[@id=\"mainColumn\"]/section[3]/div/div/ul/li[8]/div[2]/time')\n",
    "in_theatre = ('in_theatre', '//*[@id=\"mainColumn\"]/section[3]/div/div/ul/li[5]/div[2]/time')\n",
    "on_disc = ('on_disc', '//*[@id=\"mainColumn\"]/section[3]/div/div/ul/li[6]/div[2]/time')\n",
    "audience = ('audience', '//*[@id=\"mainColumn\"]/section[3]/div/div/ul/li[1]/div[2]')\n",
    "studio = ('studio', '//*[@id=\"mainColumn\"]/section[3]/div/div/ul/li[9]/div[2]/a')"
   ]
  },
  {
   "cell_type": "code",
   "execution_count": 127,
   "metadata": {},
   "outputs": [],
   "source": [
    "variables = [score_c, rating_c, n_reviews_c, fresh_c, rotten_c, score_u, rating_u, n_reviews_u, director, \n",
    "            box_office, runtime, in_theatre, on_disc, audience, studio]"
   ]
  },
  {
   "cell_type": "markdown",
   "metadata": {},
   "source": [
    "## Second step: go to each url in the driver and retrieve the info.\n",
    "\n",
    "The info will be stored in a dictionary with the url as key and a list of (variable, value) in the values. This dictionary will be merged with the df containing titles and urls later on."
   ]
  },
  {
   "cell_type": "code",
   "execution_count": null,
   "metadata": {},
   "outputs": [],
   "source": [
    "all_ratings = {}\n",
    "# in final code, remove the slicing for links. I only use a slice to test whether the code works.\n",
    "# sometimes not all variables are specified for a certain movie, so a try + except clause is needed.\n",
    "    \n",
    "for link in all_data.url:\n",
    "    driver.get(link)\n",
    "    info = []\n",
    "    for (name, var) in variables:\n",
    "        try:\n",
    "            text = driver.find_element_by_xpath(var).text\n",
    "            info.append((name, text))\n",
    "        except:\n",
    "            info.append((name, np.nan))\n",
    "    all_ratings[link] = info"
   ]
  },
  {
   "cell_type": "code",
   "execution_count": 118,
   "metadata": {},
   "outputs": [
    {
     "data": {
      "text/plain": [
       "{'https://www.rottentomatoes.com/m/beauty_and_the_beast_2014': [('score_c',\n",
       "   '32'),\n",
       "  ('rating_c', 'Average Rating: 4.6/10'),\n",
       "  ('n_reviews_c', '19'),\n",
       "  ('fresh_c', '6'),\n",
       "  ('rotten_c', '13'),\n",
       "  ('score_u', '53%'),\n",
       "  ('rating_u', 'Average Rating: 3.3/5'),\n",
       "  ('n_reviews_u', 'User Ratings: 3,682'),\n",
       "  ('director', 'Christophe Gans'),\n",
       "  ('box_office', nan),\n",
       "  ('runtime', nan),\n",
       "  ('in_theatre', 'Sep 23, 2016'),\n",
       "  ('on_disc', 'Feb 21, 2017'),\n",
       "  ('audience',\n",
       "   'PG-13 (for some action violence, peril and frightening images)'),\n",
       "  ('studio', nan)],\n",
       " 'https://www.rottentomatoes.com/m/passengers_2016': [('score_c', '31'),\n",
       "  ('rating_c', 'Average Rating: 4.9/10'),\n",
       "  ('n_reviews_c', '229'),\n",
       "  ('fresh_c', '70'),\n",
       "  ('rotten_c', '159'),\n",
       "  ('score_u', '63%'),\n",
       "  ('rating_u', 'Average Rating: 3.5/5'),\n",
       "  ('n_reviews_u', 'User Ratings: 52,572'),\n",
       "  ('director', 'Morten Tyldum'),\n",
       "  ('box_office', '$100,014,092'),\n",
       "  ('runtime', '116 minutes'),\n",
       "  ('in_theatre', 'Dec 21, 2016'),\n",
       "  ('on_disc', 'Mar 14, 2017'),\n",
       "  ('audience', 'PG-13 (for sexuality, nudity and action/peril)'),\n",
       "  ('studio', 'Columbia Pictures')],\n",
       " 'https://www.rottentomatoes.com/m/resident_evil_the_final_chapter': [('score_c',\n",
       "   '35'),\n",
       "  ('rating_c', 'Average Rating: 4.4/10'),\n",
       "  ('n_reviews_c', '85'),\n",
       "  ('fresh_c', '30'),\n",
       "  ('rotten_c', '55'),\n",
       "  ('score_u', '51%'),\n",
       "  ('rating_u', 'Average Rating: 3.3/5'),\n",
       "  ('n_reviews_u', 'User Ratings: 58,509'),\n",
       "  ('director', 'Paul W.S. Anderson'),\n",
       "  ('box_office', '$26,844,692'),\n",
       "  ('runtime', '106 minutes'),\n",
       "  ('in_theatre', 'Jan 27, 2017'),\n",
       "  ('on_disc', 'May 16, 2017'),\n",
       "  ('audience', 'R (for sequences of violence throughout)'),\n",
       "  ('studio', 'Sony Pictures')]}"
      ]
     },
     "execution_count": 118,
     "metadata": {},
     "output_type": "execute_result"
    }
   ],
   "source": [
    "all_ratings"
   ]
  },
  {
   "cell_type": "code",
   "execution_count": 132,
   "metadata": {},
   "outputs": [
    {
     "data": {
      "text/plain": [
       "734"
      ]
     },
     "execution_count": 132,
     "metadata": {},
     "output_type": "execute_result"
    }
   ],
   "source": [
    "len(all_ratings)\n",
    "# Ok, before being kicked of I got 734 movies done. Not bad."
   ]
  },
  {
   "cell_type": "markdown",
   "metadata": {},
   "source": [
    "Pickle it! "
   ]
  },
  {
   "cell_type": "code",
   "execution_count": 129,
   "metadata": {
    "collapsed": true
   },
   "outputs": [],
   "source": [
    "import pickle"
   ]
  },
  {
   "cell_type": "code",
   "execution_count": 130,
   "metadata": {
    "collapsed": true
   },
   "outputs": [],
   "source": [
    "pickle.dump(all_ratings, open(\"all_ratings.pkl\", \"wb\"))"
   ]
  },
  {
   "cell_type": "markdown",
   "metadata": {},
   "source": [
    "## *Scrapy*"
   ]
  },
  {
   "cell_type": "markdown",
   "metadata": {},
   "source": [
    "## First step: get all the xpaths\n",
    "\n",
    "Through the scrapy terminal, test how to get each necessary piece of information."
   ]
  },
  {
   "cell_type": "code",
   "execution_count": null,
   "metadata": {},
   "outputs": [],
   "source": [
    "score_c = response.xpath('//a[@id=\"tomato_meter_link\"]/span/span/text()').extract_first()\n",
    "rating_c = response.xpath('//*[@id=\"scoreStats\"]/div[1]/text()').extract()[1].strip()\n",
    "n_reviews_c = response.xpath('//*[@id=\"scoreStats\"]/div[2]/span[2]/text()').extract()[0]\n",
    "fresh_c = response.xpath('//*[@id=\"scoreStats\"]/div[3]/span[2]/text()').extract()[0]\n",
    "rotten_c = esponse.xpath('//*[@id=\"scoreStats\"]/div[4]/span[2]/text()').extract()[0]\n",
    "score_u = response.xpath('//*[@id=\"scorePanel\"]/div[2]/div[1]/a/div/div[2]/div[1]/span/text()').extract()[0]\n",
    "rating_u = response.xpath('//*[@id=\"scorePanel\"]/div[2]/div[2]/div[1]/text()').extract()[1].strip()\n",
    "n_reviews_u = response.xpath('//*[@id=\"scorePanel\"]/div[2]/div[2]/div[2]/text()').extract()[1].strip()\n",
    "director = response.xpath('//*[@id=\"mainColumn\"]/section[3]/div/div/ul/li[3]/div[2]/a/text()').extract()[0]\n",
    "box_office = response.xpath('//div[contains(text(),\"Box Office:\") and not(descendant::*)]//following-sibling::div/text()').extract_first()\n",
    "runtime = response.xpath('//*[@id=\"mainColumn\"]/section[3]/div/div/ul/li[8]/div[2]/time/text()').extract()[0].strip()\n",
    "in_theatre = response.xpath('//*[@id=\"mainColumn\"]/section[3]/div/div/ul/li[5]/div[2]/time/text()').extract()[0]\n",
    "on_disc = response.xpath('//*[@id=\"mainColumn\"]/section[3]/div/div/ul/li[6]/div[2]/time/text()').extract()[0]\n",
    "audience = esponse.xpath('//*[@id=\"mainColumn\"]/section[3]/div/div/ul/li[1]/div[2]/text()').extract()[0]\n",
    "studio = response.xpath('//*[@id=\"mainColumn\"]/section[3]/div/div/ul/li[9]/div[2]/a/text()').extract()[0]"
   ]
  },
  {
   "cell_type": "markdown",
   "metadata": {},
   "source": [
    "## Second step: create Spider"
   ]
  },
  {
   "cell_type": "markdown",
   "metadata": {},
   "source": [
    "Scrapy is smart enough to just skip whatever it can't find, so unlike as with Selenium, no try-except clauses are necessary. "
   ]
  },
  {
   "cell_type": "code",
   "execution_count": null,
   "metadata": {
    "collapsed": true
   },
   "outputs": [],
   "source": [
    "import scrapy\n",
    "import numpy as np\n",
    "import pandas as pd\n",
    "\n",
    "\n",
    "class ExampleSpider(scrapy.Spider):\n",
    "    name = 'rotten_spider2'\n",
    "\n",
    "    custom_settings = {\n",
    "        \"DOWNLOAD_DELAY\": 3,\n",
    "        \"CONCURRENT_REQUESTS_PER_DOMAIN\": 3,\n",
    "        \"HTTPCACHE_ENABLED\": True\n",
    "    }\n",
    "\n",
    "    df = pd.read_pickle('/Users/aleksandra/ds/metis/project_luther/all_data.pkl')\n",
    "    start_urls = df.url.tolist()\n",
    "\n",
    "    def parse(self, response):\n",
    "        url = response.url\n",
    "        score_c = response.xpath('//a[@id=\"tomato_meter_link\"]/span/span/text()').extract_first()\n",
    "        rating_c = response.xpath('//*[contains(text(), \"Average Rating\")]/following-sibling::text()').extract_first().strip()\n",
    "        n_reviews_c = response.xpath('//*[contains(text(), \"Reviews Counted\")]/following-sibling::span/text()').extract_first()\n",
    "        fresh_c = response.xpath('//*[contains(text(), \"Fresh\")]/following-sibling::span/text()').extract_first()\n",
    "        rotten_c = response.xpath('//*[contains(text(), \"Rotten\")]/following-sibling::span/text()').extract_first()\n",
    "        score_u = response.xpath('//div[@class=\"meter-value\"]/span/text()').extract_first()\n",
    "        rating_u = response.xpath('//*[contains(text(), \"Average Rating\")]/following-sibling::text()').extract()[1].strip()\n",
    "        n_reviews_u = response.xpath('//*[contains(text(), \"User Ratings\")]/following-sibling::text()').extract_first().strip()\n",
    "        director = response.xpath('//*[contains(text(), \"Directed By\")]/following-sibling::div/a/text()').extract_first()\n",
    "        box_office = response.xpath('//*[contains(text(), \"Box Office:\")]/following-sibling::div/text()').extract_first()\n",
    "        runtime = response.xpath('//*[contains(text(), \"Runtime\")]/following-sibling::div/time/@datetime').extract_first()\n",
    "        in_theatre = response.xpath('//*[contains(text(), \"In Theaters\")]/following-sibling::div/time/@datetime').extract_first()\n",
    "        on_disc = response.xpath('//*[contains(text(), \"On Disc\")]/following-sibling::div/time/@datetime').extract_first()\n",
    "        audience = response.xpath('//*[contains(text(), \"Rating\")]/following-sibling::div/text()').extract_first()\n",
    "        studio = response.xpath('//*[contains(text(), \"Studio\")]/following-sibling::div/a/text()').extract_first()\n",
    "\n",
    "        yield {\n",
    "            'url': url,\n",
    "            'score_c': score_c,\n",
    "            'rating_c': rating_c,\n",
    "            'n_reviews_c' : n_reviews_c,\n",
    "            'fresh_c': fresh_c,\n",
    "            'rotten_c': rotten_c,\n",
    "            'score_u':score_u,\n",
    "            'rating_u': rating_u,\n",
    "            'n_reviews_u': n_reviews_u,\n",
    "            'director': director,\n",
    "            'box_office': box_office,\n",
    "            'runtime': runtime,\n",
    "            'in_theatre': in_theatre,\n",
    "            'on_disc': on_disc,\n",
    "            'audience': audience,\n",
    "            'studio': studio}\n",
    "\n"
   ]
  },
  {
   "cell_type": "markdown",
   "metadata": {},
   "source": [
    "Run the script and save as csv!"
   ]
  },
  {
   "cell_type": "markdown",
   "metadata": {},
   "source": [
    "**Debugging:** with the first script (rotten_spider.py), I used indexes in the xpaths to find the right node. However, Rotten Tomatoes does not have a uniform structure. When certain variables are not present, the nodes are simply not present in the html, and indexing changes. As a consequence, I had a lot of None in the data which shouldn't have been None. I solved this by finding nodes by text (ex. \"Box Office\") and specify the path to the wanted variable from there. If the text node is not on the page (and hence the variable that I want isn't there either), Scrapy yields None and continues with the next response.  \n",
    "\n",
    "**Lesson learned:** avoid using indexes in the xpaths, make use of things that are less likely to vary."
   ]
  },
  {
   "cell_type": "code",
   "execution_count": null,
   "metadata": {
    "collapsed": true
   },
   "outputs": [],
   "source": []
  }
 ],
 "metadata": {
  "kernelspec": {
   "display_name": "Python 3",
   "language": "python",
   "name": "python3"
  },
  "language_info": {
   "codemirror_mode": {
    "name": "ipython",
    "version": 3
   },
   "file_extension": ".py",
   "mimetype": "text/x-python",
   "name": "python",
   "nbconvert_exporter": "python",
   "pygments_lexer": "ipython3",
   "version": "3.6.1"
  }
 },
 "nbformat": 4,
 "nbformat_minor": 2
}
